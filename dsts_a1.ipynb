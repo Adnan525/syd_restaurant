{
 "cells": [
  {
   "cell_type": "code",
   "execution_count": 11,
   "id": "662d7cc2",
   "metadata": {},
   "outputs": [],
   "source": [
    "import warnings\n",
    "warnings.filterwarnings(\"ignore\")"
   ]
  },
  {
   "cell_type": "code",
   "execution_count": 12,
   "id": "e04ed4dc",
   "metadata": {},
   "outputs": [],
   "source": [
    "import numpy as np\n",
    "import pandas as pd\n",
    "import geopandas\n",
    "from shapely.geometry import Point"
   ]
  },
  {
   "cell_type": "code",
   "execution_count": 13,
   "id": "1196299d",
   "metadata": {},
   "outputs": [],
   "source": [
    "df = pd.read_csv(\"data/zomato_df_final_data.csv\")"
   ]
  },
  {
   "cell_type": "code",
   "execution_count": 14,
   "id": "d1589ee7",
   "metadata": {},
   "outputs": [
    {
     "data": {
      "text/html": [
       "<div>\n",
       "<style scoped>\n",
       "    .dataframe tbody tr th:only-of-type {\n",
       "        vertical-align: middle;\n",
       "    }\n",
       "\n",
       "    .dataframe tbody tr th {\n",
       "        vertical-align: top;\n",
       "    }\n",
       "\n",
       "    .dataframe thead th {\n",
       "        text-align: right;\n",
       "    }\n",
       "</style>\n",
       "<table border=\"1\" class=\"dataframe\">\n",
       "  <thead>\n",
       "    <tr style=\"text-align: right;\">\n",
       "      <th></th>\n",
       "      <th>address</th>\n",
       "      <th>cost</th>\n",
       "      <th>cuisine</th>\n",
       "      <th>lat</th>\n",
       "      <th>link</th>\n",
       "      <th>lng</th>\n",
       "      <th>phone</th>\n",
       "      <th>rating_number</th>\n",
       "      <th>rating_text</th>\n",
       "      <th>subzone</th>\n",
       "      <th>title</th>\n",
       "      <th>type</th>\n",
       "      <th>votes</th>\n",
       "      <th>groupon</th>\n",
       "      <th>color</th>\n",
       "      <th>cost_2</th>\n",
       "      <th>cuisine_color</th>\n",
       "    </tr>\n",
       "  </thead>\n",
       "  <tbody>\n",
       "    <tr>\n",
       "      <th>0</th>\n",
       "      <td>371A Pitt Street, CBD, Sydney</td>\n",
       "      <td>50.0</td>\n",
       "      <td>['Hot Pot', 'Korean BBQ', 'BBQ', 'Korean']</td>\n",
       "      <td>-33.876059</td>\n",
       "      <td>https://www.zomato.com/sydney/sydney-madang-cbd</td>\n",
       "      <td>151.207605</td>\n",
       "      <td>02 8318 0406</td>\n",
       "      <td>4.0</td>\n",
       "      <td>Very Good</td>\n",
       "      <td>CBD</td>\n",
       "      <td>Sydney Madang</td>\n",
       "      <td>['Casual Dining']</td>\n",
       "      <td>1311.0</td>\n",
       "      <td>False</td>\n",
       "      <td>#e15307</td>\n",
       "      <td>5.243902</td>\n",
       "      <td>#6f706b</td>\n",
       "    </tr>\n",
       "    <tr>\n",
       "      <th>1</th>\n",
       "      <td>Shop 7A, 2 Huntley Street, Alexandria, Sydney</td>\n",
       "      <td>80.0</td>\n",
       "      <td>['Cafe', 'Coffee and Tea', 'Salad', 'Poké']</td>\n",
       "      <td>-33.910999</td>\n",
       "      <td>https://www.zomato.com/sydney/the-grounds-of-a...</td>\n",
       "      <td>151.193793</td>\n",
       "      <td>02 9699 2225</td>\n",
       "      <td>4.6</td>\n",
       "      <td>Excellent</td>\n",
       "      <td>The Grounds of Alexandria, Alexandria</td>\n",
       "      <td>The Grounds of Alexandria Cafe</td>\n",
       "      <td>['Café']</td>\n",
       "      <td>3236.0</td>\n",
       "      <td>False</td>\n",
       "      <td>#9c3203</td>\n",
       "      <td>7.560976</td>\n",
       "      <td>#6f706b</td>\n",
       "    </tr>\n",
       "  </tbody>\n",
       "</table>\n",
       "</div>"
      ],
      "text/plain": [
       "                                          address  cost  \\\n",
       "0                   371A Pitt Street, CBD, Sydney  50.0   \n",
       "1   Shop 7A, 2 Huntley Street, Alexandria, Sydney  80.0   \n",
       "\n",
       "                                       cuisine        lat  \\\n",
       "0   ['Hot Pot', 'Korean BBQ', 'BBQ', 'Korean'] -33.876059   \n",
       "1  ['Cafe', 'Coffee and Tea', 'Salad', 'Poké'] -33.910999   \n",
       "\n",
       "                                                link         lng  \\\n",
       "0    https://www.zomato.com/sydney/sydney-madang-cbd  151.207605   \n",
       "1  https://www.zomato.com/sydney/the-grounds-of-a...  151.193793   \n",
       "\n",
       "          phone  rating_number rating_text  \\\n",
       "0  02 8318 0406            4.0   Very Good   \n",
       "1  02 9699 2225            4.6   Excellent   \n",
       "\n",
       "                                 subzone                           title  \\\n",
       "0                                    CBD                   Sydney Madang   \n",
       "1  The Grounds of Alexandria, Alexandria  The Grounds of Alexandria Cafe   \n",
       "\n",
       "                type   votes  groupon    color    cost_2 cuisine_color  \n",
       "0  ['Casual Dining']  1311.0    False  #e15307  5.243902       #6f706b  \n",
       "1           ['Café']  3236.0    False  #9c3203  7.560976       #6f706b  "
      ]
     },
     "execution_count": 14,
     "metadata": {},
     "output_type": "execute_result"
    }
   ],
   "source": [
    "df.head(2)"
   ]
  },
  {
   "cell_type": "code",
   "execution_count": 15,
   "id": "4c679911",
   "metadata": {},
   "outputs": [
    {
     "data": {
      "text/plain": [
       "address           object\n",
       "cost             float64\n",
       "cuisine           object\n",
       "lat              float64\n",
       "link              object\n",
       "lng              float64\n",
       "phone             object\n",
       "rating_number    float64\n",
       "rating_text       object\n",
       "subzone           object\n",
       "title             object\n",
       "type              object\n",
       "votes            float64\n",
       "groupon             bool\n",
       "color             object\n",
       "cost_2           float64\n",
       "cuisine_color     object\n",
       "dtype: object"
      ]
     },
     "execution_count": 15,
     "metadata": {},
     "output_type": "execute_result"
    }
   ],
   "source": [
    "df.dtypes"
   ]
  },
  {
   "cell_type": "code",
   "execution_count": 16,
   "id": "d978ee92",
   "metadata": {},
   "outputs": [
    {
     "data": {
      "text/plain": [
       "address             0\n",
       "cost              346\n",
       "cuisine             0\n",
       "lat               192\n",
       "link                0\n",
       "lng               192\n",
       "phone               0\n",
       "rating_number    3316\n",
       "rating_text      3316\n",
       "subzone             0\n",
       "title               0\n",
       "type               48\n",
       "votes            3316\n",
       "groupon             0\n",
       "color               0\n",
       "cost_2            346\n",
       "cuisine_color       0\n",
       "dtype: int64"
      ]
     },
     "execution_count": 16,
     "metadata": {},
     "output_type": "execute_result"
    }
   ],
   "source": [
    "df.isna().sum()"
   ]
  },
  {
   "cell_type": "markdown",
   "id": "4d72c005-8204-4fba-ab3f-0783718b081c",
   "metadata": {},
   "source": [
    "# How many unique cuisines do sydney restaurants have?"
   ]
  },
  {
   "cell_type": "code",
   "execution_count": 17,
   "id": "30a6e672",
   "metadata": {},
   "outputs": [
    {
     "data": {
      "text/plain": [
       "dtype('O')"
      ]
     },
     "execution_count": 17,
     "metadata": {},
     "output_type": "execute_result"
    }
   ],
   "source": [
    "df[\"cuisine\"].dtype\n",
    "#dtype(\"0\") means object"
   ]
  },
  {
   "cell_type": "code",
   "execution_count": 18,
   "id": "b42e10a8",
   "metadata": {},
   "outputs": [
    {
     "data": {
      "text/plain": [
       "\"['Hot Pot', 'Korean BBQ', 'BBQ', 'Korean']\""
      ]
     },
     "execution_count": 18,
     "metadata": {},
     "output_type": "execute_result"
    }
   ],
   "source": [
    "temp = df[\"cuisine\"][0]\n",
    "temp\n",
    "# string"
   ]
  },
  {
   "cell_type": "markdown",
   "id": "2d1fca55-7c73-4ab4-aa81-509fe1970b28",
   "metadata": {},
   "source": [
    "# Instead of using literal eval, i can use regex to get rid of square brackes, comma and leading space"
   ]
  },
  {
   "cell_type": "code",
   "execution_count": 19,
   "id": "0ab84492",
   "metadata": {},
   "outputs": [],
   "source": [
    "import re\n",
    "# store all cusines in a set\n",
    "cuisines = set()\n",
    "\n",
    "#custom function to check all the values\n",
    "def get_cuisine(str):\n",
    "    pattern = r',\\s*' #removing comma(,) followed by immediate space\n",
    "    cleaned_text = re.sub(pattern, '-', str)\n",
    "    pattern2 = r'[\\'\\[\\],]'\n",
    "    cleaned_text = re.sub(pattern2, \"\", cleaned_text)\n",
    "    temp = cleaned_text.split(\"-\")\n",
    "    for cuisine in temp:\n",
    "        cuisines.add(cuisine)"
   ]
  },
  {
   "cell_type": "markdown",
   "id": "7ed84030",
   "metadata": {},
   "source": [
    "# Sydney restaurants sell the following number of cuisines"
   ]
  },
  {
   "cell_type": "code",
   "execution_count": 20,
   "id": "ccd17191",
   "metadata": {},
   "outputs": [
    {
     "data": {
      "text/plain": [
       "135"
      ]
     },
     "execution_count": 20,
     "metadata": {},
     "output_type": "execute_result"
    }
   ],
   "source": [
    "for value in df[\"cuisine\"]:\n",
    "    get_cuisine(value)\n",
    "len(cuisines)"
   ]
  },
  {
   "cell_type": "markdown",
   "id": "7f31dc0d",
   "metadata": {},
   "source": [
    "# Restaurants in each suburb"
   ]
  },
  {
   "cell_type": "code",
   "execution_count": 21,
   "id": "b5bc0e61",
   "metadata": {},
   "outputs": [
    {
     "data": {
      "text/plain": [
       "subzone\n",
       "CBD            476\n",
       "Surry Hills    260\n",
       "Parramatta     225\n",
       "Name: count, dtype: int64"
      ]
     },
     "execution_count": 21,
     "metadata": {},
     "output_type": "execute_result"
    }
   ],
   "source": [
    "top_3 = df[\"subzone\"].value_counts().sort_values(ascending=False).head(3)\n",
    "top_3"
   ]
  },
  {
   "cell_type": "code",
   "execution_count": 22,
   "id": "d3e68d22",
   "metadata": {},
   "outputs": [
    {
     "data": {
      "image/png": "[encoded data removed]",
      "text/plain": [
       "<Figure size 800x600 with 1 Axes>"
      ]
     },
     "metadata": {},
     "output_type": "display_data"
    }
   ],
   "source": [
    "import matplotlib.pyplot as plt\n",
    "plt.figure(figsize=(8, 6))\n",
    "plt.bar(top_3.index, top_3.values)\n",
    "plt.xlabel('Values')\n",
    "plt.ylabel('Counts')\n",
    "plt.title('Top 3 suburbs with and highest number of restaurants')\n",
    "plt.show()"
   ]
  },
  {
   "cell_type": "markdown",
   "id": "399f7c8b",
   "metadata": {},
   "source": [
    "# Cost vs rating"
   ]
  },
  {
   "cell_type": "code",
   "execution_count": 23,
   "id": "22b49953",
   "metadata": {},
   "outputs": [
    {
     "data": {
      "text/plain": [
       "cost           float64\n",
       "rating_text     object\n",
       "dtype: object"
      ]
     },
     "execution_count": 23,
     "metadata": {},
     "output_type": "execute_result"
    }
   ],
   "source": [
    "cost_rating = df[[\"cost\", \"rating_text\"]]\n",
    "cost_rating.dtypes"
   ]
  },
  {
   "cell_type": "code",
   "execution_count": 24,
   "id": "7f529801",
   "metadata": {},
   "outputs": [
    {
     "data": {
      "text/html": [
       "<div>\n",
       "<style scoped>\n",
       "    .dataframe tbody tr th:only-of-type {\n",
       "        vertical-align: middle;\n",
       "    }\n",
       "\n",
       "    .dataframe tbody tr th {\n",
       "        vertical-align: top;\n",
       "    }\n",
       "\n",
       "    .dataframe thead th {\n",
       "        text-align: right;\n",
       "    }\n",
       "</style>\n",
       "<table border=\"1\" class=\"dataframe\">\n",
       "  <thead>\n",
       "    <tr style=\"text-align: right;\">\n",
       "      <th></th>\n",
       "      <th>rating</th>\n",
       "      <th>average_cost</th>\n",
       "    </tr>\n",
       "  </thead>\n",
       "  <tbody>\n",
       "    <tr>\n",
       "      <th>1</th>\n",
       "      <td>Excellent</td>\n",
       "      <td>101.666667</td>\n",
       "    </tr>\n",
       "    <tr>\n",
       "      <th>4</th>\n",
       "      <td>Very Good</td>\n",
       "      <td>71.515810</td>\n",
       "    </tr>\n",
       "    <tr>\n",
       "      <th>2</th>\n",
       "      <td>Good</td>\n",
       "      <td>59.528114</td>\n",
       "    </tr>\n",
       "    <tr>\n",
       "      <th>3</th>\n",
       "      <td>Poor</td>\n",
       "      <td>55.845771</td>\n",
       "    </tr>\n",
       "    <tr>\n",
       "      <th>0</th>\n",
       "      <td>Average</td>\n",
       "      <td>51.021267</td>\n",
       "    </tr>\n",
       "  </tbody>\n",
       "</table>\n",
       "</div>"
      ],
      "text/plain": [
       "      rating  average_cost\n",
       "1  Excellent    101.666667\n",
       "4  Very Good     71.515810\n",
       "2       Good     59.528114\n",
       "3       Poor     55.845771\n",
       "0    Average     51.021267"
      ]
     },
     "execution_count": 24,
     "metadata": {},
     "output_type": "execute_result"
    }
   ],
   "source": [
    "result_df = df.groupby('rating_text')['cost'].mean().reset_index()\n",
    "result_df.columns = ['rating', 'average_cost']\n",
    "result_df = result_df.sort_values(by='average_cost', ascending=False)\n",
    "result_df"
   ]
  },
  {
   "cell_type": "code",
   "execution_count": 25,
   "id": "9228df28",
   "metadata": {},
   "outputs": [
    {
     "data": {
      "image/png": "[encoded data removed]",
      "text/plain": [
       "<Figure size 800x600 with 1 Axes>"
      ]
     },
     "metadata": {},
     "output_type": "display_data"
    }
   ],
   "source": [
    "plt.figure(figsize=(8, 6))\n",
    "plt.barh(result_df['rating'], result_df['average_cost'], color='skyblue')\n",
    "\n",
    "plt.xlabel('Average Cost')\n",
    "plt.ylabel('Rating')\n",
    "plt.title('Average Cost of each Rating')\n",
    "plt.show()"
   ]
  },
  {
   "cell_type": "markdown",
   "id": "c0c4cf99-f636-437f-94bd-b3cd19365aad",
   "metadata": {},
   "source": [
    "The bar chart above clearly shows restaurant with \"Excellent\" ratings are usually most expensive. On the other hand \"poor\" rating restaurants are rarely expensive"
   ]
  },
  {
   "cell_type": "markdown",
   "id": "3a48f8dc",
   "metadata": {},
   "source": [
    "# Exploratory analysis"
   ]
  },
  {
   "cell_type": "code",
   "execution_count": 26,
   "id": "f25f3805-cc8c-4330-ac61-dde9765124f6",
   "metadata": {},
   "outputs": [
    {
     "name": "stdout",
     "output_type": "stream",
     "text": [
      "<class 'pandas.core.frame.DataFrame'>\n",
      "RangeIndex: 10500 entries, 0 to 10499\n",
      "Data columns (total 17 columns):\n",
      " #   Column         Non-Null Count  Dtype  \n",
      "---  ------         --------------  -----  \n",
      " 0   address        10500 non-null  object \n",
      " 1   cost           10154 non-null  float64\n",
      " 2   cuisine        10500 non-null  object \n",
      " 3   lat            10308 non-null  float64\n",
      " 4   link           10500 non-null  object \n",
      " 5   lng            10308 non-null  float64\n",
      " 6   phone          10500 non-null  object \n",
      " 7   rating_number  7184 non-null   float64\n",
      " 8   rating_text    7184 non-null   object \n",
      " 9   subzone        10500 non-null  object \n",
      " 10  title          10500 non-null  object \n",
      " 11  type           10452 non-null  object \n",
      " 12  votes          7184 non-null   float64\n",
      " 13  groupon        10500 non-null  bool   \n",
      " 14  color          10500 non-null  object \n",
      " 15  cost_2         10154 non-null  float64\n",
      " 16  cuisine_color  10500 non-null  object \n",
      "dtypes: bool(1), float64(6), object(10)\n",
      "memory usage: 1.3+ MB\n"
     ]
    }
   ],
   "source": [
    "df.info()"
   ]
  },
  {
   "cell_type": "code",
   "execution_count": 27,
   "id": "d7ba50f3",
   "metadata": {},
   "outputs": [
    {
     "data": {
      "text/plain": [
       "(['address',\n",
       "  'cuisine',\n",
       "  'link',\n",
       "  'phone',\n",
       "  'rating_text',\n",
       "  'subzone',\n",
       "  'title',\n",
       "  'type',\n",
       "  'color',\n",
       "  'cuisine_color'],\n",
       " ['cost', 'lat', 'lng', 'rating_number', 'votes', 'groupon', 'cost_2'])"
      ]
     },
     "execution_count": 27,
     "metadata": {},
     "output_type": "execute_result"
    }
   ],
   "source": [
    "categorical = [var for var in df.columns if df[var].dtype=='O']\n",
    "numerical = [col for col in df.columns.tolist() if col not in categorical]\n",
    "categorical, numerical"
   ]
  },
  {
   "cell_type": "markdown",
   "id": "910b0ee0-eff9-4adc-86e1-7567e4e8a74d",
   "metadata": {},
   "source": [
    "# Categorical"
   ]
  },
  {
   "cell_type": "code",
   "execution_count": 28,
   "id": "72da64c7-2ae3-44ed-872e-471ac9713ec0",
   "metadata": {},
   "outputs": [
    {
     "data": {
      "text/html": [
       "<div>\n",
       "<style scoped>\n",
       "    .dataframe tbody tr th:only-of-type {\n",
       "        vertical-align: middle;\n",
       "    }\n",
       "\n",
       "    .dataframe tbody tr th {\n",
       "        vertical-align: top;\n",
       "    }\n",
       "\n",
       "    .dataframe thead th {\n",
       "        text-align: right;\n",
       "    }\n",
       "</style>\n",
       "<table border=\"1\" class=\"dataframe\">\n",
       "  <thead>\n",
       "    <tr style=\"text-align: right;\">\n",
       "      <th></th>\n",
       "      <th>address</th>\n",
       "      <th>cuisine</th>\n",
       "      <th>link</th>\n",
       "      <th>phone</th>\n",
       "      <th>rating_text</th>\n",
       "      <th>subzone</th>\n",
       "      <th>title</th>\n",
       "      <th>type</th>\n",
       "      <th>color</th>\n",
       "      <th>cuisine_color</th>\n",
       "    </tr>\n",
       "  </thead>\n",
       "  <tbody>\n",
       "    <tr>\n",
       "      <th>0</th>\n",
       "      <td>371A Pitt Street, CBD, Sydney</td>\n",
       "      <td>['Hot Pot', 'Korean BBQ', 'BBQ', 'Korean']</td>\n",
       "      <td>https://www.zomato.com/sydney/sydney-madang-cbd</td>\n",
       "      <td>02 8318 0406</td>\n",
       "      <td>Very Good</td>\n",
       "      <td>CBD</td>\n",
       "      <td>Sydney Madang</td>\n",
       "      <td>['Casual Dining']</td>\n",
       "      <td>#e15307</td>\n",
       "      <td>#6f706b</td>\n",
       "    </tr>\n",
       "    <tr>\n",
       "      <th>1</th>\n",
       "      <td>Shop 7A, 2 Huntley Street, Alexandria, Sydney</td>\n",
       "      <td>['Cafe', 'Coffee and Tea', 'Salad', 'Poké']</td>\n",
       "      <td>https://www.zomato.com/sydney/the-grounds-of-a...</td>\n",
       "      <td>02 9699 2225</td>\n",
       "      <td>Excellent</td>\n",
       "      <td>The Grounds of Alexandria, Alexandria</td>\n",
       "      <td>The Grounds of Alexandria Cafe</td>\n",
       "      <td>['Café']</td>\n",
       "      <td>#9c3203</td>\n",
       "      <td>#6f706b</td>\n",
       "    </tr>\n",
       "  </tbody>\n",
       "</table>\n",
       "</div>"
      ],
      "text/plain": [
       "                                          address  \\\n",
       "0                   371A Pitt Street, CBD, Sydney   \n",
       "1   Shop 7A, 2 Huntley Street, Alexandria, Sydney   \n",
       "\n",
       "                                       cuisine  \\\n",
       "0   ['Hot Pot', 'Korean BBQ', 'BBQ', 'Korean']   \n",
       "1  ['Cafe', 'Coffee and Tea', 'Salad', 'Poké']   \n",
       "\n",
       "                                                link         phone  \\\n",
       "0    https://www.zomato.com/sydney/sydney-madang-cbd  02 8318 0406   \n",
       "1  https://www.zomato.com/sydney/the-grounds-of-a...  02 9699 2225   \n",
       "\n",
       "  rating_text                                subzone  \\\n",
       "0   Very Good                                    CBD   \n",
       "1   Excellent  The Grounds of Alexandria, Alexandria   \n",
       "\n",
       "                            title               type    color cuisine_color  \n",
       "0                   Sydney Madang  ['Casual Dining']  #e15307       #6f706b  \n",
       "1  The Grounds of Alexandria Cafe           ['Café']  #9c3203       #6f706b  "
      ]
     },
     "execution_count": 28,
     "metadata": {},
     "output_type": "execute_result"
    }
   ],
   "source": [
    "df[categorical].head(2)"
   ]
  },
  {
   "cell_type": "code",
   "execution_count": 29,
   "id": "3a070357-2504-47e7-8b28-c7646d481e1e",
   "metadata": {},
   "outputs": [
    {
     "data": {
      "text/plain": [
       "rating_text    3316\n",
       "type             48\n",
       "dtype: int64"
      ]
     },
     "execution_count": 29,
     "metadata": {},
     "output_type": "execute_result"
    }
   ],
   "source": [
    "cat_with_missing = [var for var in categorical if df[var].isnull().sum() > 0]\n",
    "df[cat_with_missing].isnull().sum()"
   ]
  },
  {
   "cell_type": "code",
   "execution_count": 30,
   "id": "04b8d7af-9e52-40ac-a275-9ecb0bc815ea",
   "metadata": {},
   "outputs": [
    {
     "name": "stdout",
     "output_type": "stream",
     "text": [
      "address  contains  9821  labels.\n",
      "cuisine  contains  1759  labels.\n",
      "link  contains  10499  labels.\n",
      "phone  contains  9638  labels.\n",
      "rating_text  contains  6  labels.\n",
      "subzone  contains  572  labels.\n",
      "title  contains  10407  labels.\n",
      "type  contains  67  labels.\n",
      "color  contains  33  labels.\n",
      "cuisine_color  contains  5  labels.\n"
     ]
    }
   ],
   "source": [
    "for var in categorical:\n",
    "    us = df[var].unique()\n",
    "    print(var, ' contains ', len(us), ' labels.')"
   ]
  },
  {
   "cell_type": "markdown",
   "id": "389cd329-5d4c-4418-b911-9fb6dd9a4997",
   "metadata": {},
   "source": [
    "# Type"
   ]
  },
  {
   "cell_type": "code",
   "execution_count": 31,
   "id": "b852c7bf-3fbb-4a92-8eb8-29e99eeb5319",
   "metadata": {},
   "outputs": [
    {
     "data": {
      "text/plain": [
       "str"
      ]
     },
     "execution_count": 31,
     "metadata": {},
     "output_type": "execute_result"
    }
   ],
   "source": [
    "type(df[\"type\"][0])"
   ]
  },
  {
   "cell_type": "code",
   "execution_count": 32,
   "id": "69e90c03-50a8-4a2f-83e9-7f20d10eaca6",
   "metadata": {},
   "outputs": [
    {
     "data": {
      "text/plain": [
       "48"
      ]
     },
     "execution_count": 32,
     "metadata": {},
     "output_type": "execute_result"
    }
   ],
   "source": [
    "df[\"type\"].isna().sum()"
   ]
  },
  {
   "cell_type": "code",
   "execution_count": 33,
   "id": "4dbb2c91-35d9-4034-96d1-d661cd0411ab",
   "metadata": {},
   "outputs": [],
   "source": [
    "import re\n",
    "types = set()\n",
    "def get_type(str):\n",
    "    pattern = r',\\s*'\n",
    "    cleaned_text = re.sub(pattern, '-', str)\n",
    "    pattern2 = r'[\\'\\[\\],]'\n",
    "    cleaned_text = re.sub(pattern2, \"\", cleaned_text)\n",
    "    temp = cleaned_text.split(\"-\")\n",
    "    for type in temp:\n",
    "        types.add(type)"
   ]
  },
  {
   "cell_type": "code",
   "execution_count": 34,
   "id": "03f88e12-76f3-4245-904f-fb262363d1bb",
   "metadata": {},
   "outputs": [
    {
     "data": {
      "text/plain": [
       "14"
      ]
     },
     "execution_count": 34,
     "metadata": {},
     "output_type": "execute_result"
    }
   ],
   "source": [
    "# getting rid of Nas in type\n",
    "temp = df.dropna(subset = [\"type\"], inplace = True)\n",
    "for value in df[\"type\"]:\n",
    "    get_type(value)\n",
    "len(types)"
   ]
  },
  {
   "cell_type": "markdown",
   "id": "aa19c5d7-c676-4919-a9b5-66a8cc08c50c",
   "metadata": {},
   "source": [
    "# Sydney offers 14 types of restaurants, and they are - "
   ]
  },
  {
   "cell_type": "code",
   "execution_count": 35,
   "id": "e37bf2f5-b034-417b-a1ed-2c1b7ffd4f05",
   "metadata": {},
   "outputs": [
    {
     "data": {
      "text/plain": [
       "{'Bakery',\n",
       " 'Bar',\n",
       " 'Beverage Shop',\n",
       " 'Café',\n",
       " 'Casual Dining',\n",
       " 'Club',\n",
       " 'Dessert Parlour',\n",
       " 'Fast Food',\n",
       " 'Fine Dining',\n",
       " 'Food Court',\n",
       " 'Food Stall',\n",
       " 'Food Truck',\n",
       " 'Pub',\n",
       " 'Wine Bar'}"
      ]
     },
     "execution_count": 35,
     "metadata": {},
     "output_type": "execute_result"
    }
   ],
   "source": [
    "types"
   ]
  },
  {
   "cell_type": "markdown",
   "id": "3d0d40cc-c7fc-447e-9911-f96c4d3f4ba7",
   "metadata": {},
   "source": [
    "# Numeric"
   ]
  },
  {
   "cell_type": "code",
   "execution_count": 36,
   "id": "47c6e743-21c0-4fe9-9139-7adfd6f34aa4",
   "metadata": {},
   "outputs": [
    {
     "data": {
      "text/html": [
       "<div>\n",
       "<style scoped>\n",
       "    .dataframe tbody tr th:only-of-type {\n",
       "        vertical-align: middle;\n",
       "    }\n",
       "\n",
       "    .dataframe tbody tr th {\n",
       "        vertical-align: top;\n",
       "    }\n",
       "\n",
       "    .dataframe thead th {\n",
       "        text-align: right;\n",
       "    }\n",
       "</style>\n",
       "<table border=\"1\" class=\"dataframe\">\n",
       "  <thead>\n",
       "    <tr style=\"text-align: right;\">\n",
       "      <th></th>\n",
       "      <th>cost</th>\n",
       "      <th>lat</th>\n",
       "      <th>lng</th>\n",
       "      <th>rating_number</th>\n",
       "      <th>votes</th>\n",
       "      <th>groupon</th>\n",
       "      <th>cost_2</th>\n",
       "    </tr>\n",
       "  </thead>\n",
       "  <tbody>\n",
       "    <tr>\n",
       "      <th>0</th>\n",
       "      <td>50.0</td>\n",
       "      <td>-33.876059</td>\n",
       "      <td>151.207605</td>\n",
       "      <td>4.0</td>\n",
       "      <td>1311.0</td>\n",
       "      <td>False</td>\n",
       "      <td>5.243902</td>\n",
       "    </tr>\n",
       "    <tr>\n",
       "      <th>1</th>\n",
       "      <td>80.0</td>\n",
       "      <td>-33.910999</td>\n",
       "      <td>151.193793</td>\n",
       "      <td>4.6</td>\n",
       "      <td>3236.0</td>\n",
       "      <td>False</td>\n",
       "      <td>7.560976</td>\n",
       "    </tr>\n",
       "  </tbody>\n",
       "</table>\n",
       "</div>"
      ],
      "text/plain": [
       "   cost        lat         lng  rating_number   votes  groupon    cost_2\n",
       "0  50.0 -33.876059  151.207605            4.0  1311.0    False  5.243902\n",
       "1  80.0 -33.910999  151.193793            4.6  3236.0    False  7.560976"
      ]
     },
     "execution_count": 36,
     "metadata": {},
     "output_type": "execute_result"
    }
   ],
   "source": [
    "df[numerical].head(2)"
   ]
  },
  {
   "cell_type": "code",
   "execution_count": 37,
   "id": "dfd6e672-1b1d-465f-8bc9-f518dc499229",
   "metadata": {},
   "outputs": [
    {
     "data": {
      "text/plain": [
       "cost              338\n",
       "lat               192\n",
       "lng               192\n",
       "rating_number    3289\n",
       "votes            3289\n",
       "groupon             0\n",
       "cost_2            338\n",
       "dtype: int64"
      ]
     },
     "execution_count": 37,
     "metadata": {},
     "output_type": "execute_result"
    }
   ],
   "source": [
    "df[numerical].isnull().sum()"
   ]
  },
  {
   "cell_type": "code",
   "execution_count": 38,
   "id": "ba8d7d14-49f9-494b-a257-2ab1bb4017cc",
   "metadata": {},
   "outputs": [
    {
     "data": {
      "text/html": [
       "<div>\n",
       "<style scoped>\n",
       "    .dataframe tbody tr th:only-of-type {\n",
       "        vertical-align: middle;\n",
       "    }\n",
       "\n",
       "    .dataframe tbody tr th {\n",
       "        vertical-align: top;\n",
       "    }\n",
       "\n",
       "    .dataframe thead th {\n",
       "        text-align: right;\n",
       "    }\n",
       "</style>\n",
       "<table border=\"1\" class=\"dataframe\">\n",
       "  <thead>\n",
       "    <tr style=\"text-align: right;\">\n",
       "      <th></th>\n",
       "      <th>cost</th>\n",
       "      <th>lat</th>\n",
       "      <th>lng</th>\n",
       "      <th>rating_number</th>\n",
       "      <th>votes</th>\n",
       "      <th>cost_2</th>\n",
       "    </tr>\n",
       "  </thead>\n",
       "  <tbody>\n",
       "    <tr>\n",
       "      <th>count</th>\n",
       "      <td>10114.000000</td>\n",
       "      <td>10260.000000</td>\n",
       "      <td>10260.000000</td>\n",
       "      <td>7163.000000</td>\n",
       "      <td>7163.000000</td>\n",
       "      <td>10114.000000</td>\n",
       "    </tr>\n",
       "    <tr>\n",
       "      <th>mean</th>\n",
       "      <td>51.232747</td>\n",
       "      <td>-32.916972</td>\n",
       "      <td>148.053262</td>\n",
       "      <td>3.283736</td>\n",
       "      <td>83.639816</td>\n",
       "      <td>5.339115</td>\n",
       "    </tr>\n",
       "    <tr>\n",
       "      <th>std</th>\n",
       "      <td>27.816523</td>\n",
       "      <td>8.282503</td>\n",
       "      <td>26.756980</td>\n",
       "      <td>0.454518</td>\n",
       "      <td>175.260665</td>\n",
       "      <td>2.148431</td>\n",
       "    </tr>\n",
       "    <tr>\n",
       "      <th>min</th>\n",
       "      <td>8.000000</td>\n",
       "      <td>-37.858473</td>\n",
       "      <td>-123.270371</td>\n",
       "      <td>1.800000</td>\n",
       "      <td>4.000000</td>\n",
       "      <td>2.000000</td>\n",
       "    </tr>\n",
       "    <tr>\n",
       "      <th>25%</th>\n",
       "      <td>30.000000</td>\n",
       "      <td>-33.899089</td>\n",
       "      <td>151.061266</td>\n",
       "      <td>3.000000</td>\n",
       "      <td>12.000000</td>\n",
       "      <td>3.699187</td>\n",
       "    </tr>\n",
       "    <tr>\n",
       "      <th>50%</th>\n",
       "      <td>45.000000</td>\n",
       "      <td>-33.872741</td>\n",
       "      <td>151.172532</td>\n",
       "      <td>3.300000</td>\n",
       "      <td>32.000000</td>\n",
       "      <td>4.857724</td>\n",
       "    </tr>\n",
       "    <tr>\n",
       "      <th>75%</th>\n",
       "      <td>60.000000</td>\n",
       "      <td>-33.813451</td>\n",
       "      <td>151.208957</td>\n",
       "      <td>3.600000</td>\n",
       "      <td>87.000000</td>\n",
       "      <td>6.016260</td>\n",
       "    </tr>\n",
       "    <tr>\n",
       "      <th>max</th>\n",
       "      <td>500.000000</td>\n",
       "      <td>51.500986</td>\n",
       "      <td>152.869052</td>\n",
       "      <td>4.900000</td>\n",
       "      <td>3236.000000</td>\n",
       "      <td>40.000000</td>\n",
       "    </tr>\n",
       "  </tbody>\n",
       "</table>\n",
       "</div>"
      ],
      "text/plain": [
       "               cost           lat           lng  rating_number        votes  \\\n",
       "count  10114.000000  10260.000000  10260.000000    7163.000000  7163.000000   \n",
       "mean      51.232747    -32.916972    148.053262       3.283736    83.639816   \n",
       "std       27.816523      8.282503     26.756980       0.454518   175.260665   \n",
       "min        8.000000    -37.858473   -123.270371       1.800000     4.000000   \n",
       "25%       30.000000    -33.899089    151.061266       3.000000    12.000000   \n",
       "50%       45.000000    -33.872741    151.172532       3.300000    32.000000   \n",
       "75%       60.000000    -33.813451    151.208957       3.600000    87.000000   \n",
       "max      500.000000     51.500986    152.869052       4.900000  3236.000000   \n",
       "\n",
       "             cost_2  \n",
       "count  10114.000000  \n",
       "mean       5.339115  \n",
       "std        2.148431  \n",
       "min        2.000000  \n",
       "25%        3.699187  \n",
       "50%        4.857724  \n",
       "75%        6.016260  \n",
       "max       40.000000  "
      ]
     },
     "execution_count": 38,
     "metadata": {},
     "output_type": "execute_result"
    }
   ],
   "source": [
    "df[numerical].describe()"
   ]
  },
  {
   "cell_type": "code",
   "execution_count": 244,
   "id": "dc559637",
   "metadata": {},
   "outputs": [
    {
     "data": {
      "image/png": "[encoded data removed]",
      "text/plain": [
       "<Figure size 1000x600 with 1 Axes>"
      ]
     },
     "metadata": {},
     "output_type": "display_data"
    },
    {
     "data": {
      "image/png": "[encoded data removed]",
      "text/plain": [
       "<Figure size 1000x600 with 1 Axes>"
      ]
     },
     "metadata": {},
     "output_type": "display_data"
    },
    {
     "name": "stdout",
     "output_type": "stream",
     "text": [
      "Descriptive Statistics for 'cost':\n",
      "count    10154.000000\n",
      "mean        51.153240\n",
      "std         27.799485\n",
      "min          8.000000\n",
      "25%         30.000000\n",
      "50%         45.000000\n",
      "75%         60.000000\n",
      "max        500.000000\n",
      "Name: cost, dtype: float64\n",
      "\n",
      "Descriptive Statistics for 'rating_number':\n",
      "count    7184.000000\n",
      "mean        3.283672\n",
      "std         0.454580\n",
      "min         1.800000\n",
      "25%         3.000000\n",
      "50%         3.300000\n",
      "75%         3.600000\n",
      "max         4.900000\n",
      "Name: rating_number, dtype: float64\n"
     ]
    }
   ],
   "source": [
    "import pandas as pd\n",
    "import matplotlib.pyplot as plt\n",
    "\n",
    "plt.figure(figsize=(10, 6))\n",
    "plt.hist(df[\"cost\"], bins=20, color='skyblue', edgecolor='black')\n",
    "plt.title(\"Distribution of Cost\")\n",
    "plt.xlabel(\"Cost\")\n",
    "plt.ylabel(\"Frequency\")\n",
    "plt.grid(axis='y', alpha=0.75)\n",
    "plt.show()\n",
    "\n",
    "plt.figure(figsize=(10, 6))\n",
    "plt.hist(df[\"rating_number\"], bins=20, color='salmon', edgecolor='black')\n",
    "plt.title(\"Distribution of Rating Number\")\n",
    "plt.xlabel(\"Rating Number\")\n",
    "plt.ylabel(\"Frequency\")\n",
    "plt.grid(axis='y', alpha=0.75)\n",
    "plt.show()\n",
    "\n",
    "\n",
    "cost_description = df[\"cost\"].describe()\n",
    "rating_number_description = df[\"rating_number\"].describe()\n",
    "\n",
    "print(\"Descriptive Statistics for 'cost':\")\n",
    "print(cost_description)\n",
    "\n",
    "print(\"\\nDescriptive Statistics for 'rating_number':\")\n",
    "print(rating_number_description)\n"
   ]
  }
 ],
 "metadata": {
  "kernelspec": {
   "display_name": "Python 3 (ipykernel)",
   "language": "python",
   "name": "python3"
  },
  "language_info": {
   "codemirror_mode": {
    "name": "ipython",
    "version": 3
   },
   "file_extension": ".py",
   "mimetype": "text/x-python",
   "name": "python",
   "nbconvert_exporter": "python",
   "pygments_lexer": "ipython3",
   "version": "3.10.8"
  }
 },
 "nbformat": 4,
 "nbformat_minor": 5
}
