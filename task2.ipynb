{
 "cells": [
  {
   "cell_type": "code",
   "execution_count": 1,
   "id": "dbed088e-5d1b-428c-982c-18e460920177",
   "metadata": {},
   "outputs": [],
   "source": [
    "import warnings\n",
    "warnings.filterwarnings(\"ignore\")"
   ]
  },
  {
   "cell_type": "code",
   "execution_count": 2,
   "id": "085971f7-fd31-424b-8ff0-79481644848c",
   "metadata": {},
   "outputs": [],
   "source": [
    "import numpy as np\n",
    "import pandas as pd\n",
    "import geopandas\n",
    "from shapely.geometry import Point"
   ]
  },
  {
   "cell_type": "code",
   "execution_count": 61,
   "id": "df860de8-fd58-4de7-b418-171b8cf15355",
   "metadata": {},
   "outputs": [],
   "source": [
    "df_full = pd.read_csv(\"data/zomato_df_final_data.csv\")"
   ]
  },
  {
   "cell_type": "code",
   "execution_count": 26,
   "id": "eb25af1c-dc61-4509-9bd3-55f18f1b31f0",
   "metadata": {},
   "outputs": [],
   "source": [
    "# haven't decided what to do with cuisine\n",
    "# everyone has address, link, phone and title\n",
    "# not sure why we have color and cuisine_color\n",
    "# for regression 1 we wont use rating_text\n",
    "# won't need lat and lng cause we will use subzone\n",
    "df = df_full.drop(columns = [\"address\", \"link\", \"phone\", \"title\", \"color\", \"cuisine_color\", \"rating_text\", \"lat\", \"lng\"], axis = 1)"
   ]
  },
  {
   "cell_type": "code",
   "execution_count": 27,
   "id": "e0dfa3db-36c8-4832-a756-517b0a3236bf",
   "metadata": {},
   "outputs": [
    {
     "data": {
      "text/plain": [
       "cost             float64\n",
       "cuisine           object\n",
       "rating_number    float64\n",
       "subzone           object\n",
       "type              object\n",
       "votes            float64\n",
       "groupon             bool\n",
       "cost_2           float64\n",
       "dtype: object"
      ]
     },
     "execution_count": 27,
     "metadata": {},
     "output_type": "execute_result"
    }
   ],
   "source": [
    "df.dtypes"
   ]
  },
  {
   "cell_type": "code",
   "execution_count": 28,
   "id": "01f3d7f0-3026-4900-98d8-ea359f523377",
   "metadata": {},
   "outputs": [],
   "source": [
    "# do some feature engineering\n",
    "# change groupon bool to int\n",
    "df.groupon = df.groupon.astype(int)"
   ]
  },
  {
   "cell_type": "code",
   "execution_count": 29,
   "id": "92912805-9c83-4aab-aa1d-4291fcec92a1",
   "metadata": {},
   "outputs": [
    {
     "data": {
      "text/plain": [
       "cost              346\n",
       "cuisine             0\n",
       "rating_number    3316\n",
       "subzone             0\n",
       "type               48\n",
       "votes            3316\n",
       "groupon             0\n",
       "cost_2            346\n",
       "dtype: int64"
      ]
     },
     "execution_count": 29,
     "metadata": {},
     "output_type": "execute_result"
    }
   ],
   "source": [
    "df.isna().sum()"
   ]
  },
  {
   "cell_type": "markdown",
   "id": "f4fae0cf-7e95-43d8-bd60-8bac0bf7f492",
   "metadata": {},
   "source": [
    "# Using geopy Nominatim to check if I can get lat and lng values for an address from df[\"address\"]"
   ]
  },
  {
   "cell_type": "code",
   "execution_count": 30,
   "id": "109c893b-613a-4296-b976-f8e481cf83d9",
   "metadata": {},
   "outputs": [],
   "source": [
    "# # bringing address to see in helps\n",
    "# df[\"address\"] = df_full[\"address\"]\n",
    "\n",
    "# # check the addresses where lat is na\n",
    "# temp = df[df.lat.isna()]\n",
    "# temp.address"
   ]
  },
  {
   "cell_type": "code",
   "execution_count": 32,
   "id": "aa337cc8-8982-4e69-99d2-958845ce953c",
   "metadata": {},
   "outputs": [],
   "source": [
    "# from geopy.geocoders import Nominatim\n",
    "# from geopy.exc import GeocoderTimedOut"
   ]
  },
  {
   "cell_type": "code",
   "execution_count": 31,
   "id": "ac3d34bf-4d9f-43d1-b582-b839959fd9f7",
   "metadata": {},
   "outputs": [],
   "source": [
    "# i = 0\n",
    "# for address in temp.address : \n",
    "#     print(f\"{i}. address : {address}\")\n",
    "#     i += 1\n",
    "#     try : \n",
    "#         geolocator = Nominatim(user_agent=\"address_to_ssc_code\")\n",
    "#         location = geolocator.geocode(address)\n",
    "#         if location:\n",
    "#             latitude, longitude = location.latitude, location.longitude\n",
    "#             print(f\"Latitude: {latitude}, Longitude: {longitude}\")\n",
    "#         else:\n",
    "#             print(\"Address not found.\")\n",
    "#     except GeocoderTimedOut:\n",
    "#         print(\"Geocoding service timed out. Address not found.\")\n",
    "#     except Exception as e:\n",
    "#         print(f\"An error occurred: Max retries exceeded\")\n",
    "\n",
    "# CHANGE OF PLAN\n",
    "# timeout most of the time, checked until 59 found about 10 addresses"
   ]
  },
  {
   "cell_type": "markdown",
   "id": "cdba0073-4cc7-4438-aa3d-4adcf942eaeb",
   "metadata": {},
   "source": [
    "# Where lat is na, we can split address by \",\" and get the -1 of the resulting array"
   ]
  },
  {
   "cell_type": "code",
   "execution_count": 33,
   "id": "8197eb99-a43e-41b3-b1cb-30b5d681f521",
   "metadata": {},
   "outputs": [],
   "source": [
    "# missing_suburbs = temp.address.apply(lambda x : x.split(\",\")[-1].strip())\n",
    "# missing_suburbs = [suburb.strip() for suburb in missing_suburbs]"
   ]
  },
  {
   "cell_type": "code",
   "execution_count": 34,
   "id": "15c974d1-4607-4c89-8572-c5c9172e5cd4",
   "metadata": {},
   "outputs": [],
   "source": [
    "# missing_suburbs.unique()"
   ]
  },
  {
   "cell_type": "code",
   "execution_count": 36,
   "id": "d0ee22dc-347e-48df-a501-b4c67289d70a",
   "metadata": {},
   "outputs": [],
   "source": [
    "# df.loc[df['lat'].isna(), \"address\"] = df['address'].str.split(\",\").str[-1].str.strip()\n",
    "\n",
    "# CHANGE OF PLAN\n",
    "# Have about 52 uniqe missing_suburb from 192 rows\n",
    "# which is good\n",
    "# but most of them are sydney and cbd which are same\n",
    "# does not get the actual subzone cause some of the addresses are like - 20 Campbell Street, Chinatown, Sydney\n",
    "# got sydney instead of chinatown from the previous example\n",
    "# Hopeless!"
   ]
  },
  {
   "cell_type": "markdown",
   "id": "9c22def2-ae31-43c1-a9a0-9c70fbce6ca0",
   "metadata": {},
   "source": [
    "# If df[\"subzone\"] has \",\" that means the subzone is not correct, we can split by \",\" and get the last part"
   ]
  },
  {
   "cell_type": "code",
   "execution_count": 37,
   "id": "2aeb51ea-8d37-4162-b331-ec8a3a113e03",
   "metadata": {},
   "outputs": [
    {
     "data": {
      "text/plain": [
       "1359"
      ]
     },
     "execution_count": 37,
     "metadata": {},
     "output_type": "execute_result"
    }
   ],
   "source": [
    "# subzone is not suburb or at leats it's not correct for 1359 entries\n",
    "# suburb name dont have comma\n",
    "len(df[df.subzone.str.contains(\",\")])"
   ]
  },
  {
   "cell_type": "code",
   "execution_count": 38,
   "id": "b0a4814e-df17-4992-916f-6f621dbd7fea",
   "metadata": {},
   "outputs": [],
   "source": [
    "df['subzone'] = df['subzone'].apply(lambda x: x.split(',')[-1].strip() if ',' in x else x)"
   ]
  },
  {
   "cell_type": "code",
   "execution_count": 39,
   "id": "27b7844b-27c1-4544-8dd6-4591ca57968a",
   "metadata": {},
   "outputs": [
    {
     "data": {
      "text/plain": [
       "572"
      ]
     },
     "execution_count": 39,
     "metadata": {},
     "output_type": "execute_result"
    }
   ],
   "source": [
    "len(df_full.subzone.unique())"
   ]
  },
  {
   "cell_type": "code",
   "execution_count": 40,
   "id": "7d5bbb67-69d5-48d4-8671-5af72902a0ab",
   "metadata": {},
   "outputs": [
    {
     "data": {
      "text/plain": [
       "339"
      ]
     },
     "execution_count": 40,
     "metadata": {},
     "output_type": "execute_result"
    }
   ],
   "source": [
    "len(df.subzone.unique())"
   ]
  },
  {
   "cell_type": "code",
   "execution_count": 42,
   "id": "d4a9549c-e6a3-49c4-8d67-0d174d8c812c",
   "metadata": {},
   "outputs": [
    {
     "data": {
      "text/plain": [
       "cost              346\n",
       "cuisine             0\n",
       "rating_number    3316\n",
       "subzone             0\n",
       "type               48\n",
       "votes            3316\n",
       "groupon             0\n",
       "cost_2            346\n",
       "dtype: int64"
      ]
     },
     "execution_count": 42,
     "metadata": {},
     "output_type": "execute_result"
    }
   ],
   "source": [
    "df.isna().sum()"
   ]
  },
  {
   "cell_type": "markdown",
   "id": "29c6ae24-3f4a-4f3c-9e66-bc674bd98979",
   "metadata": {},
   "source": [
    "# Converting subzone to numeric value for the regression"
   ]
  },
  {
   "cell_type": "code",
   "execution_count": 69,
   "id": "241086d0-585c-4443-a97f-a458b6a978e5",
   "metadata": {},
   "outputs": [],
   "source": [
    "from sklearn.preprocessing import LabelEncoder\n",
    "label_encoder = LabelEncoder()\n",
    "df['subzone_encoded'] = label_encoder.fit_transform(df['subzone'])\n",
    "df = df.drop(columns = [\"subzone\"], axis = 1)"
   ]
  },
  {
   "cell_type": "markdown",
   "id": "26e5a3be-5919-4dc6-bfde-d7bc2e6048ef",
   "metadata": {},
   "source": [
    "# Will drop rows that has missing rating_number, if i do mediano or mean or mode, the model will be biased"
   ]
  },
  {
   "cell_type": "code",
   "execution_count": 43,
   "id": "6debf743-1553-4d26-a90b-b63133e5154e",
   "metadata": {},
   "outputs": [],
   "source": [
    "df.dropna(subset=['rating_number'], inplace=True)"
   ]
  },
  {
   "cell_type": "code",
   "execution_count": 45,
   "id": "5a2123da-307c-46ee-b9fb-6d852368899d",
   "metadata": {},
   "outputs": [
    {
     "data": {
      "text/plain": [
       "cost             103\n",
       "cuisine            0\n",
       "rating_number      0\n",
       "subzone            0\n",
       "type              21\n",
       "votes              0\n",
       "groupon            0\n",
       "cost_2           103\n",
       "dtype: int64"
      ]
     },
     "execution_count": 45,
     "metadata": {},
     "output_type": "execute_result"
    }
   ],
   "source": [
    "df.isna().sum()"
   ]
  },
  {
   "cell_type": "markdown",
   "id": "4bed0d85-fbb8-406d-a68f-d80d8d27ee7d",
   "metadata": {},
   "source": [
    "# Replacing na in \"cost\" and \"cost_2\" with mean cost of the restaurants in that suburb"
   ]
  },
  {
   "cell_type": "code",
   "execution_count": 47,
   "id": "22a17175-7693-48b0-a90e-6531794ad3ec",
   "metadata": {},
   "outputs": [],
   "source": [
    "df['cost'] = df.groupby('subzone')['cost'].transform(lambda x: x.fillna(x.mean()))\n",
    "df['cost_2'] = df.groupby('subzone')['cost_2'].transform(lambda x: x.fillna(x.mean()))"
   ]
  },
  {
   "cell_type": "code",
   "execution_count": 50,
   "id": "703a0c4d-2ad0-49c7-9223-3bfcd67a2491",
   "metadata": {},
   "outputs": [
    {
     "data": {
      "text/plain": [
       "cost                          51.441718\n",
       "cuisine          ['Chinese', 'Sichuan']\n",
       "rating_number                       3.8\n",
       "subzone                       Chinatown\n",
       "type                  ['Casual Dining']\n",
       "votes                              40.0\n",
       "groupon                               0\n",
       "cost_2                         5.355255\n",
       "Name: 793, dtype: object"
      ]
     },
     "execution_count": 50,
     "metadata": {},
     "output_type": "execute_result"
    }
   ],
   "source": [
    "# just verifying\n",
    "df.loc[793]"
   ]
  },
  {
   "cell_type": "markdown",
   "id": "3300607c-401e-4729-a357-69b7c16e7066",
   "metadata": {},
   "source": [
    "# Dropping cuisine cause 135 one-hot-encoding is not reasonable, also rating is not so much related to cuisine"
   ]
  },
  {
   "cell_type": "code",
   "execution_count": 53,
   "id": "619707cc-2d7f-47d0-9281-7267172747e8",
   "metadata": {},
   "outputs": [],
   "source": [
    "df = df.drop(columns = [\"cuisine\"])"
   ]
  },
  {
   "cell_type": "code",
   "execution_count": 55,
   "id": "87653b66-ac30-4e8c-93c9-805f05ab4a87",
   "metadata": {},
   "outputs": [
    {
     "data": {
      "text/plain": [
       "cost              0\n",
       "rating_number     0\n",
       "subzone           0\n",
       "type             21\n",
       "votes             0\n",
       "groupon           0\n",
       "cost_2            0\n",
       "dtype: int64"
      ]
     },
     "execution_count": 55,
     "metadata": {},
     "output_type": "execute_result"
    }
   ],
   "source": [
    "df.isna().sum()"
   ]
  },
  {
   "cell_type": "markdown",
   "id": "2d08a08b-6824-486d-9aa9-fbe536d203b8",
   "metadata": {},
   "source": [
    "# Fix up type and do one-hot-encoding"
   ]
  },
  {
   "cell_type": "code",
   "execution_count": 57,
   "id": "bada0baf-9757-49ee-96ce-1bdcb12a1d91",
   "metadata": {},
   "outputs": [],
   "source": [
    "# filling na with most common type\n",
    "most_frequent = df[\"type\"].mode()[0]\n",
    "df[\"type\"].fillna(most_frequent, inplace=True)"
   ]
  },
  {
   "cell_type": "code",
   "execution_count": 58,
   "id": "91f79bd5-18e9-4cd2-875b-572cee3da5e2",
   "metadata": {},
   "outputs": [],
   "source": [
    "import re\n",
    "types = set()\n",
    "\n",
    "#custom function to check all the values\n",
    "def get_type(str):\n",
    "    pattern = r',\\s*' #removing comma(,) followed by immediate space\n",
    "    cleaned_text = re.sub(pattern, '-', str)\n",
    "    pattern2 = r'[\\'\\[\\],]'\n",
    "    cleaned_text = re.sub(pattern2, \"\", cleaned_text)\n",
    "    temp = cleaned_text.split(\"-\")\n",
    "    for type in temp:\n",
    "        types.add(type)"
   ]
  },
  {
   "cell_type": "code",
   "execution_count": 65,
   "id": "d354b811-6eca-494d-80d4-34e4164d3275",
   "metadata": {},
   "outputs": [
    {
     "data": {
      "text/plain": [
       "13"
      ]
     },
     "execution_count": 65,
     "metadata": {},
     "output_type": "execute_result"
    }
   ],
   "source": [
    "for value in df[\"type\"]:\n",
    "    get_type(value)\n",
    "len(types)\n",
    "\n",
    "# I HAD 14 TYPES BEFORE REMOVING RATING_NUMBER\n",
    "# MISSING FOOD STALL"
   ]
  },
  {
   "cell_type": "code",
   "execution_count": 66,
   "id": "c4a4d5cb-d239-4591-bb28-1b9c9ace7e35",
   "metadata": {},
   "outputs": [
    {
     "data": {
      "text/plain": [
       "array([\"['Casual Dining']\", \"['Café']\", \"['Bar', 'Fine Dining']\",\n",
       "       \"['Fast Food']\", \"['Casual Dining', 'Bar']\",\n",
       "       \"['Café', 'Casual Dining']\", \"['Dessert Parlour', 'Bakery']\",\n",
       "       \"['Pub', 'Bar']\", \"['Casual Dining', 'Fast Food']\",\n",
       "       \"['Fine Dining', 'Wine Bar']\", \"['Food Court']\", \"['Bar']\",\n",
       "       \"['Casual Dining', 'Café']\", \"['Pub']\", \"['Fine Dining']\",\n",
       "       \"['Dessert Parlour', 'Café']\", \"['Food Court', 'Café']\",\n",
       "       \"['Bar', 'Casual Dining']\", \"['Bakery', 'Café']\",\n",
       "       \"['Café', 'Bar']\", \"['Café', 'Dessert Parlour']\",\n",
       "       \"['Fast Food', 'Food Court']\", \"['Café', 'Bakery']\",\n",
       "       \"['Food Truck']\", nan, \"['Café', 'Wine Bar']\",\n",
       "       \"['Club', 'Casual Dining']\", \"['Bakery']\", \"['Beverage Shop']\",\n",
       "       \"['Fine Dining', 'Bar']\", \"['Café', 'Food Court']\",\n",
       "       \"['Dessert Parlour']\", \"['Casual Dining', 'Food Stall']\",\n",
       "       \"['Wine Bar']\", \"['Club']\", \"['Bar', 'Club']\",\n",
       "       \"['Food Court', 'Casual Dining']\", \"['Pub', 'Casual Dining']\",\n",
       "       \"['Bar', 'Wine Bar']\", \"['Casual Dining', 'Pub']\",\n",
       "       \"['Casual Dining', 'Food Court']\", \"['Fast Food', 'Bar']\",\n",
       "       \"['Bakery', 'Food Court']\", \"['Bar', 'Café']\",\n",
       "       \"['Café', 'Fast Food']\", \"['Fast Food', 'Casual Dining']\",\n",
       "       \"['Bakery', 'Casual Dining']\", \"['Fast Food', 'Food Truck']\",\n",
       "       \"['Club', 'Bar']\", \"['Casual Dining', 'Dessert Parlour']\",\n",
       "       \"['Beverage Shop', 'Dessert Parlour']\",\n",
       "       \"['Casual Dining', 'Wine Bar']\", \"['Food Stall']\",\n",
       "       \"['Bar', 'Pub']\", \"['Food Court', 'Beverage Shop']\"], dtype=object)"
      ]
     },
     "execution_count": 66,
     "metadata": {},
     "output_type": "execute_result"
    }
   ],
   "source": [
    "df_full.loc[df_full.rating_number.isna(), \"type\"].unique()"
   ]
  },
  {
   "cell_type": "code",
   "execution_count": 67,
   "id": "3a1bd3a9-2246-4c9e-82dd-703d6bd0b5ea",
   "metadata": {},
   "outputs": [
    {
     "data": {
      "text/plain": [
       "array([\"['Casual Dining']\", \"['Café']\", \"['Fine Dining']\",\n",
       "       \"['Fine Dining', 'Bar']\", \"['Casual Dining', 'Dessert Parlour']\",\n",
       "       \"['Fine Dining', 'Wine Bar']\", \"['Casual Dining', 'Wine Bar']\",\n",
       "       \"['Casual Dining', 'Bar']\", \"['Fast Food']\", \"['Café', 'Bakery']\",\n",
       "       \"['Casual Dining', 'Café']\", \"['Bar']\",\n",
       "       \"['Bakery', 'Dessert Parlour']\", \"['Bar', 'Wine Bar']\",\n",
       "       \"['Food Court']\", \"['Dessert Parlour', 'Café']\",\n",
       "       \"['Bar', 'Casual Dining']\", \"['Bakery', 'Pub']\",\n",
       "       \"['Café', 'Casual Dining']\", \"['Café', 'Bar']\",\n",
       "       \"['Casual Dining', 'Pub']\", \"['Bakery', 'Café']\", \"['Food Truck']\",\n",
       "       \"['Café', 'Dessert Parlour']\", \"['Dessert Parlour']\", \"['Pub']\",\n",
       "       \"['Pub', 'Casual Dining']\", \"['Dessert Parlour', 'Bakery']\",\n",
       "       \"['Café', 'Wine Bar']\", \"['Pub', 'Wine Bar']\",\n",
       "       \"['Food Court', 'Casual Dining']\", \"['Wine Bar', 'Casual Dining']\",\n",
       "       \"['Casual Dining', 'Food Court']\", \"['Club', 'Bar']\",\n",
       "       \"['Casual Dining', 'Bakery']\", \"['Bar', 'Pub']\", \"['Bar', 'Café']\",\n",
       "       \"['Pub', 'Bar']\", \"['Beverage Shop']\", \"['Bakery']\",\n",
       "       \"['Wine Bar']\", \"['Casual Dining', 'Fast Food']\", \"['Club']\",\n",
       "       \"['Dessert Parlour', 'Food Court']\", \"['Café', 'Food Court']\",\n",
       "       \"['Pub', 'Club']\", \"['Café', 'Beverage Shop']\",\n",
       "       \"['Food Court', 'Café']\", \"['Fast Food', 'Food Court']\",\n",
       "       \"['Food Court', 'Fast Food']\", \"['Club', 'Pub']\",\n",
       "       \"['Bar', 'Club']\", \"['Dessert Parlour', 'Fast Food']\",\n",
       "       \"['Beverage Shop', 'Food Court']\"], dtype=object)"
      ]
     },
     "execution_count": 67,
     "metadata": {},
     "output_type": "execute_result"
    }
   ],
   "source": [
    "df.type.unique()"
   ]
  },
  {
   "cell_type": "code",
   "execution_count": 60,
   "id": "ec6b8b98-36eb-4c2e-beea-5458a6406b68",
   "metadata": {},
   "outputs": [
    {
     "data": {
      "text/plain": [
       "{'Bakery',\n",
       " 'Bar',\n",
       " 'Beverage Shop',\n",
       " 'Café',\n",
       " 'Casual Dining',\n",
       " 'Club',\n",
       " 'Dessert Parlour',\n",
       " 'Fast Food',\n",
       " 'Fine Dining',\n",
       " 'Food Court',\n",
       " 'Food Truck',\n",
       " 'Pub',\n",
       " 'Wine Bar'}"
      ]
     },
     "execution_count": 60,
     "metadata": {},
     "output_type": "execute_result"
    }
   ],
   "source": [
    "types"
   ]
  },
  {
   "cell_type": "code",
   "execution_count": 68,
   "id": "ac79ed08-ce15-4497-bf8c-29176f72c9e4",
   "metadata": {},
   "outputs": [],
   "source": [
    "# one hot encoding\n",
    "for dining_type in types:\n",
    "    df[f\"is_{dining_type}\"] = df['type'].apply(lambda x: 1 if dining_type in x else 0)\n",
    "df.drop('type', axis=1, inplace=True)"
   ]
  },
  {
   "cell_type": "markdown",
   "id": "b37029b9-6a62-4cfa-b8bd-1a6fb794ead3",
   "metadata": {},
   "source": [
    "# Regression model 1"
   ]
  },
  {
   "cell_type": "code",
   "execution_count": 70,
   "id": "79756ec9-e7a6-4b5e-ad64-f325f4c252f7",
   "metadata": {},
   "outputs": [
    {
     "name": "stdout",
     "output_type": "stream",
     "text": [
      "Mean Squared Error: 0.1469842497479085\n",
      "R-squared: 0.2539999238616345\n"
     ]
    }
   ],
   "source": [
    "from sklearn.model_selection import train_test_split\n",
    "from sklearn.linear_model import LinearRegression\n",
    "from sklearn.metrics import mean_squared_error, r2_score\n",
    "\n",
    "\n",
    "# X,y\n",
    "X = df.drop(columns=['rating_number'])  # Features\n",
    "y = df['rating_number']  # Target\n",
    "\n",
    "X_train, X_test, y_train, y_test = train_test_split(X, y, test_size=0.2, random_state=0)\n",
    "\n",
    "model_regression_1 = LinearRegression()\n",
    "model_regression_1.fit(X_train, y_train)\n",
    "\n",
    "# predictions\n",
    "y_pred = model_regression_1.predict(X_test)\n",
    "\n",
    "# Evaluate\n",
    "mse = mean_squared_error(y_test, y_pred)\n",
    "r2 = r2_score(y_test, y_pred)\n",
    "\n",
    "print(\"Mean Squared Error:\", mse)\n",
    "print(\"R-squared:\", r2)"
   ]
  },
  {
   "cell_type": "markdown",
   "id": "33590fe7-1700-47b4-8126-144bc284ff69",
   "metadata": {},
   "source": [
    "# Regression model 2, will need to apply standardization for gradient descent"
   ]
  },
  {
   "cell_type": "code",
   "execution_count": 71,
   "id": "1faa3c38-7b4d-4e24-b41f-5fcea94912ff",
   "metadata": {},
   "outputs": [
    {
     "name": "stdout",
     "output_type": "stream",
     "text": [
      "Mean Squared Error: 0.1491078750935937\n",
      "R-squared: 0.24322173046820894\n"
     ]
    }
   ],
   "source": [
    "from sklearn.linear_model import SGDRegressor\n",
    "from sklearn.preprocessing import StandardScaler\n",
    "\n",
    "# Standardize the features\n",
    "scaler = StandardScaler()\n",
    "X_train_scaled = scaler.fit_transform(X_train)\n",
    "X_test_scaled = scaler.transform(X_test)\n",
    "\n",
    "model_regression_2 = SGDRegressor(loss=\"squared_error\", max_iter=1000, random_state=0)\n",
    "model_regression_2.fit(X_train_scaled, y_train)\n",
    "\n",
    "y_pred = model_regression_2.predict(X_test_scaled)\n",
    "\n",
    "mse = mean_squared_error(y_test, y_pred)\n",
    "r2 = r2_score(y_test, y_pred)\n",
    "\n",
    "print(\"Mean Squared Error:\", mse)\n",
    "print(\"R-squared:\", r2)"
   ]
  }
 ],
 "metadata": {
  "kernelspec": {
   "display_name": "Python 3 (ipykernel)",
   "language": "python",
   "name": "python3"
  },
  "language_info": {
   "codemirror_mode": {
    "name": "ipython",
    "version": 3
   },
   "file_extension": ".py",
   "mimetype": "text/x-python",
   "name": "python",
   "nbconvert_exporter": "python",
   "pygments_lexer": "ipython3",
   "version": "3.10.8"
  }
 },
 "nbformat": 4,
 "nbformat_minor": 5
}
