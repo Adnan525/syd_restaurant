{
 "cells": [
  {
   "cell_type": "code",
   "execution_count": 210,
   "id": "dbed088e-5d1b-428c-982c-18e460920177",
   "metadata": {},
   "outputs": [],
   "source": [
    "import warnings\n",
    "warnings.filterwarnings(\"ignore\")"
   ]
  },
  {
   "cell_type": "code",
   "execution_count": 211,
   "id": "085971f7-fd31-424b-8ff0-79481644848c",
   "metadata": {},
   "outputs": [],
   "source": [
    "import numpy as np\n",
    "import pandas as pd\n",
    "import geopandas\n",
    "from shapely.geometry import Point"
   ]
  },
  {
   "cell_type": "code",
   "execution_count": 212,
   "id": "df860de8-fd58-4de7-b418-171b8cf15355",
   "metadata": {},
   "outputs": [],
   "source": [
    "df_full = pd.read_csv(\"data/zomato_df_final_data.csv\")"
   ]
  },
  {
   "cell_type": "code",
   "execution_count": 213,
   "id": "eb25af1c-dc61-4509-9bd3-55f18f1b31f0",
   "metadata": {},
   "outputs": [],
   "source": [
    "# haven't decided what to do with cuisine\n",
    "# everyone has address, link, phone and title\n",
    "# not sure why we have color and cuisine_color\n",
    "# for regression 1 we wont use rating_text\n",
    "# won't need lat and lng cause we will use subzone\n",
    "df = df_full.drop(columns = [\"address\", \"link\", \"phone\", \"title\", \"color\", \"cuisine_color\", \"rating_text\", \"lat\", \"lng\"], axis = 1)"
   ]
  },
  {
   "cell_type": "code",
   "execution_count": 214,
   "id": "e0dfa3db-36c8-4832-a756-517b0a3236bf",
   "metadata": {},
   "outputs": [
    {
     "data": {
      "text/plain": [
       "cost             float64\n",
       "cuisine           object\n",
       "rating_number    float64\n",
       "subzone           object\n",
       "type              object\n",
       "votes            float64\n",
       "groupon             bool\n",
       "cost_2           float64\n",
       "dtype: object"
      ]
     },
     "execution_count": 214,
     "metadata": {},
     "output_type": "execute_result"
    }
   ],
   "source": [
    "df.dtypes"
   ]
  },
  {
   "cell_type": "code",
   "execution_count": 215,
   "id": "01f3d7f0-3026-4900-98d8-ea359f523377",
   "metadata": {},
   "outputs": [],
   "source": [
    "# do some feature engineering\n",
    "# change groupon bool to int\n",
    "df.groupon = df.groupon.astype(int)"
   ]
  },
  {
   "cell_type": "code",
   "execution_count": 216,
   "id": "92912805-9c83-4aab-aa1d-4291fcec92a1",
   "metadata": {},
   "outputs": [
    {
     "data": {
      "text/plain": [
       "cost              346\n",
       "cuisine             0\n",
       "rating_number    3316\n",
       "subzone             0\n",
       "type               48\n",
       "votes            3316\n",
       "groupon             0\n",
       "cost_2            346\n",
       "dtype: int64"
      ]
     },
     "execution_count": 216,
     "metadata": {},
     "output_type": "execute_result"
    }
   ],
   "source": [
    "df.isna().sum()"
   ]
  },
  {
   "cell_type": "markdown",
   "id": "f4fae0cf-7e95-43d8-bd60-8bac0bf7f492",
   "metadata": {},
   "source": [
    "# Using geopy Nominatim to check if I can get lat and lng values for an address from df[\"address\"]"
   ]
  },
  {
   "cell_type": "code",
   "execution_count": 217,
   "id": "109c893b-613a-4296-b976-f8e481cf83d9",
   "metadata": {},
   "outputs": [],
   "source": [
    "# # bringing address to see in helps\n",
    "# df[\"address\"] = df_full[\"address\"]\n",
    "\n",
    "# # check the addresses where lat is na\n",
    "# temp = df[df.lat.isna()]\n",
    "# temp.address"
   ]
  },
  {
   "cell_type": "code",
   "execution_count": 218,
   "id": "aa337cc8-8982-4e69-99d2-958845ce953c",
   "metadata": {},
   "outputs": [],
   "source": [
    "# from geopy.geocoders import Nominatim\n",
    "# from geopy.exc import GeocoderTimedOut"
   ]
  },
  {
   "cell_type": "code",
   "execution_count": 219,
   "id": "ac3d34bf-4d9f-43d1-b582-b839959fd9f7",
   "metadata": {},
   "outputs": [],
   "source": [
    "# i = 0\n",
    "# for address in temp.address : \n",
    "#     print(f\"{i}. address : {address}\")\n",
    "#     i += 1\n",
    "#     try : \n",
    "#         geolocator = Nominatim(user_agent=\"address_to_ssc_code\")\n",
    "#         location = geolocator.geocode(address)\n",
    "#         if location:\n",
    "#             latitude, longitude = location.latitude, location.longitude\n",
    "#             print(f\"Latitude: {latitude}, Longitude: {longitude}\")\n",
    "#         else:\n",
    "#             print(\"Address not found.\")\n",
    "#     except GeocoderTimedOut:\n",
    "#         print(\"Geocoding service timed out. Address not found.\")\n",
    "#     except Exception as e:\n",
    "#         print(f\"An error occurred: Max retries exceeded\")\n",
    "\n",
    "# CHANGE OF PLAN\n",
    "# timeout most of the time, checked until 59 found about 10 addresses"
   ]
  },
  {
   "cell_type": "markdown",
   "id": "cdba0073-4cc7-4438-aa3d-4adcf942eaeb",
   "metadata": {},
   "source": [
    "# Where lat is na, we can split address by \",\" and get the -1 of the resulting array"
   ]
  },
  {
   "cell_type": "code",
   "execution_count": 220,
   "id": "8197eb99-a43e-41b3-b1cb-30b5d681f521",
   "metadata": {},
   "outputs": [],
   "source": [
    "# missing_suburbs = temp.address.apply(lambda x : x.split(\",\")[-1].strip())\n",
    "# missing_suburbs = [suburb.strip() for suburb in missing_suburbs]"
   ]
  },
  {
   "cell_type": "code",
   "execution_count": 221,
   "id": "15c974d1-4607-4c89-8572-c5c9172e5cd4",
   "metadata": {},
   "outputs": [],
   "source": [
    "# missing_suburbs.unique()"
   ]
  },
  {
   "cell_type": "code",
   "execution_count": 222,
   "id": "d0ee22dc-347e-48df-a501-b4c67289d70a",
   "metadata": {},
   "outputs": [],
   "source": [
    "# df.loc[df['lat'].isna(), \"address\"] = df['address'].str.split(\",\").str[-1].str.strip()\n",
    "\n",
    "# CHANGE OF PLAN\n",
    "# Have about 52 uniqe missing_suburb from 192 rows\n",
    "# which is good\n",
    "# but most of them are sydney and cbd which are same\n",
    "# does not get the actual subzone cause some of the addresses are like - 20 Campbell Street, Chinatown, Sydney\n",
    "# got sydney instead of chinatown from the previous example\n",
    "# Hopeless!"
   ]
  },
  {
   "cell_type": "markdown",
   "id": "9c22def2-ae31-43c1-a9a0-9c70fbce6ca0",
   "metadata": {},
   "source": [
    "# If df[\"subzone\"] has \",\" that means the subzone is not correct, we can split by \",\" and get the last part"
   ]
  },
  {
   "cell_type": "code",
   "execution_count": 223,
   "id": "2aeb51ea-8d37-4162-b331-ec8a3a113e03",
   "metadata": {},
   "outputs": [
    {
     "data": {
      "text/plain": [
       "1359"
      ]
     },
     "execution_count": 223,
     "metadata": {},
     "output_type": "execute_result"
    }
   ],
   "source": [
    "# subzone is not suburb or at leats it's not correct for 1359 entries\n",
    "# suburb name dont have comma\n",
    "len(df[df.subzone.str.contains(\",\")])"
   ]
  },
  {
   "cell_type": "code",
   "execution_count": 224,
   "id": "b0a4814e-df17-4992-916f-6f621dbd7fea",
   "metadata": {},
   "outputs": [],
   "source": [
    "df['subzone'] = df['subzone'].apply(lambda x: x.split(',')[-1].strip() if ',' in x else x)"
   ]
  },
  {
   "cell_type": "code",
   "execution_count": 225,
   "id": "27b7844b-27c1-4544-8dd6-4591ca57968a",
   "metadata": {},
   "outputs": [
    {
     "data": {
      "text/plain": [
       "572"
      ]
     },
     "execution_count": 225,
     "metadata": {},
     "output_type": "execute_result"
    }
   ],
   "source": [
    "len(df_full.subzone.unique())"
   ]
  },
  {
   "cell_type": "code",
   "execution_count": 226,
   "id": "7d5bbb67-69d5-48d4-8671-5af72902a0ab",
   "metadata": {},
   "outputs": [
    {
     "data": {
      "text/plain": [
       "339"
      ]
     },
     "execution_count": 226,
     "metadata": {},
     "output_type": "execute_result"
    }
   ],
   "source": [
    "len(df.subzone.unique())"
   ]
  },
  {
   "cell_type": "code",
   "execution_count": 227,
   "id": "d4a9549c-e6a3-49c4-8d67-0d174d8c812c",
   "metadata": {},
   "outputs": [
    {
     "data": {
      "text/plain": [
       "cost              346\n",
       "cuisine             0\n",
       "rating_number    3316\n",
       "subzone             0\n",
       "type               48\n",
       "votes            3316\n",
       "groupon             0\n",
       "cost_2            346\n",
       "dtype: int64"
      ]
     },
     "execution_count": 227,
     "metadata": {},
     "output_type": "execute_result"
    }
   ],
   "source": [
    "df.isna().sum()"
   ]
  },
  {
   "cell_type": "markdown",
   "id": "29c6ae24-3f4a-4f3c-9e66-bc674bd98979",
   "metadata": {},
   "source": [
    "# Converting subzone to numeric value for the regression"
   ]
  },
  {
   "cell_type": "code",
   "execution_count": 228,
   "id": "241086d0-585c-4443-a97f-a458b6a978e5",
   "metadata": {},
   "outputs": [],
   "source": [
    "from sklearn.preprocessing import LabelEncoder\n",
    "label_encoder = LabelEncoder()\n",
    "df['subzone_encoded'] = label_encoder.fit_transform(df['subzone'])"
   ]
  },
  {
   "cell_type": "markdown",
   "id": "4bed0d85-fbb8-406d-a68f-d80d8d27ee7d",
   "metadata": {},
   "source": [
    "# Replacing na in \"cost\" and \"cost_2\" with mean cost of the restaurants in that suburb"
   ]
  },
  {
   "cell_type": "code",
   "execution_count": 229,
   "id": "22a17175-7693-48b0-a90e-6531794ad3ec",
   "metadata": {},
   "outputs": [],
   "source": [
    "df['cost'] = df.groupby('subzone')['cost'].transform(lambda x: x.fillna(x.mean()))\n",
    "df['cost_2'] = df.groupby('subzone')['cost_2'].transform(lambda x: x.fillna(x.mean()))\n",
    "df = df.drop(columns = [\"subzone\"], axis = 1)"
   ]
  },
  {
   "cell_type": "code",
   "execution_count": 230,
   "id": "703a0c4d-2ad0-49c7-9223-3bfcd67a2491",
   "metadata": {},
   "outputs": [
    {
     "data": {
      "text/plain": [
       "cost                                 47.8\n",
       "cuisine            ['Chinese', 'Sichuan']\n",
       "rating_number                         3.8\n",
       "type                    ['Casual Dining']\n",
       "votes                                40.0\n",
       "groupon                                 0\n",
       "cost_2                           5.073984\n",
       "subzone_encoded                        69\n",
       "Name: 793, dtype: object"
      ]
     },
     "execution_count": 230,
     "metadata": {},
     "output_type": "execute_result"
    }
   ],
   "source": [
    "# just verifying\n",
    "df.loc[793]"
   ]
  },
  {
   "cell_type": "markdown",
   "id": "3300607c-401e-4729-a357-69b7c16e7066",
   "metadata": {},
   "source": [
    "# Dropping cuisine cause 135 one-hot-encoding is not reasonable, also rating is not so much related to cuisine"
   ]
  },
  {
   "cell_type": "code",
   "execution_count": 231,
   "id": "619707cc-2d7f-47d0-9281-7267172747e8",
   "metadata": {},
   "outputs": [],
   "source": [
    "df = df.drop(columns = [\"cuisine\"])"
   ]
  },
  {
   "cell_type": "code",
   "execution_count": 232,
   "id": "87653b66-ac30-4e8c-93c9-805f05ab4a87",
   "metadata": {},
   "outputs": [
    {
     "data": {
      "text/plain": [
       "cost                  8\n",
       "rating_number      3316\n",
       "type                 48\n",
       "votes              3316\n",
       "groupon               0\n",
       "cost_2                8\n",
       "subzone_encoded       0\n",
       "dtype: int64"
      ]
     },
     "execution_count": 232,
     "metadata": {},
     "output_type": "execute_result"
    }
   ],
   "source": [
    "df.isna().sum()"
   ]
  },
  {
   "cell_type": "markdown",
   "id": "2d08a08b-6824-486d-9aa9-fbe536d203b8",
   "metadata": {},
   "source": [
    "# Fix up type and do one-hot-encoding"
   ]
  },
  {
   "cell_type": "code",
   "execution_count": 233,
   "id": "bada0baf-9757-49ee-96ce-1bdcb12a1d91",
   "metadata": {},
   "outputs": [],
   "source": [
    "# filling na with most common type\n",
    "most_frequent = df[\"type\"].mode()[0]\n",
    "df[\"type\"].fillna(most_frequent, inplace=True)"
   ]
  },
  {
   "cell_type": "code",
   "execution_count": 234,
   "id": "91f79bd5-18e9-4cd2-875b-572cee3da5e2",
   "metadata": {},
   "outputs": [],
   "source": [
    "import re\n",
    "types = set()\n",
    "\n",
    "#custom function to check all the values\n",
    "def get_type(str):\n",
    "    pattern = r',\\s*' #removing comma(,) followed by immediate space\n",
    "    cleaned_text = re.sub(pattern, '-', str)\n",
    "    pattern2 = r'[\\'\\[\\],]'\n",
    "    cleaned_text = re.sub(pattern2, \"\", cleaned_text)\n",
    "    temp = cleaned_text.split(\"-\")\n",
    "    for type in temp:\n",
    "        types.add(type)"
   ]
  },
  {
   "cell_type": "code",
   "execution_count": 235,
   "id": "d354b811-6eca-494d-80d4-34e4164d3275",
   "metadata": {},
   "outputs": [
    {
     "data": {
      "text/plain": [
       "14"
      ]
     },
     "execution_count": 235,
     "metadata": {},
     "output_type": "execute_result"
    }
   ],
   "source": [
    "for value in df[\"type\"]:\n",
    "    get_type(value)\n",
    "len(types)\n",
    "\n",
    "# I HAD 14 TYPES BEFORE REMOVING RATING_NUMBER\n",
    "# MISSING FOOD STALL"
   ]
  },
  {
   "cell_type": "code",
   "execution_count": 236,
   "id": "ec6b8b98-36eb-4c2e-beea-5458a6406b68",
   "metadata": {},
   "outputs": [
    {
     "data": {
      "text/plain": [
       "{'Bakery',\n",
       " 'Bar',\n",
       " 'Beverage Shop',\n",
       " 'Café',\n",
       " 'Casual Dining',\n",
       " 'Club',\n",
       " 'Dessert Parlour',\n",
       " 'Fast Food',\n",
       " 'Fine Dining',\n",
       " 'Food Court',\n",
       " 'Food Stall',\n",
       " 'Food Truck',\n",
       " 'Pub',\n",
       " 'Wine Bar'}"
      ]
     },
     "execution_count": 236,
     "metadata": {},
     "output_type": "execute_result"
    }
   ],
   "source": [
    "types"
   ]
  },
  {
   "cell_type": "code",
   "execution_count": 237,
   "id": "ac79ed08-ce15-4497-bf8c-29176f72c9e4",
   "metadata": {},
   "outputs": [],
   "source": [
    "# one hot encoding\n",
    "for dining_type in types:\n",
    "    df[f\"is_{dining_type}\"] = df['type'].apply(lambda x: 1 if dining_type in x else 0)\n",
    "df.drop('type', axis=1, inplace=True)"
   ]
  },
  {
   "cell_type": "code",
   "execution_count": 238,
   "id": "7a915341-12ea-499b-9c66-af3cad2ab709",
   "metadata": {},
   "outputs": [
    {
     "data": {
      "text/html": [
       "<div>\n",
       "<style scoped>\n",
       "    .dataframe tbody tr th:only-of-type {\n",
       "        vertical-align: middle;\n",
       "    }\n",
       "\n",
       "    .dataframe tbody tr th {\n",
       "        vertical-align: top;\n",
       "    }\n",
       "\n",
       "    .dataframe thead th {\n",
       "        text-align: right;\n",
       "    }\n",
       "</style>\n",
       "<table border=\"1\" class=\"dataframe\">\n",
       "  <thead>\n",
       "    <tr style=\"text-align: right;\">\n",
       "      <th></th>\n",
       "      <th>cost</th>\n",
       "      <th>rating_number</th>\n",
       "      <th>votes</th>\n",
       "      <th>groupon</th>\n",
       "      <th>cost_2</th>\n",
       "      <th>subzone_encoded</th>\n",
       "      <th>is_Food Stall</th>\n",
       "      <th>is_Food Truck</th>\n",
       "      <th>is_Beverage Shop</th>\n",
       "      <th>is_Bakery</th>\n",
       "      <th>is_Fast Food</th>\n",
       "      <th>is_Club</th>\n",
       "      <th>is_Casual Dining</th>\n",
       "      <th>is_Dessert Parlour</th>\n",
       "      <th>is_Fine Dining</th>\n",
       "      <th>is_Food Court</th>\n",
       "      <th>is_Café</th>\n",
       "      <th>is_Bar</th>\n",
       "      <th>is_Pub</th>\n",
       "      <th>is_Wine Bar</th>\n",
       "    </tr>\n",
       "  </thead>\n",
       "  <tbody>\n",
       "    <tr>\n",
       "      <th>0</th>\n",
       "      <td>50.0</td>\n",
       "      <td>4.0</td>\n",
       "      <td>1311.0</td>\n",
       "      <td>0</td>\n",
       "      <td>5.243902</td>\n",
       "      <td>48</td>\n",
       "      <td>0</td>\n",
       "      <td>0</td>\n",
       "      <td>0</td>\n",
       "      <td>0</td>\n",
       "      <td>0</td>\n",
       "      <td>0</td>\n",
       "      <td>1</td>\n",
       "      <td>0</td>\n",
       "      <td>0</td>\n",
       "      <td>0</td>\n",
       "      <td>0</td>\n",
       "      <td>0</td>\n",
       "      <td>0</td>\n",
       "      <td>0</td>\n",
       "    </tr>\n",
       "    <tr>\n",
       "      <th>1</th>\n",
       "      <td>80.0</td>\n",
       "      <td>4.6</td>\n",
       "      <td>3236.0</td>\n",
       "      <td>0</td>\n",
       "      <td>7.560976</td>\n",
       "      <td>1</td>\n",
       "      <td>0</td>\n",
       "      <td>0</td>\n",
       "      <td>0</td>\n",
       "      <td>0</td>\n",
       "      <td>0</td>\n",
       "      <td>0</td>\n",
       "      <td>0</td>\n",
       "      <td>0</td>\n",
       "      <td>0</td>\n",
       "      <td>0</td>\n",
       "      <td>1</td>\n",
       "      <td>0</td>\n",
       "      <td>0</td>\n",
       "      <td>0</td>\n",
       "    </tr>\n",
       "    <tr>\n",
       "      <th>2</th>\n",
       "      <td>120.0</td>\n",
       "      <td>4.9</td>\n",
       "      <td>1227.0</td>\n",
       "      <td>0</td>\n",
       "      <td>10.650407</td>\n",
       "      <td>245</td>\n",
       "      <td>0</td>\n",
       "      <td>0</td>\n",
       "      <td>0</td>\n",
       "      <td>0</td>\n",
       "      <td>0</td>\n",
       "      <td>0</td>\n",
       "      <td>0</td>\n",
       "      <td>0</td>\n",
       "      <td>1</td>\n",
       "      <td>0</td>\n",
       "      <td>0</td>\n",
       "      <td>0</td>\n",
       "      <td>0</td>\n",
       "      <td>0</td>\n",
       "    </tr>\n",
       "    <tr>\n",
       "      <th>3</th>\n",
       "      <td>270.0</td>\n",
       "      <td>4.9</td>\n",
       "      <td>278.0</td>\n",
       "      <td>0</td>\n",
       "      <td>22.235772</td>\n",
       "      <td>72</td>\n",
       "      <td>0</td>\n",
       "      <td>0</td>\n",
       "      <td>0</td>\n",
       "      <td>0</td>\n",
       "      <td>0</td>\n",
       "      <td>0</td>\n",
       "      <td>0</td>\n",
       "      <td>0</td>\n",
       "      <td>1</td>\n",
       "      <td>0</td>\n",
       "      <td>0</td>\n",
       "      <td>1</td>\n",
       "      <td>0</td>\n",
       "      <td>0</td>\n",
       "    </tr>\n",
       "    <tr>\n",
       "      <th>4</th>\n",
       "      <td>55.0</td>\n",
       "      <td>4.5</td>\n",
       "      <td>2150.0</td>\n",
       "      <td>0</td>\n",
       "      <td>5.630081</td>\n",
       "      <td>69</td>\n",
       "      <td>0</td>\n",
       "      <td>0</td>\n",
       "      <td>0</td>\n",
       "      <td>0</td>\n",
       "      <td>0</td>\n",
       "      <td>0</td>\n",
       "      <td>1</td>\n",
       "      <td>0</td>\n",
       "      <td>0</td>\n",
       "      <td>0</td>\n",
       "      <td>0</td>\n",
       "      <td>0</td>\n",
       "      <td>0</td>\n",
       "      <td>0</td>\n",
       "    </tr>\n",
       "  </tbody>\n",
       "</table>\n",
       "</div>"
      ],
      "text/plain": [
       "    cost  rating_number   votes  groupon     cost_2  subzone_encoded  \\\n",
       "0   50.0            4.0  1311.0        0   5.243902               48   \n",
       "1   80.0            4.6  3236.0        0   7.560976                1   \n",
       "2  120.0            4.9  1227.0        0  10.650407              245   \n",
       "3  270.0            4.9   278.0        0  22.235772               72   \n",
       "4   55.0            4.5  2150.0        0   5.630081               69   \n",
       "\n",
       "   is_Food Stall  is_Food Truck  is_Beverage Shop  is_Bakery  is_Fast Food  \\\n",
       "0              0              0                 0          0             0   \n",
       "1              0              0                 0          0             0   \n",
       "2              0              0                 0          0             0   \n",
       "3              0              0                 0          0             0   \n",
       "4              0              0                 0          0             0   \n",
       "\n",
       "   is_Club  is_Casual Dining  is_Dessert Parlour  is_Fine Dining  \\\n",
       "0        0                 1                   0               0   \n",
       "1        0                 0                   0               0   \n",
       "2        0                 0                   0               1   \n",
       "3        0                 0                   0               1   \n",
       "4        0                 1                   0               0   \n",
       "\n",
       "   is_Food Court  is_Café  is_Bar  is_Pub  is_Wine Bar  \n",
       "0              0        0       0       0            0  \n",
       "1              0        1       0       0            0  \n",
       "2              0        0       0       0            0  \n",
       "3              0        0       1       0            0  \n",
       "4              0        0       0       0            0  "
      ]
     },
     "execution_count": 238,
     "metadata": {},
     "output_type": "execute_result"
    }
   ],
   "source": [
    "df.head()"
   ]
  },
  {
   "cell_type": "markdown",
   "id": "e0f8809c-6f96-4b45-8e3f-e90bac6f477a",
   "metadata": {},
   "source": [
    "# Will drop rows that has missing rating_number, if i do median or mean or mode, the model will be biased"
   ]
  },
  {
   "cell_type": "code",
   "execution_count": 239,
   "id": "5205f3a3-81e8-4ecf-8d4f-a459ee34d8bf",
   "metadata": {},
   "outputs": [
    {
     "data": {
      "text/plain": [
       "cost                  0\n",
       "rating_number         0\n",
       "votes                 0\n",
       "groupon               0\n",
       "cost_2                0\n",
       "subzone_encoded       0\n",
       "is_Food Stall         0\n",
       "is_Food Truck         0\n",
       "is_Beverage Shop      0\n",
       "is_Bakery             0\n",
       "is_Fast Food          0\n",
       "is_Club               0\n",
       "is_Casual Dining      0\n",
       "is_Dessert Parlour    0\n",
       "is_Fine Dining        0\n",
       "is_Food Court         0\n",
       "is_Café               0\n",
       "is_Bar                0\n",
       "is_Pub                0\n",
       "is_Wine Bar           0\n",
       "dtype: int64"
      ]
     },
     "execution_count": 239,
     "metadata": {},
     "output_type": "execute_result"
    }
   ],
   "source": [
    "df_missing_rating = df.copy()\n",
    "df.dropna(subset=['rating_number'], inplace=True)\n",
    "df.isna().sum()"
   ]
  },
  {
   "cell_type": "markdown",
   "id": "b37029b9-6a62-4cfa-b8bd-1a6fb794ead3",
   "metadata": {},
   "source": [
    "# Regression model 1"
   ]
  },
  {
   "cell_type": "code",
   "execution_count": 240,
   "id": "79756ec9-e7a6-4b5e-ad64-f325f4c252f7",
   "metadata": {},
   "outputs": [
    {
     "name": "stdout",
     "output_type": "stream",
     "text": [
      "Mean Squared Error: 0.1469729505451935\n",
      "R-squared: 0.2540572715441253\n"
     ]
    }
   ],
   "source": [
    "from sklearn.model_selection import train_test_split\n",
    "from sklearn.linear_model import LinearRegression\n",
    "from sklearn.metrics import mean_squared_error, r2_score\n",
    "\n",
    "\n",
    "# X,y\n",
    "X = df.drop(columns=['rating_number'])  # Features\n",
    "y = df['rating_number']  # Target\n",
    "\n",
    "X_train, X_test, y_train, y_test = train_test_split(X, y, test_size=0.2, random_state=0)\n",
    "\n",
    "model_regression_1 = LinearRegression()\n",
    "model_regression_1.fit(X_train, y_train)\n",
    "\n",
    "# predictions\n",
    "y_pred = model_regression_1.predict(X_test)\n",
    "\n",
    "# Evaluate\n",
    "mse = mean_squared_error(y_test, y_pred)\n",
    "r2 = r2_score(y_test, y_pred)\n",
    "\n",
    "print(\"Mean Squared Error:\", mse)\n",
    "print(\"R-squared:\", r2)"
   ]
  },
  {
   "cell_type": "markdown",
   "id": "33590fe7-1700-47b4-8126-144bc284ff69",
   "metadata": {},
   "source": [
    "# Regression model 2, will need to apply standardization for gradient descent"
   ]
  },
  {
   "cell_type": "code",
   "execution_count": 241,
   "id": "1faa3c38-7b4d-4e24-b41f-5fcea94912ff",
   "metadata": {},
   "outputs": [
    {
     "name": "stdout",
     "output_type": "stream",
     "text": [
      "Mean Squared Error: 0.1490877358715363\n",
      "R-squared: 0.2433239445572284\n"
     ]
    }
   ],
   "source": [
    "from sklearn.linear_model import SGDRegressor\n",
    "from sklearn.preprocessing import StandardScaler\n",
    "\n",
    "# Standardize the features\n",
    "scaler = StandardScaler()\n",
    "X_train_scaled = scaler.fit_transform(X_train)\n",
    "X_test_scaled = scaler.transform(X_test)\n",
    "\n",
    "model_regression_2 = SGDRegressor(loss=\"squared_error\", max_iter=1000, random_state=0)\n",
    "model_regression_2.fit(X_train_scaled, y_train)\n",
    "\n",
    "y_pred = model_regression_2.predict(X_test_scaled)\n",
    "\n",
    "mse = mean_squared_error(y_test, y_pred)\n",
    "r2 = r2_score(y_test, y_pred)\n",
    "\n",
    "print(\"Mean Squared Error:\", mse)\n",
    "print(\"R-squared:\", r2)"
   ]
  },
  {
   "cell_type": "markdown",
   "id": "dbe57b02-0b04-4d6d-ac19-485f29365783",
   "metadata": {},
   "source": [
    "# Classification"
   ]
  },
  {
   "cell_type": "code",
   "execution_count": 242,
   "id": "3ed727d0-7594-4963-8194-7c400f078ac1",
   "metadata": {},
   "outputs": [],
   "source": [
    "df_full.dropna(subset=[\"rating_text\"], inplace=True)\n",
    "df[\"rating_text\"] = df_full[\"rating_text\"]"
   ]
  },
  {
   "cell_type": "code",
   "execution_count": 243,
   "id": "523276d5-47c7-47b3-8024-7d52327c8ace",
   "metadata": {},
   "outputs": [],
   "source": [
    "class_mapping = {\n",
    "    \"Poor\": 1,\n",
    "    \"Average\": 1,\n",
    "    \"Good\": 2,\n",
    "    \"Very Good\": 2,\n",
    "    \"Excellent\": 2\n",
    "}\n",
    "df[\"binary_rating\"] = df[\"rating_text\"].map(class_mapping)\n",
    "df = df.drop(columns = [\"rating_text\"], axis = 1)"
   ]
  },
  {
   "cell_type": "code",
   "execution_count": 244,
   "id": "27d61a5b-9597-44f7-b025-04bcd39da019",
   "metadata": {},
   "outputs": [],
   "source": [
    "# # Standardize the features\n",
    "# scaler = StandardScaler()\n",
    "# X_train_scaled = scaler.fit_transform(X_train)\n",
    "# X_test_scaled = scaler.transform(X_test)"
   ]
  },
  {
   "cell_type": "code",
   "execution_count": 245,
   "id": "d29abcae-36eb-4e19-aa2a-c5528019bc80",
   "metadata": {},
   "outputs": [
    {
     "name": "stdout",
     "output_type": "stream",
     "text": [
      "Accuracy: 0.9853862212943633\n",
      "Precision: 0.9863157894736843\n",
      "Recall: 0.9915343915343915\n",
      "F1 Score: 0.9889182058047493\n",
      "ROC AUC Score: 0.9825558136533745\n",
      "Confusion Matrix:\n",
      " [[937   8]\n",
      " [ 13 479]]\n"
     ]
    }
   ],
   "source": [
    "from sklearn.linear_model import LogisticRegression\n",
    "from sklearn.metrics import accuracy_score, precision_score, recall_score, f1_score, roc_auc_score, confusion_matrix\n",
    "\n",
    "\n",
    "X = df.drop(columns=['binary_rating'])  # Features\n",
    "y = df['binary_rating']  # Target\n",
    "\n",
    "X_train, X_test, y_train, y_test = train_test_split(X, y, test_size=0.2, random_state=0)\n",
    "\n",
    "classification_model_logistic_regression_3 = LogisticRegression()\n",
    "classification_model_logistic_regression_3.fit(X_train, y_train)\n",
    "\n",
    "# predictions\n",
    "y_pred = classification_model_logistic_regression_3.predict(X_test)\n",
    "\n",
    "# Evaluate\n",
    "accuracy = accuracy_score(y_test, y_pred)\n",
    "precision = precision_score(y_test, y_pred)\n",
    "recall = recall_score(y_test, y_pred)\n",
    "f1 = f1_score(y_test, y_pred)\n",
    "roc_auc = roc_auc_score(y_test, y_pred)\n",
    "conf_matrix = confusion_matrix(y_test, y_pred)\n",
    "print(\"Accuracy:\", accuracy)\n",
    "print(\"Precision:\", precision)\n",
    "print(\"Recall:\", recall)\n",
    "print(\"F1 Score:\", f1)\n",
    "print(\"ROC AUC Score:\", roc_auc)\n",
    "print(\"Confusion Matrix:\\n\", conf_matrix)\n"
   ]
  },
  {
   "cell_type": "code",
   "execution_count": 246,
   "id": "6d49804c-7570-4f69-9c7b-527e77722b09",
   "metadata": {},
   "outputs": [
    {
     "data": {
      "image/png": "[encoded data removed]",
      "text/plain": [
       "<Figure size 640x480 with 2 Axes>"
      ]
     },
     "metadata": {},
     "output_type": "display_data"
    }
   ],
   "source": [
    "import seaborn as sns\n",
    "import matplotlib.pyplot as plt\n",
    "\n",
    "sns.heatmap(conf_matrix, annot=True, fmt=\"d\", cmap=\"Blues\")\n",
    "plt.xlabel(\"Predicted\")\n",
    "plt.ylabel(\"Actual\")\n",
    "plt.title(\"Confusion Matrix\")\n",
    "plt.show()\n"
   ]
  },
  {
   "cell_type": "markdown",
   "id": "43918e6c-b528-4871-8602-018157bf958d",
   "metadata": {},
   "source": [
    "# Conclusion"
   ]
  },
  {
   "cell_type": "markdown",
   "id": "0defa61a-2df6-40a8-a14a-9cac84d7ecb3",
   "metadata": {},
   "source": [
    "Out of 945 values 0 ratings, the logistic regression model classified 936 correctly and 9 incorrectly.\n",
    "On the other hand, from 492 total 1 ratings, the model predicted 22 incorrectly and 470 correctly.\n",
    "Overall accuracy is 97%, the model predicted 99% of all true positive values suggested by the recall and area under ROC curver is 97%.  \n",
    "So we can conclude that the model \"classification_model_logistic_regression_3\" is performing well."
   ]
  },
  {
   "cell_type": "markdown",
   "id": "d6613da2-f61b-4c8f-8271-f8111ce1859f",
   "metadata": {},
   "source": [
    "# Bonus"
   ]
  },
  {
   "cell_type": "code",
   "execution_count": 247,
   "id": "ddda0bca-772c-4565-94cb-204e74a059c1",
   "metadata": {},
   "outputs": [
    {
     "data": {
      "text/html": [
       "<div>\n",
       "<style scoped>\n",
       "    .dataframe tbody tr th:only-of-type {\n",
       "        vertical-align: middle;\n",
       "    }\n",
       "\n",
       "    .dataframe tbody tr th {\n",
       "        vertical-align: top;\n",
       "    }\n",
       "\n",
       "    .dataframe thead th {\n",
       "        text-align: right;\n",
       "    }\n",
       "</style>\n",
       "<table border=\"1\" class=\"dataframe\">\n",
       "  <thead>\n",
       "    <tr style=\"text-align: right;\">\n",
       "      <th></th>\n",
       "      <th>Model</th>\n",
       "      <th>Accuracy</th>\n",
       "      <th>Precision</th>\n",
       "      <th>Recall</th>\n",
       "      <th>F1 Score</th>\n",
       "      <th>ROC AUC</th>\n",
       "    </tr>\n",
       "  </thead>\n",
       "  <tbody>\n",
       "    <tr>\n",
       "      <th>0</th>\n",
       "      <td>Linear SVM</td>\n",
       "      <td>1.000000</td>\n",
       "      <td>0.986316</td>\n",
       "      <td>0.991534</td>\n",
       "      <td>0.988918</td>\n",
       "      <td>0.982556</td>\n",
       "    </tr>\n",
       "    <tr>\n",
       "      <th>1</th>\n",
       "      <td>RBF SVM</td>\n",
       "      <td>0.856646</td>\n",
       "      <td>0.986316</td>\n",
       "      <td>0.991534</td>\n",
       "      <td>0.988918</td>\n",
       "      <td>0.982556</td>\n",
       "    </tr>\n",
       "    <tr>\n",
       "      <th>2</th>\n",
       "      <td>Decision Tree</td>\n",
       "      <td>1.000000</td>\n",
       "      <td>0.986316</td>\n",
       "      <td>0.991534</td>\n",
       "      <td>0.988918</td>\n",
       "      <td>0.982556</td>\n",
       "    </tr>\n",
       "    <tr>\n",
       "      <th>3</th>\n",
       "      <td>Random Forest</td>\n",
       "      <td>1.000000</td>\n",
       "      <td>0.986316</td>\n",
       "      <td>0.991534</td>\n",
       "      <td>0.988918</td>\n",
       "      <td>0.982556</td>\n",
       "    </tr>\n",
       "  </tbody>\n",
       "</table>\n",
       "</div>"
      ],
      "text/plain": [
       "           Model  Accuracy  Precision    Recall  F1 Score   ROC AUC\n",
       "0     Linear SVM  1.000000   0.986316  0.991534  0.988918  0.982556\n",
       "1        RBF SVM  0.856646   0.986316  0.991534  0.988918  0.982556\n",
       "2  Decision Tree  1.000000   0.986316  0.991534  0.988918  0.982556\n",
       "3  Random Forest  1.000000   0.986316  0.991534  0.988918  0.982556"
      ]
     },
     "execution_count": 247,
     "metadata": {},
     "output_type": "execute_result"
    }
   ],
   "source": [
    "# https://scikit-learn.org/stable/auto_examples/classification/plot_classifier_comparison.html\n",
    "\n",
    "from sklearn.svm import SVC\n",
    "from sklearn.tree import DecisionTreeClassifier\n",
    "from sklearn.ensemble import RandomForestClassifier\n",
    "\n",
    "\n",
    "# Already have X_train, X_test, y_train and y_test\n",
    "\n",
    "# models\n",
    "# SVM with linear kernel\n",
    "# SVM with radial bias function kerner\n",
    "# decision tree model\n",
    "# random forest model\n",
    "models = {\n",
    "    'Linear SVM': SVC(kernel='linear', random_state=0),\n",
    "    'RBF SVM': SVC(kernel='rbf', random_state=0),\n",
    "    'Decision Tree': DecisionTreeClassifier(random_state=0),\n",
    "    'Random Forest': RandomForestClassifier(random_state=0)\n",
    "}\n",
    "\n",
    "# eval dictionary\n",
    "evaluation_metrics = {\n",
    "    'Model': [],\n",
    "    'Accuracy': [],\n",
    "    'Precision': [],\n",
    "    'Recall': [],\n",
    "    'F1 Score': [],\n",
    "    'ROC AUC': []\n",
    "}\n",
    "\n",
    "for model_name, model in models.items():\n",
    "    model.fit(X_train, y_train)\n",
    "    y_pred = model.predict(X_test)\n",
    "    accuracy = accuracy_score(y_test, y_pred)\n",
    "    \n",
    "    evaluation_metrics['Model'].append(model_name)\n",
    "    evaluation_metrics['Accuracy'].append(accuracy)\n",
    "    evaluation_metrics['Precision'].append(precision)\n",
    "    evaluation_metrics['Recall'].append(recall)\n",
    "    evaluation_metrics['F1 Score'].append(f1)\n",
    "    evaluation_metrics['ROC AUC'].append(roc_auc)\n",
    "\n",
    "classification_accuracy_eval = pd.DataFrame(evaluation_metrics)\n",
    "\n",
    "classification_accuracy_eval\n"
   ]
  },
  {
   "cell_type": "markdown",
   "id": "45b4e4a5-f200-4cc4-9bc0-44d7107450f9",
   "metadata": {},
   "source": [
    "# See if we can use the median to fill up the missing rating_number"
   ]
  },
  {
   "cell_type": "code",
   "execution_count": 269,
   "id": "07800158-875d-4b62-85e5-a61d734b418d",
   "metadata": {},
   "outputs": [],
   "source": [
    "# df_missing_rating.head(2)"
   ]
  },
  {
   "cell_type": "code",
   "execution_count": 268,
   "id": "9d055ad9-a225-4543-b203-69543104983c",
   "metadata": {},
   "outputs": [],
   "source": [
    "# df_missing_rating.rating_number = df_missing_rating.groupby(\"subzone_encoded\")[\"rating_number\"].transform(lambda x : x.fillna(x.median() if not np.isnan(x.median()) else 100.00))\n",
    "# df_missing_rating.votes = df_missing_rating.groupby(\"subzone_encoded\")[\"votes\"].transform(lambda x : x.fillna(x.median() if not np.isnan(x.median()) else 100.00))"
   ]
  },
  {
   "cell_type": "code",
   "execution_count": 267,
   "id": "4bd90558-9624-4b81-a1a9-7a3f3918de1f",
   "metadata": {},
   "outputs": [],
   "source": [
    "# df_missing_rating.isna().sum()"
   ]
  },
  {
   "cell_type": "code",
   "execution_count": 266,
   "id": "5c20a9a8-9ee7-4465-8df1-6f444777c8d9",
   "metadata": {},
   "outputs": [],
   "source": [
    "# df_missing_rating[df_missing_rating.subzone_encoded == 139]"
   ]
  },
  {
   "cell_type": "code",
   "execution_count": 265,
   "id": "9eb3b1ba-5d95-4971-947a-8343b1326a30",
   "metadata": {},
   "outputs": [],
   "source": [
    "# X = df_missing_rating.drop(columns=['rating_number'])  # Features\n",
    "# y = df_missing_rating['rating_number']  # Target\n",
    "\n",
    "# X_train, X_test, y_train, y_test = train_test_split(X, y, test_size=0.2, random_state=0)\n",
    "\n",
    "# model_regression_1 = LinearRegression()\n",
    "# model_regression_1.fit(X_train, y_train)\n",
    "\n",
    "# # predictions\n",
    "# y_pred = model_regression_1.predict(X_test)\n",
    "\n",
    "# # Evaluate\n",
    "# mse = mean_squared_error(y_test, y_pred)\n",
    "# r2 = r2_score(y_test, y_pred)\n",
    "\n",
    "# print(\"Mean Squared Error:\", mse)\n",
    "# print(\"R-squared:\", r2)"
   ]
  }
 ],
 "metadata": {
  "kernelspec": {
   "display_name": "Python 3 (ipykernel)",
   "language": "python",
   "name": "python3"
  },
  "language_info": {
   "codemirror_mode": {
    "name": "ipython",
    "version": 3
   },
   "file_extension": ".py",
   "mimetype": "text/x-python",
   "name": "python",
   "nbconvert_exporter": "python",
   "pygments_lexer": "ipython3",
   "version": "3.10.8"
  }
 },
 "nbformat": 4,
 "nbformat_minor": 5
}
