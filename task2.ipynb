{
 "cells": [
  {
   "cell_type": "code",
   "execution_count": 160,
   "id": "dbed088e-5d1b-428c-982c-18e460920177",
   "metadata": {},
   "outputs": [],
   "source": [
    "import warnings\n",
    "warnings.filterwarnings(\"ignore\")"
   ]
  },
  {
   "cell_type": "code",
   "execution_count": 161,
   "id": "085971f7-fd31-424b-8ff0-79481644848c",
   "metadata": {},
   "outputs": [],
   "source": [
    "import numpy as np\n",
    "import pandas as pd\n",
    "import geopandas\n",
    "from shapely.geometry import Point"
   ]
  },
  {
   "cell_type": "code",
   "execution_count": 162,
   "id": "df860de8-fd58-4de7-b418-171b8cf15355",
   "metadata": {},
   "outputs": [],
   "source": [
    "df_full = pd.read_csv(\"data/zomato_df_final_data.csv\")"
   ]
  },
  {
   "cell_type": "code",
   "execution_count": 163,
   "id": "eb25af1c-dc61-4509-9bd3-55f18f1b31f0",
   "metadata": {},
   "outputs": [],
   "source": [
    "# haven't decided what to do with cuisine\n",
    "# everyone has address, link, phone and title\n",
    "# not sure why we have color and cuisine_color\n",
    "# for regression 1 we wont use rating_text\n",
    "# won't need lat and lng cause we will use subzone\n",
    "df = df_full.drop(columns = [\"address\", \"link\", \"phone\", \"title\", \"color\", \"cuisine_color\", \"rating_text\", \"lat\", \"lng\"], axis = 1)"
   ]
  },
  {
   "cell_type": "code",
   "execution_count": 164,
   "id": "e0dfa3db-36c8-4832-a756-517b0a3236bf",
   "metadata": {},
   "outputs": [
    {
     "data": {
      "text/plain": [
       "cost             float64\n",
       "cuisine           object\n",
       "rating_number    float64\n",
       "subzone           object\n",
       "type              object\n",
       "votes            float64\n",
       "groupon             bool\n",
       "cost_2           float64\n",
       "dtype: object"
      ]
     },
     "execution_count": 164,
     "metadata": {},
     "output_type": "execute_result"
    }
   ],
   "source": [
    "df.dtypes"
   ]
  },
  {
   "cell_type": "code",
   "execution_count": 165,
   "id": "01f3d7f0-3026-4900-98d8-ea359f523377",
   "metadata": {},
   "outputs": [],
   "source": [
    "# do some feature engineering\n",
    "# change groupon bool to int\n",
    "df.groupon = df.groupon.astype(int)"
   ]
  },
  {
   "cell_type": "code",
   "execution_count": 166,
   "id": "92912805-9c83-4aab-aa1d-4291fcec92a1",
   "metadata": {},
   "outputs": [
    {
     "data": {
      "text/plain": [
       "cost              346\n",
       "cuisine             0\n",
       "rating_number    3316\n",
       "subzone             0\n",
       "type               48\n",
       "votes            3316\n",
       "groupon             0\n",
       "cost_2            346\n",
       "dtype: int64"
      ]
     },
     "execution_count": 166,
     "metadata": {},
     "output_type": "execute_result"
    }
   ],
   "source": [
    "df.isna().sum()"
   ]
  },
  {
   "cell_type": "markdown",
   "id": "f4fae0cf-7e95-43d8-bd60-8bac0bf7f492",
   "metadata": {},
   "source": [
    "# Using geopy Nominatim to check if I can get lat and lng values for an address from df[\"address\"]"
   ]
  },
  {
   "cell_type": "code",
   "execution_count": 167,
   "id": "109c893b-613a-4296-b976-f8e481cf83d9",
   "metadata": {},
   "outputs": [],
   "source": [
    "# # bringing address to see in helps\n",
    "# df[\"address\"] = df_full[\"address\"]\n",
    "\n",
    "# # check the addresses where lat is na\n",
    "# temp = df[df.lat.isna()]\n",
    "# temp.address"
   ]
  },
  {
   "cell_type": "code",
   "execution_count": 168,
   "id": "aa337cc8-8982-4e69-99d2-958845ce953c",
   "metadata": {},
   "outputs": [],
   "source": [
    "# from geopy.geocoders import Nominatim\n",
    "# from geopy.exc import GeocoderTimedOut"
   ]
  },
  {
   "cell_type": "code",
   "execution_count": 169,
   "id": "ac3d34bf-4d9f-43d1-b582-b839959fd9f7",
   "metadata": {},
   "outputs": [],
   "source": [
    "# i = 0\n",
    "# for address in temp.address : \n",
    "#     print(f\"{i}. address : {address}\")\n",
    "#     i += 1\n",
    "#     try : \n",
    "#         geolocator = Nominatim(user_agent=\"address_to_ssc_code\")\n",
    "#         location = geolocator.geocode(address)\n",
    "#         if location:\n",
    "#             latitude, longitude = location.latitude, location.longitude\n",
    "#             print(f\"Latitude: {latitude}, Longitude: {longitude}\")\n",
    "#         else:\n",
    "#             print(\"Address not found.\")\n",
    "#     except GeocoderTimedOut:\n",
    "#         print(\"Geocoding service timed out. Address not found.\")\n",
    "#     except Exception as e:\n",
    "#         print(f\"An error occurred: Max retries exceeded\")\n",
    "\n",
    "# CHANGE OF PLAN\n",
    "# timeout most of the time, checked until 59 found about 10 addresses"
   ]
  },
  {
   "cell_type": "markdown",
   "id": "cdba0073-4cc7-4438-aa3d-4adcf942eaeb",
   "metadata": {},
   "source": [
    "# Where lat is na, we can split address by \",\" and get the -1 of the resulting array"
   ]
  },
  {
   "cell_type": "code",
   "execution_count": 170,
   "id": "8197eb99-a43e-41b3-b1cb-30b5d681f521",
   "metadata": {},
   "outputs": [],
   "source": [
    "# missing_suburbs = temp.address.apply(lambda x : x.split(\",\")[-1].strip())\n",
    "# missing_suburbs = [suburb.strip() for suburb in missing_suburbs]"
   ]
  },
  {
   "cell_type": "code",
   "execution_count": 171,
   "id": "15c974d1-4607-4c89-8572-c5c9172e5cd4",
   "metadata": {},
   "outputs": [],
   "source": [
    "# missing_suburbs.unique()"
   ]
  },
  {
   "cell_type": "code",
   "execution_count": 172,
   "id": "d0ee22dc-347e-48df-a501-b4c67289d70a",
   "metadata": {},
   "outputs": [],
   "source": [
    "# df.loc[df['lat'].isna(), \"address\"] = df['address'].str.split(\",\").str[-1].str.strip()\n",
    "\n",
    "# CHANGE OF PLAN\n",
    "# Have about 52 uniqe missing_suburb from 192 rows\n",
    "# which is good\n",
    "# but most of them are sydney and cbd which are same\n",
    "# does not get the actual subzone cause some of the addresses are like - 20 Campbell Street, Chinatown, Sydney\n",
    "# got sydney instead of chinatown from the previous example\n",
    "# Hopeless!"
   ]
  },
  {
   "cell_type": "markdown",
   "id": "9c22def2-ae31-43c1-a9a0-9c70fbce6ca0",
   "metadata": {},
   "source": [
    "# If df[\"subzone\"] has \",\" that means the subzone is not correct, we can split by \",\" and get the last part"
   ]
  },
  {
   "cell_type": "code",
   "execution_count": 173,
   "id": "2aeb51ea-8d37-4162-b331-ec8a3a113e03",
   "metadata": {},
   "outputs": [
    {
     "data": {
      "text/plain": [
       "1359"
      ]
     },
     "execution_count": 173,
     "metadata": {},
     "output_type": "execute_result"
    }
   ],
   "source": [
    "# subzone is not suburb or at leats it's not correct for 1359 entries\n",
    "# suburb name dont have comma\n",
    "len(df[df.subzone.str.contains(\",\")])"
   ]
  },
  {
   "cell_type": "code",
   "execution_count": 174,
   "id": "b0a4814e-df17-4992-916f-6f621dbd7fea",
   "metadata": {},
   "outputs": [],
   "source": [
    "df['subzone'] = df['subzone'].apply(lambda x: x.split(',')[-1].strip() if ',' in x else x)"
   ]
  },
  {
   "cell_type": "code",
   "execution_count": 175,
   "id": "27b7844b-27c1-4544-8dd6-4591ca57968a",
   "metadata": {},
   "outputs": [
    {
     "data": {
      "text/plain": [
       "572"
      ]
     },
     "execution_count": 175,
     "metadata": {},
     "output_type": "execute_result"
    }
   ],
   "source": [
    "len(df_full.subzone.unique())"
   ]
  },
  {
   "cell_type": "code",
   "execution_count": 176,
   "id": "7d5bbb67-69d5-48d4-8671-5af72902a0ab",
   "metadata": {},
   "outputs": [
    {
     "data": {
      "text/plain": [
       "339"
      ]
     },
     "execution_count": 176,
     "metadata": {},
     "output_type": "execute_result"
    }
   ],
   "source": [
    "len(df.subzone.unique())"
   ]
  },
  {
   "cell_type": "code",
   "execution_count": 177,
   "id": "d4a9549c-e6a3-49c4-8d67-0d174d8c812c",
   "metadata": {},
   "outputs": [
    {
     "data": {
      "text/plain": [
       "cost              346\n",
       "cuisine             0\n",
       "rating_number    3316\n",
       "subzone             0\n",
       "type               48\n",
       "votes            3316\n",
       "groupon             0\n",
       "cost_2            346\n",
       "dtype: int64"
      ]
     },
     "execution_count": 177,
     "metadata": {},
     "output_type": "execute_result"
    }
   ],
   "source": [
    "df.isna().sum()"
   ]
  },
  {
   "cell_type": "markdown",
   "id": "29c6ae24-3f4a-4f3c-9e66-bc674bd98979",
   "metadata": {},
   "source": [
    "# Converting subzone to numeric value for the regression"
   ]
  },
  {
   "cell_type": "code",
   "execution_count": 178,
   "id": "241086d0-585c-4443-a97f-a458b6a978e5",
   "metadata": {},
   "outputs": [],
   "source": [
    "from sklearn.preprocessing import LabelEncoder\n",
    "label_encoder = LabelEncoder()\n",
    "df['subzone_encoded'] = label_encoder.fit_transform(df['subzone'])"
   ]
  },
  {
   "cell_type": "markdown",
   "id": "26e5a3be-5919-4dc6-bfde-d7bc2e6048ef",
   "metadata": {},
   "source": [
    "# Will drop rows that has missing rating_number, if i do mediano or mean or mode, the model will be biased"
   ]
  },
  {
   "cell_type": "code",
   "execution_count": 179,
   "id": "6debf743-1553-4d26-a90b-b63133e5154e",
   "metadata": {},
   "outputs": [],
   "source": [
    "df.dropna(subset=['rating_number'], inplace=True)"
   ]
  },
  {
   "cell_type": "code",
   "execution_count": 180,
   "id": "5a2123da-307c-46ee-b9fb-6d852368899d",
   "metadata": {},
   "outputs": [
    {
     "data": {
      "text/plain": [
       "cost               103\n",
       "cuisine              0\n",
       "rating_number        0\n",
       "subzone              0\n",
       "type                21\n",
       "votes                0\n",
       "groupon              0\n",
       "cost_2             103\n",
       "subzone_encoded      0\n",
       "dtype: int64"
      ]
     },
     "execution_count": 180,
     "metadata": {},
     "output_type": "execute_result"
    }
   ],
   "source": [
    "df.isna().sum()"
   ]
  },
  {
   "cell_type": "markdown",
   "id": "4bed0d85-fbb8-406d-a68f-d80d8d27ee7d",
   "metadata": {},
   "source": [
    "# Replacing na in \"cost\" and \"cost_2\" with mean cost of the restaurants in that suburb"
   ]
  },
  {
   "cell_type": "code",
   "execution_count": 181,
   "id": "22a17175-7693-48b0-a90e-6531794ad3ec",
   "metadata": {},
   "outputs": [],
   "source": [
    "df['cost'] = df.groupby('subzone')['cost'].transform(lambda x: x.fillna(x.mean()))\n",
    "df['cost_2'] = df.groupby('subzone')['cost_2'].transform(lambda x: x.fillna(x.mean()))\n",
    "df = df.drop(columns = [\"subzone\"], axis = 1)"
   ]
  },
  {
   "cell_type": "code",
   "execution_count": 182,
   "id": "703a0c4d-2ad0-49c7-9223-3bfcd67a2491",
   "metadata": {},
   "outputs": [
    {
     "data": {
      "text/plain": [
       "cost                            51.441718\n",
       "cuisine            ['Chinese', 'Sichuan']\n",
       "rating_number                         3.8\n",
       "type                    ['Casual Dining']\n",
       "votes                                40.0\n",
       "groupon                                 0\n",
       "cost_2                           5.355255\n",
       "subzone_encoded                        69\n",
       "Name: 793, dtype: object"
      ]
     },
     "execution_count": 182,
     "metadata": {},
     "output_type": "execute_result"
    }
   ],
   "source": [
    "# just verifying\n",
    "df.loc[793]"
   ]
  },
  {
   "cell_type": "markdown",
   "id": "3300607c-401e-4729-a357-69b7c16e7066",
   "metadata": {},
   "source": [
    "# Dropping cuisine cause 135 one-hot-encoding is not reasonable, also rating is not so much related to cuisine"
   ]
  },
  {
   "cell_type": "code",
   "execution_count": 183,
   "id": "619707cc-2d7f-47d0-9281-7267172747e8",
   "metadata": {},
   "outputs": [],
   "source": [
    "df = df.drop(columns = [\"cuisine\"])"
   ]
  },
  {
   "cell_type": "code",
   "execution_count": 184,
   "id": "87653b66-ac30-4e8c-93c9-805f05ab4a87",
   "metadata": {},
   "outputs": [
    {
     "data": {
      "text/plain": [
       "cost                0\n",
       "rating_number       0\n",
       "type               21\n",
       "votes               0\n",
       "groupon             0\n",
       "cost_2              0\n",
       "subzone_encoded     0\n",
       "dtype: int64"
      ]
     },
     "execution_count": 184,
     "metadata": {},
     "output_type": "execute_result"
    }
   ],
   "source": [
    "df.isna().sum()"
   ]
  },
  {
   "cell_type": "markdown",
   "id": "2d08a08b-6824-486d-9aa9-fbe536d203b8",
   "metadata": {},
   "source": [
    "# Fix up type and do one-hot-encoding"
   ]
  },
  {
   "cell_type": "code",
   "execution_count": 185,
   "id": "bada0baf-9757-49ee-96ce-1bdcb12a1d91",
   "metadata": {},
   "outputs": [],
   "source": [
    "# filling na with most common type\n",
    "most_frequent = df[\"type\"].mode()[0]\n",
    "df[\"type\"].fillna(most_frequent, inplace=True)"
   ]
  },
  {
   "cell_type": "code",
   "execution_count": 186,
   "id": "91f79bd5-18e9-4cd2-875b-572cee3da5e2",
   "metadata": {},
   "outputs": [],
   "source": [
    "import re\n",
    "types = set()\n",
    "\n",
    "#custom function to check all the values\n",
    "def get_type(str):\n",
    "    pattern = r',\\s*' #removing comma(,) followed by immediate space\n",
    "    cleaned_text = re.sub(pattern, '-', str)\n",
    "    pattern2 = r'[\\'\\[\\],]'\n",
    "    cleaned_text = re.sub(pattern2, \"\", cleaned_text)\n",
    "    temp = cleaned_text.split(\"-\")\n",
    "    for type in temp:\n",
    "        types.add(type)"
   ]
  },
  {
   "cell_type": "code",
   "execution_count": 187,
   "id": "d354b811-6eca-494d-80d4-34e4164d3275",
   "metadata": {},
   "outputs": [
    {
     "data": {
      "text/plain": [
       "13"
      ]
     },
     "execution_count": 187,
     "metadata": {},
     "output_type": "execute_result"
    }
   ],
   "source": [
    "for value in df[\"type\"]:\n",
    "    get_type(value)\n",
    "len(types)\n",
    "\n",
    "# I HAD 14 TYPES BEFORE REMOVING RATING_NUMBER\n",
    "# MISSING FOOD STALL"
   ]
  },
  {
   "cell_type": "code",
   "execution_count": 188,
   "id": "c4a4d5cb-d239-4591-bb28-1b9c9ace7e35",
   "metadata": {},
   "outputs": [
    {
     "data": {
      "text/plain": [
       "array([\"['Casual Dining']\", \"['Café']\", \"['Bar', 'Fine Dining']\",\n",
       "       \"['Fast Food']\", \"['Casual Dining', 'Bar']\",\n",
       "       \"['Café', 'Casual Dining']\", \"['Dessert Parlour', 'Bakery']\",\n",
       "       \"['Pub', 'Bar']\", \"['Casual Dining', 'Fast Food']\",\n",
       "       \"['Fine Dining', 'Wine Bar']\", \"['Food Court']\", \"['Bar']\",\n",
       "       \"['Casual Dining', 'Café']\", \"['Pub']\", \"['Fine Dining']\",\n",
       "       \"['Dessert Parlour', 'Café']\", \"['Food Court', 'Café']\",\n",
       "       \"['Bar', 'Casual Dining']\", \"['Bakery', 'Café']\",\n",
       "       \"['Café', 'Bar']\", \"['Café', 'Dessert Parlour']\",\n",
       "       \"['Fast Food', 'Food Court']\", \"['Café', 'Bakery']\",\n",
       "       \"['Food Truck']\", nan, \"['Café', 'Wine Bar']\",\n",
       "       \"['Club', 'Casual Dining']\", \"['Bakery']\", \"['Beverage Shop']\",\n",
       "       \"['Fine Dining', 'Bar']\", \"['Café', 'Food Court']\",\n",
       "       \"['Dessert Parlour']\", \"['Casual Dining', 'Food Stall']\",\n",
       "       \"['Wine Bar']\", \"['Club']\", \"['Bar', 'Club']\",\n",
       "       \"['Food Court', 'Casual Dining']\", \"['Pub', 'Casual Dining']\",\n",
       "       \"['Bar', 'Wine Bar']\", \"['Casual Dining', 'Pub']\",\n",
       "       \"['Casual Dining', 'Food Court']\", \"['Fast Food', 'Bar']\",\n",
       "       \"['Bakery', 'Food Court']\", \"['Bar', 'Café']\",\n",
       "       \"['Café', 'Fast Food']\", \"['Fast Food', 'Casual Dining']\",\n",
       "       \"['Bakery', 'Casual Dining']\", \"['Fast Food', 'Food Truck']\",\n",
       "       \"['Club', 'Bar']\", \"['Casual Dining', 'Dessert Parlour']\",\n",
       "       \"['Beverage Shop', 'Dessert Parlour']\",\n",
       "       \"['Casual Dining', 'Wine Bar']\", \"['Food Stall']\",\n",
       "       \"['Bar', 'Pub']\", \"['Food Court', 'Beverage Shop']\"], dtype=object)"
      ]
     },
     "execution_count": 188,
     "metadata": {},
     "output_type": "execute_result"
    }
   ],
   "source": [
    "df_full.loc[df_full.rating_number.isna(), \"type\"].unique()"
   ]
  },
  {
   "cell_type": "code",
   "execution_count": 189,
   "id": "3a1bd3a9-2246-4c9e-82dd-703d6bd0b5ea",
   "metadata": {},
   "outputs": [
    {
     "data": {
      "text/plain": [
       "array([\"['Casual Dining']\", \"['Café']\", \"['Fine Dining']\",\n",
       "       \"['Fine Dining', 'Bar']\", \"['Casual Dining', 'Dessert Parlour']\",\n",
       "       \"['Fine Dining', 'Wine Bar']\", \"['Casual Dining', 'Wine Bar']\",\n",
       "       \"['Casual Dining', 'Bar']\", \"['Fast Food']\", \"['Café', 'Bakery']\",\n",
       "       \"['Casual Dining', 'Café']\", \"['Bar']\",\n",
       "       \"['Bakery', 'Dessert Parlour']\", \"['Bar', 'Wine Bar']\",\n",
       "       \"['Food Court']\", \"['Dessert Parlour', 'Café']\",\n",
       "       \"['Bar', 'Casual Dining']\", \"['Bakery', 'Pub']\",\n",
       "       \"['Café', 'Casual Dining']\", \"['Café', 'Bar']\",\n",
       "       \"['Casual Dining', 'Pub']\", \"['Bakery', 'Café']\", \"['Food Truck']\",\n",
       "       \"['Café', 'Dessert Parlour']\", \"['Dessert Parlour']\", \"['Pub']\",\n",
       "       \"['Pub', 'Casual Dining']\", \"['Dessert Parlour', 'Bakery']\",\n",
       "       \"['Café', 'Wine Bar']\", \"['Pub', 'Wine Bar']\",\n",
       "       \"['Food Court', 'Casual Dining']\", \"['Wine Bar', 'Casual Dining']\",\n",
       "       \"['Casual Dining', 'Food Court']\", \"['Club', 'Bar']\",\n",
       "       \"['Casual Dining', 'Bakery']\", \"['Bar', 'Pub']\", \"['Bar', 'Café']\",\n",
       "       \"['Pub', 'Bar']\", \"['Beverage Shop']\", \"['Bakery']\",\n",
       "       \"['Wine Bar']\", \"['Casual Dining', 'Fast Food']\", \"['Club']\",\n",
       "       \"['Dessert Parlour', 'Food Court']\", \"['Café', 'Food Court']\",\n",
       "       \"['Pub', 'Club']\", \"['Café', 'Beverage Shop']\",\n",
       "       \"['Food Court', 'Café']\", \"['Fast Food', 'Food Court']\",\n",
       "       \"['Food Court', 'Fast Food']\", \"['Club', 'Pub']\",\n",
       "       \"['Bar', 'Club']\", \"['Dessert Parlour', 'Fast Food']\",\n",
       "       \"['Beverage Shop', 'Food Court']\"], dtype=object)"
      ]
     },
     "execution_count": 189,
     "metadata": {},
     "output_type": "execute_result"
    }
   ],
   "source": [
    "df.type.unique()"
   ]
  },
  {
   "cell_type": "code",
   "execution_count": 190,
   "id": "ec6b8b98-36eb-4c2e-beea-5458a6406b68",
   "metadata": {},
   "outputs": [
    {
     "data": {
      "text/plain": [
       "{'Bakery',\n",
       " 'Bar',\n",
       " 'Beverage Shop',\n",
       " 'Café',\n",
       " 'Casual Dining',\n",
       " 'Club',\n",
       " 'Dessert Parlour',\n",
       " 'Fast Food',\n",
       " 'Fine Dining',\n",
       " 'Food Court',\n",
       " 'Food Truck',\n",
       " 'Pub',\n",
       " 'Wine Bar'}"
      ]
     },
     "execution_count": 190,
     "metadata": {},
     "output_type": "execute_result"
    }
   ],
   "source": [
    "types"
   ]
  },
  {
   "cell_type": "code",
   "execution_count": 191,
   "id": "ac79ed08-ce15-4497-bf8c-29176f72c9e4",
   "metadata": {},
   "outputs": [],
   "source": [
    "# one hot encoding\n",
    "for dining_type in types:\n",
    "    df[f\"is_{dining_type}\"] = df['type'].apply(lambda x: 1 if dining_type in x else 0)\n",
    "df.drop('type', axis=1, inplace=True)"
   ]
  },
  {
   "cell_type": "markdown",
   "id": "b37029b9-6a62-4cfa-b8bd-1a6fb794ead3",
   "metadata": {},
   "source": [
    "# Regression model 1"
   ]
  },
  {
   "cell_type": "code",
   "execution_count": 192,
   "id": "79756ec9-e7a6-4b5e-ad64-f325f4c252f7",
   "metadata": {},
   "outputs": [
    {
     "name": "stdout",
     "output_type": "stream",
     "text": [
      "Mean Squared Error: 0.14698460727663623\n",
      "R-squared: 0.2539981092695366\n"
     ]
    }
   ],
   "source": [
    "from sklearn.model_selection import train_test_split\n",
    "from sklearn.linear_model import LinearRegression\n",
    "from sklearn.metrics import mean_squared_error, r2_score\n",
    "\n",
    "\n",
    "# X,y\n",
    "X = df.drop(columns=['rating_number'])  # Features\n",
    "y = df['rating_number']  # Target\n",
    "\n",
    "X_train, X_test, y_train, y_test = train_test_split(X, y, test_size=0.2, random_state=0)\n",
    "\n",
    "model_regression_1 = LinearRegression()\n",
    "model_regression_1.fit(X_train, y_train)\n",
    "\n",
    "# predictions\n",
    "y_pred = model_regression_1.predict(X_test)\n",
    "\n",
    "# Evaluate\n",
    "mse = mean_squared_error(y_test, y_pred)\n",
    "r2 = r2_score(y_test, y_pred)\n",
    "\n",
    "print(\"Mean Squared Error:\", mse)\n",
    "print(\"R-squared:\", r2)"
   ]
  },
  {
   "cell_type": "markdown",
   "id": "33590fe7-1700-47b4-8126-144bc284ff69",
   "metadata": {},
   "source": [
    "# Regression model 2, will need to apply standardization for gradient descent"
   ]
  },
  {
   "cell_type": "code",
   "execution_count": 193,
   "id": "1faa3c38-7b4d-4e24-b41f-5fcea94912ff",
   "metadata": {},
   "outputs": [
    {
     "name": "stdout",
     "output_type": "stream",
     "text": [
      "Mean Squared Error: 0.14910993202209347\n",
      "R-squared: 0.24321129078626968\n"
     ]
    }
   ],
   "source": [
    "from sklearn.linear_model import SGDRegressor\n",
    "from sklearn.preprocessing import StandardScaler\n",
    "\n",
    "# Standardize the features\n",
    "scaler = StandardScaler()\n",
    "X_train_scaled = scaler.fit_transform(X_train)\n",
    "X_test_scaled = scaler.transform(X_test)\n",
    "\n",
    "model_regression_2 = SGDRegressor(loss=\"squared_error\", max_iter=1000, random_state=0)\n",
    "model_regression_2.fit(X_train_scaled, y_train)\n",
    "\n",
    "y_pred = model_regression_2.predict(X_test_scaled)\n",
    "\n",
    "mse = mean_squared_error(y_test, y_pred)\n",
    "r2 = r2_score(y_test, y_pred)\n",
    "\n",
    "print(\"Mean Squared Error:\", mse)\n",
    "print(\"R-squared:\", r2)"
   ]
  },
  {
   "cell_type": "markdown",
   "id": "dbe57b02-0b04-4d6d-ac19-485f29365783",
   "metadata": {},
   "source": [
    "# Classification"
   ]
  },
  {
   "cell_type": "code",
   "execution_count": 194,
   "id": "3ed727d0-7594-4963-8194-7c400f078ac1",
   "metadata": {},
   "outputs": [],
   "source": [
    "df_full.dropna(subset=[\"rating_text\"], inplace=True)\n",
    "df[\"rating_text\"] = df_full[\"rating_text\"]"
   ]
  },
  {
   "cell_type": "code",
   "execution_count": 195,
   "id": "523276d5-47c7-47b3-8024-7d52327c8ace",
   "metadata": {},
   "outputs": [],
   "source": [
    "class_mapping = {\n",
    "    \"Poor\": 1,\n",
    "    \"Average\": 1,\n",
    "    \"Good\": 2,\n",
    "    \"Very Good\": 2,\n",
    "    \"Excellent\": 2\n",
    "}\n",
    "df[\"binary_rating\"] = df[\"rating_text\"].map(class_mapping)\n",
    "df = df.drop(columns = [\"rating_text\"], axis = 1)"
   ]
  },
  {
   "cell_type": "code",
   "execution_count": 196,
   "id": "27d61a5b-9597-44f7-b025-04bcd39da019",
   "metadata": {},
   "outputs": [],
   "source": [
    "# # Standardize the features\n",
    "# scaler = StandardScaler()\n",
    "# X_train_scaled = scaler.fit_transform(X_train)\n",
    "# X_test_scaled = scaler.transform(X_test)"
   ]
  },
  {
   "cell_type": "code",
   "execution_count": 197,
   "id": "d29abcae-36eb-4e19-aa2a-c5528019bc80",
   "metadata": {},
   "outputs": [
    {
     "name": "stdout",
     "output_type": "stream",
     "text": [
      "Accuracy: 0.9784272790535838\n",
      "Precision: 0.9770354906054279\n",
      "Recall: 0.9904761904761905\n",
      "F1 Score: 0.9837099316868103\n",
      "ROC AUC Score: 0.9728803716608595\n",
      "Confusion Matrix:\n",
      " [[936   9]\n",
      " [ 22 470]]\n"
     ]
    }
   ],
   "source": [
    "from sklearn.linear_model import LogisticRegression\n",
    "from sklearn.metrics import accuracy_score, precision_score, recall_score, f1_score, roc_auc_score, confusion_matrix\n",
    "\n",
    "\n",
    "X = df.drop(columns=['binary_rating'])  # Features\n",
    "y = df['binary_rating']  # Target\n",
    "\n",
    "X_train, X_test, y_train, y_test = train_test_split(X, y, test_size=0.2, random_state=0)\n",
    "\n",
    "classification_model_logistic_regression_3 = LogisticRegression()\n",
    "classification_model_logistic_regression_3.fit(X_train, y_train)\n",
    "\n",
    "# predictions\n",
    "y_pred = classification_model_logistic_regression_3.predict(X_test)\n",
    "\n",
    "# Evaluate\n",
    "accuracy = accuracy_score(y_test, y_pred)\n",
    "precision = precision_score(y_test, y_pred)\n",
    "recall = recall_score(y_test, y_pred)\n",
    "f1 = f1_score(y_test, y_pred)\n",
    "roc_auc = roc_auc_score(y_test, y_pred)\n",
    "conf_matrix = confusion_matrix(y_test, y_pred)\n",
    "print(\"Accuracy:\", accuracy)\n",
    "print(\"Precision:\", precision)\n",
    "print(\"Recall:\", recall)\n",
    "print(\"F1 Score:\", f1)\n",
    "print(\"ROC AUC Score:\", roc_auc)\n",
    "print(\"Confusion Matrix:\\n\", conf_matrix)\n"
   ]
  },
  {
   "cell_type": "code",
   "execution_count": 198,
   "id": "6d49804c-7570-4f69-9c7b-527e77722b09",
   "metadata": {},
   "outputs": [
    {
     "data": {
      "image/png": "[encoded data removed]",
      "text/plain": [
       "<Figure size 640x480 with 2 Axes>"
      ]
     },
     "metadata": {},
     "output_type": "display_data"
    }
   ],
   "source": [
    "import seaborn as sns\n",
    "import matplotlib.pyplot as plt\n",
    "\n",
    "sns.heatmap(conf_matrix, annot=True, fmt=\"d\", cmap=\"Blues\")\n",
    "plt.xlabel(\"Predicted\")\n",
    "plt.ylabel(\"Actual\")\n",
    "plt.title(\"Confusion Matrix\")\n",
    "plt.show()\n"
   ]
  },
  {
   "cell_type": "markdown",
   "id": "43918e6c-b528-4871-8602-018157bf958d",
   "metadata": {},
   "source": [
    "# Conclusion"
   ]
  },
  {
   "cell_type": "markdown",
   "id": "0defa61a-2df6-40a8-a14a-9cac84d7ecb3",
   "metadata": {},
   "source": [
    "Out of 945 values 0 ratings, the logistic regression model classified 936 correctly and 9 incorrectly.\n",
    "On the other hand, from 492 total 1 ratings, the model predicted 22 incorrectly and 470 correctly.\n",
    "Overall accuracy is 97%, the model predicted 99% of all true positive values suggested by the recall and area under ROC curver is 97%.  \n",
    "So we can conclude that the model \"classification_model_logistic_regression_3\" is performing well."
   ]
  },
  {
   "cell_type": "markdown",
   "id": "d6613da2-f61b-4c8f-8271-f8111ce1859f",
   "metadata": {},
   "source": [
    "# Bonus"
   ]
  },
  {
   "cell_type": "code",
   "execution_count": 200,
   "id": "ddda0bca-772c-4565-94cb-204e74a059c1",
   "metadata": {},
   "outputs": [
    {
     "data": {
      "text/html": [
       "<div>\n",
       "<style scoped>\n",
       "    .dataframe tbody tr th:only-of-type {\n",
       "        vertical-align: middle;\n",
       "    }\n",
       "\n",
       "    .dataframe tbody tr th {\n",
       "        vertical-align: top;\n",
       "    }\n",
       "\n",
       "    .dataframe thead th {\n",
       "        text-align: right;\n",
       "    }\n",
       "</style>\n",
       "<table border=\"1\" class=\"dataframe\">\n",
       "  <thead>\n",
       "    <tr style=\"text-align: right;\">\n",
       "      <th></th>\n",
       "      <th>Model</th>\n",
       "      <th>Accuracy</th>\n",
       "      <th>Precision</th>\n",
       "      <th>Recall</th>\n",
       "      <th>F1 Score</th>\n",
       "      <th>ROC AUC</th>\n",
       "    </tr>\n",
       "  </thead>\n",
       "  <tbody>\n",
       "    <tr>\n",
       "      <th>0</th>\n",
       "      <td>Linear SVM</td>\n",
       "      <td>1.000000</td>\n",
       "      <td>0.977035</td>\n",
       "      <td>0.990476</td>\n",
       "      <td>0.98371</td>\n",
       "      <td>0.97288</td>\n",
       "    </tr>\n",
       "    <tr>\n",
       "      <th>1</th>\n",
       "      <td>RBF SVM</td>\n",
       "      <td>0.856646</td>\n",
       "      <td>0.977035</td>\n",
       "      <td>0.990476</td>\n",
       "      <td>0.98371</td>\n",
       "      <td>0.97288</td>\n",
       "    </tr>\n",
       "    <tr>\n",
       "      <th>2</th>\n",
       "      <td>Decision Tree</td>\n",
       "      <td>1.000000</td>\n",
       "      <td>0.977035</td>\n",
       "      <td>0.990476</td>\n",
       "      <td>0.98371</td>\n",
       "      <td>0.97288</td>\n",
       "    </tr>\n",
       "    <tr>\n",
       "      <th>3</th>\n",
       "      <td>Random Forest</td>\n",
       "      <td>1.000000</td>\n",
       "      <td>0.977035</td>\n",
       "      <td>0.990476</td>\n",
       "      <td>0.98371</td>\n",
       "      <td>0.97288</td>\n",
       "    </tr>\n",
       "  </tbody>\n",
       "</table>\n",
       "</div>"
      ],
      "text/plain": [
       "           Model  Accuracy  Precision    Recall  F1 Score  ROC AUC\n",
       "0     Linear SVM  1.000000   0.977035  0.990476   0.98371  0.97288\n",
       "1        RBF SVM  0.856646   0.977035  0.990476   0.98371  0.97288\n",
       "2  Decision Tree  1.000000   0.977035  0.990476   0.98371  0.97288\n",
       "3  Random Forest  1.000000   0.977035  0.990476   0.98371  0.97288"
      ]
     },
     "execution_count": 200,
     "metadata": {},
     "output_type": "execute_result"
    }
   ],
   "source": [
    "# https://scikit-learn.org/stable/auto_examples/classification/plot_classifier_comparison.html\n",
    "\n",
    "from sklearn.svm import SVC\n",
    "from sklearn.tree import DecisionTreeClassifier\n",
    "from sklearn.ensemble import RandomForestClassifier\n",
    "\n",
    "\n",
    "# Already have X_train, X_test, y_train and y_test\n",
    "\n",
    "# models\n",
    "# SVM with linear kernel\n",
    "# SVM with radial bias function kerner\n",
    "# decision tree model\n",
    "# random forest model\n",
    "models = {\n",
    "    'Linear SVM': SVC(kernel='linear', random_state=0),\n",
    "    'RBF SVM': SVC(kernel='rbf', random_state=0),\n",
    "    'Decision Tree': DecisionTreeClassifier(random_state=0),\n",
    "    'Random Forest': RandomForestClassifier(random_state=0)\n",
    "}\n",
    "\n",
    "# eval dictionary\n",
    "evaluation_metrics = {\n",
    "    'Model': [],\n",
    "    'Accuracy': [],\n",
    "    'Precision': [],\n",
    "    'Recall': [],\n",
    "    'F1 Score': [],\n",
    "    'ROC AUC': []\n",
    "}\n",
    "\n",
    "for model_name, model in models.items():\n",
    "    model.fit(X_train, y_train)\n",
    "    y_pred = model.predict(X_test)\n",
    "    accuracy = accuracy_score(y_test, y_pred)\n",
    "    \n",
    "    evaluation_metrics['Model'].append(model_name)\n",
    "    evaluation_metrics['Accuracy'].append(accuracy)\n",
    "    evaluation_metrics['Precision'].append(precision)\n",
    "    evaluation_metrics['Recall'].append(recall)\n",
    "    evaluation_metrics['F1 Score'].append(f1)\n",
    "    evaluation_metrics['ROC AUC'].append(roc_auc)\n",
    "\n",
    "classification_accuracy_eval = pd.DataFrame(evaluation_metrics)\n",
    "\n",
    "classification_accuracy_eval\n"
   ]
  }
 ],
 "metadata": {
  "kernelspec": {
   "display_name": "Python 3 (ipykernel)",
   "language": "python",
   "name": "python3"
  },
  "language_info": {
   "codemirror_mode": {
    "name": "ipython",
    "version": 3
   },
   "file_extension": ".py",
   "mimetype": "text/x-python",
   "name": "python",
   "nbconvert_exporter": "python",
   "pygments_lexer": "ipython3",
   "version": "3.10.8"
  }
 },
 "nbformat": 4,
 "nbformat_minor": 5
}
