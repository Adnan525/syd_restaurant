{
 "cells": [
  {
   "cell_type": "code",
   "execution_count": 91,
   "id": "dbed088e-5d1b-428c-982c-18e460920177",
   "metadata": {},
   "outputs": [],
   "source": [
    "import warnings\n",
    "warnings.filterwarnings(\"ignore\")"
   ]
  },
  {
   "cell_type": "code",
   "execution_count": 92,
   "id": "085971f7-fd31-424b-8ff0-79481644848c",
   "metadata": {},
   "outputs": [],
   "source": [
    "import numpy as np\n",
    "import pandas as pd\n",
    "import geopandas\n",
    "from shapely.geometry import Point"
   ]
  },
  {
   "cell_type": "code",
   "execution_count": 93,
   "id": "df860de8-fd58-4de7-b418-171b8cf15355",
   "metadata": {},
   "outputs": [],
   "source": [
    "df_full = pd.read_csv(\"data/zomato_df_final_data.csv\")"
   ]
  },
  {
   "cell_type": "code",
   "execution_count": 94,
   "id": "aa97e4af-8b39-4688-9e97-329672d13a9f",
   "metadata": {},
   "outputs": [],
   "source": [
    "gdf = geopandas.read_file(\"data/sydney.geojson\")"
   ]
  },
  {
   "cell_type": "code",
   "execution_count": 95,
   "id": "eb25af1c-dc61-4509-9bd3-55f18f1b31f0",
   "metadata": {},
   "outputs": [],
   "source": [
    "# haven't decided what to do with cuisine\n",
    "df = df_full.drop(columns = [\"address\", \"link\", \"phone\", \"title\"], axis = 1)"
   ]
  },
  {
   "cell_type": "code",
   "execution_count": 96,
   "id": "e0dfa3db-36c8-4832-a756-517b0a3236bf",
   "metadata": {},
   "outputs": [
    {
     "data": {
      "text/plain": [
       "cost             float64\n",
       "cuisine           object\n",
       "lat              float64\n",
       "lng              float64\n",
       "rating_number    float64\n",
       "rating_text       object\n",
       "subzone           object\n",
       "type              object\n",
       "votes            float64\n",
       "groupon             bool\n",
       "color             object\n",
       "cost_2           float64\n",
       "cuisine_color     object\n",
       "dtype: object"
      ]
     },
     "execution_count": 96,
     "metadata": {},
     "output_type": "execute_result"
    }
   ],
   "source": [
    "df.dtypes"
   ]
  },
  {
   "cell_type": "code",
   "execution_count": 97,
   "id": "3ce30e9b-e35f-4a66-9c5f-1017798ed18d",
   "metadata": {},
   "outputs": [],
   "source": [
    "# for regression 1 we wont use rating_text\n",
    "df = df.drop(columns = [\"rating_text\"], axis = 1)"
   ]
  },
  {
   "cell_type": "code",
   "execution_count": 98,
   "id": "5518a9c9-c6f2-4100-a62c-ea8455721233",
   "metadata": {},
   "outputs": [
    {
     "data": {
      "text/plain": [
       "5"
      ]
     },
     "execution_count": 98,
     "metadata": {},
     "output_type": "execute_result"
    }
   ],
   "source": [
    "len(df.cuisine_color.unique())\n",
    "# not sure why we have this"
   ]
  },
  {
   "cell_type": "code",
   "execution_count": 99,
   "id": "01f3d7f0-3026-4900-98d8-ea359f523377",
   "metadata": {},
   "outputs": [],
   "source": [
    "# do some feature engineering\n",
    "df.groupon = df.groupon.astype(int)"
   ]
  },
  {
   "cell_type": "code",
   "execution_count": 100,
   "id": "e7068964-a7d4-487a-a7b9-cd4d302b7698",
   "metadata": {},
   "outputs": [],
   "source": [
    "df = df.drop(columns = [\"color\", \"cuisine_color\"], axis = 1)"
   ]
  },
  {
   "cell_type": "code",
   "execution_count": 101,
   "id": "92912805-9c83-4aab-aa1d-4291fcec92a1",
   "metadata": {},
   "outputs": [
    {
     "data": {
      "text/plain": [
       "cost              346\n",
       "cuisine             0\n",
       "lat               192\n",
       "lng               192\n",
       "rating_number    3316\n",
       "subzone             0\n",
       "type               48\n",
       "votes            3316\n",
       "groupon             0\n",
       "cost_2            346\n",
       "dtype: int64"
      ]
     },
     "execution_count": 101,
     "metadata": {},
     "output_type": "execute_result"
    }
   ],
   "source": [
    "df.isna().sum()"
   ]
  },
  {
   "cell_type": "code",
   "execution_count": 102,
   "id": "f33d72d8-6339-4031-b5aa-595d848974f0",
   "metadata": {},
   "outputs": [],
   "source": [
    "# bringing address to see in helps\n",
    "df[\"address\"] = df_full[\"address\"]"
   ]
  },
  {
   "cell_type": "code",
   "execution_count": 103,
   "id": "109c893b-613a-4296-b976-f8e481cf83d9",
   "metadata": {},
   "outputs": [
    {
     "data": {
      "text/plain": [
       "156       Level 4 & 5, Citymark, 683-689 George Street,...\n",
       "317       Level 3, North End, QVB, 455 George Street, \\...\n",
       "438       The Cannery, Shop 1/34 Morley Avenue, Roseber...\n",
       "468       Shop 5, 302 Church Street (enter via Phillip ...\n",
       "573                    Lower Ground, 55 York Street, \\tCBD\n",
       "                               ...                        \n",
       "10387     Ground Level, Forestville Centre, Starkey Str...\n",
       "10477     Food Court, Greenway Plaza, 210 Church Street...\n",
       "10483                  14 Bunlunga Lane, Mona Vale, Sydney\n",
       "10491     Shop 2, Coogee Village Shopping Centre, 184 C...\n",
       "10499            136 Sailors Bay Road, Northbridge, Sydney\n",
       "Name: address, Length: 192, dtype: object"
      ]
     },
     "execution_count": 103,
     "metadata": {},
     "output_type": "execute_result"
    }
   ],
   "source": [
    "temp = df[df.lat.isna()]\n",
    "temp.address"
   ]
  },
  {
   "cell_type": "code",
   "execution_count": 104,
   "id": "aa337cc8-8982-4e69-99d2-958845ce953c",
   "metadata": {},
   "outputs": [],
   "source": [
    "from geopy.geocoders import Nominatim\n",
    "from geopy.exc import GeocoderTimedOut"
   ]
  },
  {
   "cell_type": "code",
   "execution_count": 105,
   "id": "ac3d34bf-4d9f-43d1-b582-b839959fd9f7",
   "metadata": {},
   "outputs": [],
   "source": [
    "# i = 0\n",
    "# for address in temp.address : \n",
    "#     print(f\"{i}. address : {address}\")\n",
    "#     i += 1\n",
    "#     try : \n",
    "#         geolocator = Nominatim(user_agent=\"address_to_ssc_code\")\n",
    "#         location = geolocator.geocode(address)\n",
    "#         if location:\n",
    "#             latitude, longitude = location.latitude, location.longitude\n",
    "#             print(f\"Latitude: {latitude}, Longitude: {longitude}\")\n",
    "#         else:\n",
    "#             print(\"Address not found.\")\n",
    "#     except GeocoderTimedOut:\n",
    "#         print(\"Geocoding service timed out. Address not found.\")\n",
    "#     except Exception as e:\n",
    "#         print(f\"An error occurred: Max retries exceeded\")"
   ]
  },
  {
   "cell_type": "code",
   "execution_count": 106,
   "id": "8197eb99-a43e-41b3-b1cb-30b5d681f521",
   "metadata": {},
   "outputs": [],
   "source": [
    "# missing_suburbs = temp.address.apply(lambda x : x.split(\",\")[-1].strip())\n",
    "# missing_suburbs = [suburb.strip() for suburb in missing_suburbs]"
   ]
  },
  {
   "cell_type": "code",
   "execution_count": 107,
   "id": "15c974d1-4607-4c89-8572-c5c9172e5cd4",
   "metadata": {},
   "outputs": [],
   "source": [
    "# missing_suburbs.unique()"
   ]
  },
  {
   "cell_type": "code",
   "execution_count": 108,
   "id": "d0ee22dc-347e-48df-a501-b4c67289d70a",
   "metadata": {},
   "outputs": [],
   "source": [
    "# df.loc[df['lat'].isna(), \"address\"] = df['address'].str.split().str[-1].str.strip()\n"
   ]
  },
  {
   "cell_type": "code",
   "execution_count": 109,
   "id": "2aeb51ea-8d37-4162-b331-ec8a3a113e03",
   "metadata": {},
   "outputs": [
    {
     "data": {
      "text/plain": [
       "1359"
      ]
     },
     "execution_count": 109,
     "metadata": {},
     "output_type": "execute_result"
    }
   ],
   "source": [
    "# subzone is not suburb or at leats it's not correct for 1359 entries\n",
    "# suburb name dont have comma\n",
    "len(df[df.subzone.str.contains(\",\")])"
   ]
  },
  {
   "cell_type": "code",
   "execution_count": 110,
   "id": "b0a4814e-df17-4992-916f-6f621dbd7fea",
   "metadata": {},
   "outputs": [],
   "source": [
    "df['subzone'] = df['subzone'].apply(lambda x: x.split(',')[-1].strip() if ',' in x else x)\n"
   ]
  },
  {
   "cell_type": "code",
   "execution_count": 111,
   "id": "27b7844b-27c1-4544-8dd6-4591ca57968a",
   "metadata": {},
   "outputs": [
    {
     "data": {
      "text/plain": [
       "572"
      ]
     },
     "execution_count": 111,
     "metadata": {},
     "output_type": "execute_result"
    }
   ],
   "source": [
    "len(df_full.subzone.unique())"
   ]
  },
  {
   "cell_type": "code",
   "execution_count": 112,
   "id": "7d5bbb67-69d5-48d4-8671-5af72902a0ab",
   "metadata": {},
   "outputs": [
    {
     "data": {
      "text/plain": [
       "339"
      ]
     },
     "execution_count": 112,
     "metadata": {},
     "output_type": "execute_result"
    }
   ],
   "source": [
    "len(df.subzone.unique())"
   ]
  },
  {
   "cell_type": "code",
   "execution_count": 117,
   "id": "d4a9549c-e6a3-49c4-8d67-0d174d8c812c",
   "metadata": {},
   "outputs": [
    {
     "data": {
      "text/plain": [
       "cost             103\n",
       "cuisine            0\n",
       "rating_number      0\n",
       "subzone            0\n",
       "type              21\n",
       "votes              0\n",
       "groupon            0\n",
       "cost_2           103\n",
       "dtype: int64"
      ]
     },
     "execution_count": 117,
     "metadata": {},
     "output_type": "execute_result"
    }
   ],
   "source": [
    "df.isna().sum()"
   ]
  },
  {
   "cell_type": "code",
   "execution_count": 114,
   "id": "47bb41da-11c7-4f20-a33b-b9372df1510b",
   "metadata": {},
   "outputs": [],
   "source": [
    "df = df.drop(columns = [\"lat\", \"lng\", \"address\"])"
   ]
  },
  {
   "cell_type": "code",
   "execution_count": 115,
   "id": "699a565b-50b5-4b59-afd8-749481bfd3b1",
   "metadata": {},
   "outputs": [],
   "source": [
    "# will drop row if rating is missing for now"
   ]
  },
  {
   "cell_type": "code",
   "execution_count": 116,
   "id": "6debf743-1553-4d26-a90b-b63133e5154e",
   "metadata": {},
   "outputs": [],
   "source": [
    "df.dropna(subset=['rating_number'], inplace=True)"
   ]
  },
  {
   "cell_type": "code",
   "execution_count": 118,
   "id": "83dd619c-de91-455a-898e-cc36c1ec55db",
   "metadata": {},
   "outputs": [
    {
     "data": {
      "text/html": [
       "<div>\n",
       "<style scoped>\n",
       "    .dataframe tbody tr th:only-of-type {\n",
       "        vertical-align: middle;\n",
       "    }\n",
       "\n",
       "    .dataframe tbody tr th {\n",
       "        vertical-align: top;\n",
       "    }\n",
       "\n",
       "    .dataframe thead th {\n",
       "        text-align: right;\n",
       "    }\n",
       "</style>\n",
       "<table border=\"1\" class=\"dataframe\">\n",
       "  <thead>\n",
       "    <tr style=\"text-align: right;\">\n",
       "      <th></th>\n",
       "      <th>cost</th>\n",
       "      <th>cuisine</th>\n",
       "      <th>rating_number</th>\n",
       "      <th>subzone</th>\n",
       "      <th>type</th>\n",
       "      <th>votes</th>\n",
       "      <th>groupon</th>\n",
       "      <th>cost_2</th>\n",
       "    </tr>\n",
       "  </thead>\n",
       "  <tbody>\n",
       "    <tr>\n",
       "      <th>396</th>\n",
       "      <td>NaN</td>\n",
       "      <td>['Japanese']</td>\n",
       "      <td>3.9</td>\n",
       "      <td>CBD</td>\n",
       "      <td>['Casual Dining']</td>\n",
       "      <td>44.0</td>\n",
       "      <td>0</td>\n",
       "      <td>NaN</td>\n",
       "    </tr>\n",
       "    <tr>\n",
       "      <th>793</th>\n",
       "      <td>NaN</td>\n",
       "      <td>['Chinese', 'Sichuan']</td>\n",
       "      <td>3.8</td>\n",
       "      <td>Chinatown</td>\n",
       "      <td>['Casual Dining']</td>\n",
       "      <td>40.0</td>\n",
       "      <td>0</td>\n",
       "      <td>NaN</td>\n",
       "    </tr>\n",
       "    <tr>\n",
       "      <th>918</th>\n",
       "      <td>NaN</td>\n",
       "      <td>['Sushi', 'Japanese']</td>\n",
       "      <td>3.5</td>\n",
       "      <td>Crows Nest</td>\n",
       "      <td>['Casual Dining']</td>\n",
       "      <td>18.0</td>\n",
       "      <td>0</td>\n",
       "      <td>NaN</td>\n",
       "    </tr>\n",
       "    <tr>\n",
       "      <th>983</th>\n",
       "      <td>NaN</td>\n",
       "      <td>['Korean BBQ']</td>\n",
       "      <td>3.6</td>\n",
       "      <td>Lidcombe</td>\n",
       "      <td>['Casual Dining']</td>\n",
       "      <td>56.0</td>\n",
       "      <td>0</td>\n",
       "      <td>NaN</td>\n",
       "    </tr>\n",
       "    <tr>\n",
       "      <th>1042</th>\n",
       "      <td>NaN</td>\n",
       "      <td>['Japanese', 'Tea']</td>\n",
       "      <td>3.4</td>\n",
       "      <td>Redfern</td>\n",
       "      <td>['Casual Dining']</td>\n",
       "      <td>29.0</td>\n",
       "      <td>0</td>\n",
       "      <td>NaN</td>\n",
       "    </tr>\n",
       "    <tr>\n",
       "      <th>...</th>\n",
       "      <td>...</td>\n",
       "      <td>...</td>\n",
       "      <td>...</td>\n",
       "      <td>...</td>\n",
       "      <td>...</td>\n",
       "      <td>...</td>\n",
       "      <td>...</td>\n",
       "      <td>...</td>\n",
       "    </tr>\n",
       "    <tr>\n",
       "      <th>8653</th>\n",
       "      <td>NaN</td>\n",
       "      <td>['Chinese']</td>\n",
       "      <td>3.0</td>\n",
       "      <td>Eastwood</td>\n",
       "      <td>['Casual Dining']</td>\n",
       "      <td>14.0</td>\n",
       "      <td>0</td>\n",
       "      <td>NaN</td>\n",
       "    </tr>\n",
       "    <tr>\n",
       "      <th>8733</th>\n",
       "      <td>NaN</td>\n",
       "      <td>['Indian', 'Pakistani']</td>\n",
       "      <td>2.8</td>\n",
       "      <td>Liverpool</td>\n",
       "      <td>['Casual Dining']</td>\n",
       "      <td>6.0</td>\n",
       "      <td>0</td>\n",
       "      <td>NaN</td>\n",
       "    </tr>\n",
       "    <tr>\n",
       "      <th>8865</th>\n",
       "      <td>NaN</td>\n",
       "      <td>['Modern Australian']</td>\n",
       "      <td>2.7</td>\n",
       "      <td>Liverpool</td>\n",
       "      <td>['Café']</td>\n",
       "      <td>6.0</td>\n",
       "      <td>0</td>\n",
       "      <td>NaN</td>\n",
       "    </tr>\n",
       "    <tr>\n",
       "      <th>8955</th>\n",
       "      <td>NaN</td>\n",
       "      <td>['Chinese']</td>\n",
       "      <td>2.7</td>\n",
       "      <td>Frenchs Forest</td>\n",
       "      <td>['Casual Dining']</td>\n",
       "      <td>8.0</td>\n",
       "      <td>0</td>\n",
       "      <td>NaN</td>\n",
       "    </tr>\n",
       "    <tr>\n",
       "      <th>9058</th>\n",
       "      <td>NaN</td>\n",
       "      <td>['Chinese']</td>\n",
       "      <td>3.1</td>\n",
       "      <td>Punchbowl</td>\n",
       "      <td>['Casual Dining']</td>\n",
       "      <td>13.0</td>\n",
       "      <td>0</td>\n",
       "      <td>NaN</td>\n",
       "    </tr>\n",
       "  </tbody>\n",
       "</table>\n",
       "<p>103 rows × 8 columns</p>\n",
       "</div>"
      ],
      "text/plain": [
       "      cost                  cuisine  rating_number         subzone  \\\n",
       "396    NaN             ['Japanese']            3.9             CBD   \n",
       "793    NaN   ['Chinese', 'Sichuan']            3.8       Chinatown   \n",
       "918    NaN    ['Sushi', 'Japanese']            3.5      Crows Nest   \n",
       "983    NaN           ['Korean BBQ']            3.6        Lidcombe   \n",
       "1042   NaN      ['Japanese', 'Tea']            3.4         Redfern   \n",
       "...    ...                      ...            ...             ...   \n",
       "8653   NaN              ['Chinese']            3.0        Eastwood   \n",
       "8733   NaN  ['Indian', 'Pakistani']            2.8       Liverpool   \n",
       "8865   NaN    ['Modern Australian']            2.7       Liverpool   \n",
       "8955   NaN              ['Chinese']            2.7  Frenchs Forest   \n",
       "9058   NaN              ['Chinese']            3.1       Punchbowl   \n",
       "\n",
       "                   type  votes  groupon  cost_2  \n",
       "396   ['Casual Dining']   44.0        0     NaN  \n",
       "793   ['Casual Dining']   40.0        0     NaN  \n",
       "918   ['Casual Dining']   18.0        0     NaN  \n",
       "983   ['Casual Dining']   56.0        0     NaN  \n",
       "1042  ['Casual Dining']   29.0        0     NaN  \n",
       "...                 ...    ...      ...     ...  \n",
       "8653  ['Casual Dining']   14.0        0     NaN  \n",
       "8733  ['Casual Dining']    6.0        0     NaN  \n",
       "8865           ['Café']    6.0        0     NaN  \n",
       "8955  ['Casual Dining']    8.0        0     NaN  \n",
       "9058  ['Casual Dining']   13.0        0     NaN  \n",
       "\n",
       "[103 rows x 8 columns]"
      ]
     },
     "execution_count": 118,
     "metadata": {},
     "output_type": "execute_result"
    }
   ],
   "source": [
    "df[df.cost.isna()]"
   ]
  },
  {
   "cell_type": "code",
   "execution_count": 119,
   "id": "22a17175-7693-48b0-a90e-6531794ad3ec",
   "metadata": {},
   "outputs": [],
   "source": [
    "df['cost'] = df.groupby('subzone')['cost'].transform(lambda x: x.fillna(x.mean()))\n"
   ]
  },
  {
   "cell_type": "code",
   "execution_count": 122,
   "id": "703a0c4d-2ad0-49c7-9223-3bfcd67a2491",
   "metadata": {},
   "outputs": [
    {
     "data": {
      "text/plain": [
       "cost                     57.985294\n",
       "cuisine               ['Japanese']\n",
       "rating_number                  3.9\n",
       "subzone                        CBD\n",
       "type             ['Casual Dining']\n",
       "votes                         44.0\n",
       "groupon                          0\n",
       "cost_2                         NaN\n",
       "Name: 396, dtype: object"
      ]
     },
     "execution_count": 122,
     "metadata": {},
     "output_type": "execute_result"
    }
   ],
   "source": [
    "df.loc[396]"
   ]
  }
 ],
 "metadata": {
  "kernelspec": {
   "display_name": "Python 3 (ipykernel)",
   "language": "python",
   "name": "python3"
  },
  "language_info": {
   "codemirror_mode": {
    "name": "ipython",
    "version": 3
   },
   "file_extension": ".py",
   "mimetype": "text/x-python",
   "name": "python",
   "nbconvert_exporter": "python",
   "pygments_lexer": "ipython3",
   "version": "3.10.8"
  }
 },
 "nbformat": 4,
 "nbformat_minor": 5
}
