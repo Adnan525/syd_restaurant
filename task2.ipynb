{
 "cells": [
  {
   "cell_type": "code",
   "execution_count": 1,
   "id": "dbed088e-5d1b-428c-982c-18e460920177",
   "metadata": {},
   "outputs": [],
   "source": [
    "import warnings\n",
    "warnings.filterwarnings(\"ignore\")"
   ]
  },
  {
   "cell_type": "code",
   "execution_count": 2,
   "id": "085971f7-fd31-424b-8ff0-79481644848c",
   "metadata": {},
   "outputs": [],
   "source": [
    "import numpy as np\n",
    "import pandas as pd\n",
    "import geopandas\n",
    "from shapely.geometry import Point"
   ]
  },
  {
   "cell_type": "code",
   "execution_count": 6,
   "id": "df860de8-fd58-4de7-b418-171b8cf15355",
   "metadata": {},
   "outputs": [],
   "source": [
    "df_full = pd.read_csv(\"data/zomato_df_final_data.csv\")"
   ]
  },
  {
   "cell_type": "code",
   "execution_count": 4,
   "id": "aa97e4af-8b39-4688-9e97-329672d13a9f",
   "metadata": {},
   "outputs": [],
   "source": [
    "gdf = geopandas.read_file(\"data/sydney.geojson\")"
   ]
  },
  {
   "cell_type": "code",
   "execution_count": 5,
   "id": "03a25902-861e-4264-8b15-388882328b1f",
   "metadata": {},
   "outputs": [
    {
     "data": {
      "text/plain": [
       "Index(['address', 'cost', 'cuisine', 'lat', 'link', 'lng', 'phone',\n",
       "       'rating_number', 'rating_text', 'subzone', 'title', 'type', 'votes',\n",
       "       'groupon', 'color', 'cost_2', 'cuisine_color'],\n",
       "      dtype='object')"
      ]
     },
     "execution_count": 5,
     "metadata": {},
     "output_type": "execute_result"
    }
   ],
   "source": [
    "df.columns"
   ]
  },
  {
   "cell_type": "code",
   "execution_count": 7,
   "id": "eb25af1c-dc61-4509-9bd3-55f18f1b31f0",
   "metadata": {},
   "outputs": [],
   "source": [
    "# haven't decided what to do with cuisine\n",
    "df = df_full.drop(columns = [\"address\", \"link\", \"phone\", \"title\"], axis = 1)"
   ]
  },
  {
   "cell_type": "code",
   "execution_count": 25,
   "id": "e0dfa3db-36c8-4832-a756-517b0a3236bf",
   "metadata": {},
   "outputs": [
    {
     "data": {
      "text/plain": [
       "cost             float64\n",
       "cuisine           object\n",
       "lat              float64\n",
       "lng              float64\n",
       "rating_number    float64\n",
       "subzone           object\n",
       "type              object\n",
       "votes            float64\n",
       "groupon            int64\n",
       "cost_2           float64\n",
       "address           object\n",
       "dtype: object"
      ]
     },
     "execution_count": 25,
     "metadata": {},
     "output_type": "execute_result"
    }
   ],
   "source": [
    "df.dtypes"
   ]
  },
  {
   "cell_type": "code",
   "execution_count": 10,
   "id": "3ce30e9b-e35f-4a66-9c5f-1017798ed18d",
   "metadata": {},
   "outputs": [],
   "source": [
    "# for regression 1 we wont use rating_text\n",
    "df = df.drop(columns = [\"rating_text\"], axis = 1)"
   ]
  },
  {
   "cell_type": "code",
   "execution_count": 12,
   "id": "5518a9c9-c6f2-4100-a62c-ea8455721233",
   "metadata": {},
   "outputs": [
    {
     "data": {
      "text/plain": [
       "5"
      ]
     },
     "execution_count": 12,
     "metadata": {},
     "output_type": "execute_result"
    }
   ],
   "source": [
    "len(df.cuisine_color.unique())\n",
    "# not sure why we have this"
   ]
  },
  {
   "cell_type": "code",
   "execution_count": 14,
   "id": "01f3d7f0-3026-4900-98d8-ea359f523377",
   "metadata": {},
   "outputs": [],
   "source": [
    "# do some feature engineering\n",
    "df.groupon = df.groupon.astype(int)"
   ]
  },
  {
   "cell_type": "code",
   "execution_count": 17,
   "id": "e7068964-a7d4-487a-a7b9-cd4d302b7698",
   "metadata": {},
   "outputs": [],
   "source": [
    "df = df.drop(columns = [\"color\", \"cuisine_color\"], axis = 1)"
   ]
  },
  {
   "cell_type": "code",
   "execution_count": 46,
   "id": "92912805-9c83-4aab-aa1d-4291fcec92a1",
   "metadata": {},
   "outputs": [
    {
     "data": {
      "text/plain": [
       "cost              346\n",
       "cuisine             0\n",
       "lat               192\n",
       "lng               192\n",
       "rating_number    3316\n",
       "subzone             0\n",
       "type               48\n",
       "votes            3316\n",
       "groupon             0\n",
       "cost_2            346\n",
       "address             0\n",
       "dtype: int64"
      ]
     },
     "execution_count": 46,
     "metadata": {},
     "output_type": "execute_result"
    }
   ],
   "source": [
    "df.isna().sum()"
   ]
  },
  {
   "cell_type": "code",
   "execution_count": 24,
   "id": "f33d72d8-6339-4031-b5aa-595d848974f0",
   "metadata": {},
   "outputs": [],
   "source": [
    "# bringing address to see in helps\n",
    "df[\"address\"] = df_full[\"address\"]"
   ]
  },
  {
   "cell_type": "code",
   "execution_count": 45,
   "id": "109c893b-613a-4296-b976-f8e481cf83d9",
   "metadata": {},
   "outputs": [
    {
     "data": {
      "text/plain": [
       "156       Level 4 & 5, Citymark, 683-689 George Street,...\n",
       "317       Level 3, North End, QVB, 455 George Street, \\...\n",
       "438       The Cannery, Shop 1/34 Morley Avenue, Roseber...\n",
       "468       Shop 5, 302 Church Street (enter via Phillip ...\n",
       "573                    Lower Ground, 55 York Street, \\tCBD\n",
       "                               ...                        \n",
       "10387     Ground Level, Forestville Centre, Starkey Str...\n",
       "10477     Food Court, Greenway Plaza, 210 Church Street...\n",
       "10483                  14 Bunlunga Lane, Mona Vale, Sydney\n",
       "10491     Shop 2, Coogee Village Shopping Centre, 184 C...\n",
       "10499            136 Sailors Bay Road, Northbridge, Sydney\n",
       "Name: address, Length: 192, dtype: object"
      ]
     },
     "execution_count": 45,
     "metadata": {},
     "output_type": "execute_result"
    }
   ],
   "source": [
    "temp = df[df.lat.isna()]\n",
    "temp.address"
   ]
  },
  {
   "cell_type": "code",
   "execution_count": 36,
   "id": "aa337cc8-8982-4e69-99d2-958845ce953c",
   "metadata": {},
   "outputs": [],
   "source": [
    "from geopy.geocoders import Nominatim\n",
    "from geopy.exc import GeocoderTimedOut"
   ]
  },
  {
   "cell_type": "code",
   "execution_count": 42,
   "id": "ac3d34bf-4d9f-43d1-b582-b839959fd9f7",
   "metadata": {},
   "outputs": [],
   "source": [
    "# i = 0\n",
    "# for address in temp.address : \n",
    "#     print(f\"{i}. address : {address}\")\n",
    "#     i += 1\n",
    "#     try : \n",
    "#         geolocator = Nominatim(user_agent=\"address_to_ssc_code\")\n",
    "#         location = geolocator.geocode(address)\n",
    "#         if location:\n",
    "#             latitude, longitude = location.latitude, location.longitude\n",
    "#             print(f\"Latitude: {latitude}, Longitude: {longitude}\")\n",
    "#         else:\n",
    "#             print(\"Address not found.\")\n",
    "#     except GeocoderTimedOut:\n",
    "#         print(\"Geocoding service timed out. Address not found.\")\n",
    "#     except Exception as e:\n",
    "#         print(f\"An error occurred: Max retries exceeded\")"
   ]
  },
  {
   "cell_type": "code",
   "execution_count": 60,
   "id": "8197eb99-a43e-41b3-b1cb-30b5d681f521",
   "metadata": {},
   "outputs": [],
   "source": [
    "missing_suburbs = temp.address.apply(lambda x : x.split(\",\")[-1])\n",
    "# missing_suburbs = [suburb.strip() for suburb in missing_suburbs]"
   ]
  },
  {
   "cell_type": "code",
   "execution_count": 61,
   "id": "15c974d1-4607-4c89-8572-c5c9172e5cd4",
   "metadata": {},
   "outputs": [
    {
     "data": {
      "text/plain": [
       "array([' Chinatown', ' \\tCBD', ' Sydney',\n",
       "       '         Westfield Main Entrance', ' Randwick', ' 2 Kingsway',\n",
       "       ' \\tChinatown', 'then turn left)', ' WATERLOO NSW',\n",
       "       ' 2010. (Entry via Campbell St (65).)', ' \\tCastle Hill',\n",
       "       ' Pirrama Park Cafe\\nPyrmont', ' CBD', ' Chancellery Walk',\n",
       "       ' \\tPyrmont', ' University of New South Wales Kensington',\n",
       "       ' North Sydney', ' Sydney Casula'], dtype=object)"
      ]
     },
     "execution_count": 61,
     "metadata": {},
     "output_type": "execute_result"
    }
   ],
   "source": [
    "missing_suburbs.unique()"
   ]
  }
 ],
 "metadata": {
  "kernelspec": {
   "display_name": "Python 3 (ipykernel)",
   "language": "python",
   "name": "python3"
  },
  "language_info": {
   "codemirror_mode": {
    "name": "ipython",
    "version": 3
   },
   "file_extension": ".py",
   "mimetype": "text/x-python",
   "name": "python",
   "nbconvert_exporter": "python",
   "pygments_lexer": "ipython3",
   "version": "3.10.8"
  }
 },
 "nbformat": 4,
 "nbformat_minor": 5
}
