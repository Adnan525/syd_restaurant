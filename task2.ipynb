{
 "cells": [
  {
   "cell_type": "code",
   "execution_count": 1,
   "id": "dbed088e-5d1b-428c-982c-18e460920177",
   "metadata": {},
   "outputs": [],
   "source": [
    "import warnings\n",
    "warnings.filterwarnings(\"ignore\")"
   ]
  },
  {
   "cell_type": "code",
   "execution_count": 2,
   "id": "085971f7-fd31-424b-8ff0-79481644848c",
   "metadata": {},
   "outputs": [],
   "source": [
    "import numpy as np\n",
    "import pandas as pd\n",
    "import geopandas\n",
    "from shapely.geometry import Point"
   ]
  },
  {
   "cell_type": "code",
   "execution_count": 6,
   "id": "df860de8-fd58-4de7-b418-171b8cf15355",
   "metadata": {},
   "outputs": [],
   "source": [
    "df_full = pd.read_csv(\"data/zomato_df_final_data.csv\")"
   ]
  },
  {
   "cell_type": "code",
   "execution_count": 4,
   "id": "aa97e4af-8b39-4688-9e97-329672d13a9f",
   "metadata": {},
   "outputs": [],
   "source": [
    "gdf = geopandas.read_file(\"data/sydney.geojson\")"
   ]
  },
  {
   "cell_type": "code",
   "execution_count": 5,
   "id": "03a25902-861e-4264-8b15-388882328b1f",
   "metadata": {},
   "outputs": [
    {
     "data": {
      "text/plain": [
       "Index(['address', 'cost', 'cuisine', 'lat', 'link', 'lng', 'phone',\n",
       "       'rating_number', 'rating_text', 'subzone', 'title', 'type', 'votes',\n",
       "       'groupon', 'color', 'cost_2', 'cuisine_color'],\n",
       "      dtype='object')"
      ]
     },
     "execution_count": 5,
     "metadata": {},
     "output_type": "execute_result"
    }
   ],
   "source": [
    "df.columns"
   ]
  },
  {
   "cell_type": "code",
   "execution_count": 7,
   "id": "eb25af1c-dc61-4509-9bd3-55f18f1b31f0",
   "metadata": {},
   "outputs": [],
   "source": [
    "# haven't decided what to do with cuisine\n",
    "df = df_full.drop(columns = [\"address\", \"link\", \"phone\", \"title\"], axis = 1)"
   ]
  },
  {
   "cell_type": "code",
   "execution_count": 9,
   "id": "e0dfa3db-36c8-4832-a756-517b0a3236bf",
   "metadata": {},
   "outputs": [
    {
     "data": {
      "text/plain": [
       "cost             float64\n",
       "cuisine           object\n",
       "lat              float64\n",
       "lng              float64\n",
       "rating_number    float64\n",
       "rating_text       object\n",
       "subzone           object\n",
       "type              object\n",
       "votes            float64\n",
       "groupon             bool\n",
       "color             object\n",
       "cost_2           float64\n",
       "cuisine_color     object\n",
       "dtype: object"
      ]
     },
     "execution_count": 9,
     "metadata": {},
     "output_type": "execute_result"
    }
   ],
   "source": [
    "df.dtypes"
   ]
  },
  {
   "cell_type": "code",
   "execution_count": null,
   "id": "3ce30e9b-e35f-4a66-9c5f-1017798ed18d",
   "metadata": {},
   "outputs": [],
   "source": []
  }
 ],
 "metadata": {
  "kernelspec": {
   "display_name": "Python 3 (ipykernel)",
   "language": "python",
   "name": "python3"
  },
  "language_info": {
   "codemirror_mode": {
    "name": "ipython",
    "version": 3
   },
   "file_extension": ".py",
   "mimetype": "text/x-python",
   "name": "python",
   "nbconvert_exporter": "python",
   "pygments_lexer": "ipython3",
   "version": "3.10.8"
  }
 },
 "nbformat": 4,
 "nbformat_minor": 5
}
