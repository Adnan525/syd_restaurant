{
 "cells": [
  {
   "cell_type": "code",
   "execution_count": 1,
   "id": "dbed088e-5d1b-428c-982c-18e460920177",
   "metadata": {},
   "outputs": [],
   "source": [
    "import warnings\n",
    "warnings.filterwarnings(\"ignore\")"
   ]
  },
  {
   "cell_type": "code",
   "execution_count": 2,
   "id": "085971f7-fd31-424b-8ff0-79481644848c",
   "metadata": {},
   "outputs": [],
   "source": [
    "import numpy as np\n",
    "import pandas as pd\n",
    "import geopandas\n",
    "from shapely.geometry import Point"
   ]
  },
  {
   "cell_type": "code",
   "execution_count": 25,
   "id": "df860de8-fd58-4de7-b418-171b8cf15355",
   "metadata": {},
   "outputs": [],
   "source": [
    "df_full = pd.read_csv(\"data/zomato_df_final_data.csv\")"
   ]
  },
  {
   "cell_type": "code",
   "execution_count": 94,
   "id": "aa97e4af-8b39-4688-9e97-329672d13a9f",
   "metadata": {},
   "outputs": [],
   "source": [
    "gdf = geopandas.read_file(\"data/sydney.geojson\")"
   ]
  },
  {
   "cell_type": "code",
   "execution_count": 26,
   "id": "eb25af1c-dc61-4509-9bd3-55f18f1b31f0",
   "metadata": {},
   "outputs": [],
   "source": [
    "# haven't decided what to do with cuisine\n",
    "df = df_full.drop(columns = [\"address\", \"link\", \"phone\", \"title\"], axis = 1)"
   ]
  },
  {
   "cell_type": "code",
   "execution_count": 96,
   "id": "e0dfa3db-36c8-4832-a756-517b0a3236bf",
   "metadata": {},
   "outputs": [
    {
     "data": {
      "text/plain": [
       "cost             float64\n",
       "cuisine           object\n",
       "lat              float64\n",
       "lng              float64\n",
       "rating_number    float64\n",
       "rating_text       object\n",
       "subzone           object\n",
       "type              object\n",
       "votes            float64\n",
       "groupon             bool\n",
       "color             object\n",
       "cost_2           float64\n",
       "cuisine_color     object\n",
       "dtype: object"
      ]
     },
     "execution_count": 96,
     "metadata": {},
     "output_type": "execute_result"
    }
   ],
   "source": [
    "df.dtypes"
   ]
  },
  {
   "cell_type": "code",
   "execution_count": 97,
   "id": "3ce30e9b-e35f-4a66-9c5f-1017798ed18d",
   "metadata": {},
   "outputs": [],
   "source": [
    "# for regression 1 we wont use rating_text\n",
    "df = df.drop(columns = [\"rating_text\"], axis = 1)"
   ]
  },
  {
   "cell_type": "code",
   "execution_count": 98,
   "id": "5518a9c9-c6f2-4100-a62c-ea8455721233",
   "metadata": {},
   "outputs": [
    {
     "data": {
      "text/plain": [
       "5"
      ]
     },
     "execution_count": 98,
     "metadata": {},
     "output_type": "execute_result"
    }
   ],
   "source": [
    "len(df.cuisine_color.unique())\n",
    "# not sure why we have this"
   ]
  },
  {
   "cell_type": "code",
   "execution_count": 99,
   "id": "01f3d7f0-3026-4900-98d8-ea359f523377",
   "metadata": {},
   "outputs": [],
   "source": [
    "# do some feature engineering\n",
    "df.groupon = df.groupon.astype(int)"
   ]
  },
  {
   "cell_type": "code",
   "execution_count": 100,
   "id": "e7068964-a7d4-487a-a7b9-cd4d302b7698",
   "metadata": {},
   "outputs": [],
   "source": [
    "df = df.drop(columns = [\"color\", \"cuisine_color\"], axis = 1)"
   ]
  },
  {
   "cell_type": "code",
   "execution_count": 101,
   "id": "92912805-9c83-4aab-aa1d-4291fcec92a1",
   "metadata": {},
   "outputs": [
    {
     "data": {
      "text/plain": [
       "cost              346\n",
       "cuisine             0\n",
       "lat               192\n",
       "lng               192\n",
       "rating_number    3316\n",
       "subzone             0\n",
       "type               48\n",
       "votes            3316\n",
       "groupon             0\n",
       "cost_2            346\n",
       "dtype: int64"
      ]
     },
     "execution_count": 101,
     "metadata": {},
     "output_type": "execute_result"
    }
   ],
   "source": [
    "df.isna().sum()"
   ]
  },
  {
   "cell_type": "code",
   "execution_count": 102,
   "id": "f33d72d8-6339-4031-b5aa-595d848974f0",
   "metadata": {},
   "outputs": [],
   "source": [
    "# bringing address to see in helps\n",
    "df[\"address\"] = df_full[\"address\"]"
   ]
  },
  {
   "cell_type": "code",
   "execution_count": 103,
   "id": "109c893b-613a-4296-b976-f8e481cf83d9",
   "metadata": {},
   "outputs": [
    {
     "data": {
      "text/plain": [
       "156       Level 4 & 5, Citymark, 683-689 George Street,...\n",
       "317       Level 3, North End, QVB, 455 George Street, \\...\n",
       "438       The Cannery, Shop 1/34 Morley Avenue, Roseber...\n",
       "468       Shop 5, 302 Church Street (enter via Phillip ...\n",
       "573                    Lower Ground, 55 York Street, \\tCBD\n",
       "                               ...                        \n",
       "10387     Ground Level, Forestville Centre, Starkey Str...\n",
       "10477     Food Court, Greenway Plaza, 210 Church Street...\n",
       "10483                  14 Bunlunga Lane, Mona Vale, Sydney\n",
       "10491     Shop 2, Coogee Village Shopping Centre, 184 C...\n",
       "10499            136 Sailors Bay Road, Northbridge, Sydney\n",
       "Name: address, Length: 192, dtype: object"
      ]
     },
     "execution_count": 103,
     "metadata": {},
     "output_type": "execute_result"
    }
   ],
   "source": [
    "temp = df[df.lat.isna()]\n",
    "temp.address"
   ]
  },
  {
   "cell_type": "code",
   "execution_count": 104,
   "id": "aa337cc8-8982-4e69-99d2-958845ce953c",
   "metadata": {},
   "outputs": [],
   "source": [
    "from geopy.geocoders import Nominatim\n",
    "from geopy.exc import GeocoderTimedOut"
   ]
  },
  {
   "cell_type": "code",
   "execution_count": 105,
   "id": "ac3d34bf-4d9f-43d1-b582-b839959fd9f7",
   "metadata": {},
   "outputs": [],
   "source": [
    "# i = 0\n",
    "# for address in temp.address : \n",
    "#     print(f\"{i}. address : {address}\")\n",
    "#     i += 1\n",
    "#     try : \n",
    "#         geolocator = Nominatim(user_agent=\"address_to_ssc_code\")\n",
    "#         location = geolocator.geocode(address)\n",
    "#         if location:\n",
    "#             latitude, longitude = location.latitude, location.longitude\n",
    "#             print(f\"Latitude: {latitude}, Longitude: {longitude}\")\n",
    "#         else:\n",
    "#             print(\"Address not found.\")\n",
    "#     except GeocoderTimedOut:\n",
    "#         print(\"Geocoding service timed out. Address not found.\")\n",
    "#     except Exception as e:\n",
    "#         print(f\"An error occurred: Max retries exceeded\")"
   ]
  },
  {
   "cell_type": "code",
   "execution_count": 106,
   "id": "8197eb99-a43e-41b3-b1cb-30b5d681f521",
   "metadata": {},
   "outputs": [],
   "source": [
    "# missing_suburbs = temp.address.apply(lambda x : x.split(\",\")[-1].strip())\n",
    "# missing_suburbs = [suburb.strip() for suburb in missing_suburbs]"
   ]
  },
  {
   "cell_type": "code",
   "execution_count": 107,
   "id": "15c974d1-4607-4c89-8572-c5c9172e5cd4",
   "metadata": {},
   "outputs": [],
   "source": [
    "# missing_suburbs.unique()"
   ]
  },
  {
   "cell_type": "code",
   "execution_count": 108,
   "id": "d0ee22dc-347e-48df-a501-b4c67289d70a",
   "metadata": {},
   "outputs": [],
   "source": [
    "# df.loc[df['lat'].isna(), \"address\"] = df['address'].str.split().str[-1].str.strip()\n"
   ]
  },
  {
   "cell_type": "code",
   "execution_count": 109,
   "id": "2aeb51ea-8d37-4162-b331-ec8a3a113e03",
   "metadata": {},
   "outputs": [
    {
     "data": {
      "text/plain": [
       "1359"
      ]
     },
     "execution_count": 109,
     "metadata": {},
     "output_type": "execute_result"
    }
   ],
   "source": [
    "# subzone is not suburb or at leats it's not correct for 1359 entries\n",
    "# suburb name dont have comma\n",
    "len(df[df.subzone.str.contains(\",\")])"
   ]
  },
  {
   "cell_type": "code",
   "execution_count": 110,
   "id": "b0a4814e-df17-4992-916f-6f621dbd7fea",
   "metadata": {},
   "outputs": [],
   "source": [
    "df['subzone'] = df['subzone'].apply(lambda x: x.split(',')[-1].strip() if ',' in x else x)\n"
   ]
  },
  {
   "cell_type": "code",
   "execution_count": 111,
   "id": "27b7844b-27c1-4544-8dd6-4591ca57968a",
   "metadata": {},
   "outputs": [
    {
     "data": {
      "text/plain": [
       "572"
      ]
     },
     "execution_count": 111,
     "metadata": {},
     "output_type": "execute_result"
    }
   ],
   "source": [
    "len(df_full.subzone.unique())"
   ]
  },
  {
   "cell_type": "code",
   "execution_count": 112,
   "id": "7d5bbb67-69d5-48d4-8671-5af72902a0ab",
   "metadata": {},
   "outputs": [
    {
     "data": {
      "text/plain": [
       "339"
      ]
     },
     "execution_count": 112,
     "metadata": {},
     "output_type": "execute_result"
    }
   ],
   "source": [
    "len(df.subzone.unique())"
   ]
  },
  {
   "cell_type": "code",
   "execution_count": 128,
   "id": "d4a9549c-e6a3-49c4-8d67-0d174d8c812c",
   "metadata": {},
   "outputs": [
    {
     "data": {
      "text/plain": [
       "cost              0\n",
       "cuisine           0\n",
       "rating_number     0\n",
       "subzone           0\n",
       "type             21\n",
       "votes             0\n",
       "groupon           0\n",
       "cost_2            0\n",
       "dtype: int64"
      ]
     },
     "execution_count": 128,
     "metadata": {},
     "output_type": "execute_result"
    }
   ],
   "source": [
    "df.isna().sum()"
   ]
  },
  {
   "cell_type": "code",
   "execution_count": 114,
   "id": "47bb41da-11c7-4f20-a33b-b9372df1510b",
   "metadata": {},
   "outputs": [],
   "source": [
    "df = df.drop(columns = [\"lat\", \"lng\", \"address\"])"
   ]
  },
  {
   "cell_type": "code",
   "execution_count": 115,
   "id": "699a565b-50b5-4b59-afd8-749481bfd3b1",
   "metadata": {},
   "outputs": [],
   "source": [
    "# will drop row if rating is missing for now"
   ]
  },
  {
   "cell_type": "code",
   "execution_count": 116,
   "id": "6debf743-1553-4d26-a90b-b63133e5154e",
   "metadata": {},
   "outputs": [],
   "source": [
    "df.dropna(subset=['rating_number'], inplace=True)"
   ]
  },
  {
   "cell_type": "code",
   "execution_count": 118,
   "id": "83dd619c-de91-455a-898e-cc36c1ec55db",
   "metadata": {},
   "outputs": [
    {
     "data": {
      "text/html": [
       "<div>\n",
       "<style scoped>\n",
       "    .dataframe tbody tr th:only-of-type {\n",
       "        vertical-align: middle;\n",
       "    }\n",
       "\n",
       "    .dataframe tbody tr th {\n",
       "        vertical-align: top;\n",
       "    }\n",
       "\n",
       "    .dataframe thead th {\n",
       "        text-align: right;\n",
       "    }\n",
       "</style>\n",
       "<table border=\"1\" class=\"dataframe\">\n",
       "  <thead>\n",
       "    <tr style=\"text-align: right;\">\n",
       "      <th></th>\n",
       "      <th>cost</th>\n",
       "      <th>cuisine</th>\n",
       "      <th>rating_number</th>\n",
       "      <th>subzone</th>\n",
       "      <th>type</th>\n",
       "      <th>votes</th>\n",
       "      <th>groupon</th>\n",
       "      <th>cost_2</th>\n",
       "    </tr>\n",
       "  </thead>\n",
       "  <tbody>\n",
       "    <tr>\n",
       "      <th>396</th>\n",
       "      <td>NaN</td>\n",
       "      <td>['Japanese']</td>\n",
       "      <td>3.9</td>\n",
       "      <td>CBD</td>\n",
       "      <td>['Casual Dining']</td>\n",
       "      <td>44.0</td>\n",
       "      <td>0</td>\n",
       "      <td>NaN</td>\n",
       "    </tr>\n",
       "    <tr>\n",
       "      <th>793</th>\n",
       "      <td>NaN</td>\n",
       "      <td>['Chinese', 'Sichuan']</td>\n",
       "      <td>3.8</td>\n",
       "      <td>Chinatown</td>\n",
       "      <td>['Casual Dining']</td>\n",
       "      <td>40.0</td>\n",
       "      <td>0</td>\n",
       "      <td>NaN</td>\n",
       "    </tr>\n",
       "    <tr>\n",
       "      <th>918</th>\n",
       "      <td>NaN</td>\n",
       "      <td>['Sushi', 'Japanese']</td>\n",
       "      <td>3.5</td>\n",
       "      <td>Crows Nest</td>\n",
       "      <td>['Casual Dining']</td>\n",
       "      <td>18.0</td>\n",
       "      <td>0</td>\n",
       "      <td>NaN</td>\n",
       "    </tr>\n",
       "    <tr>\n",
       "      <th>983</th>\n",
       "      <td>NaN</td>\n",
       "      <td>['Korean BBQ']</td>\n",
       "      <td>3.6</td>\n",
       "      <td>Lidcombe</td>\n",
       "      <td>['Casual Dining']</td>\n",
       "      <td>56.0</td>\n",
       "      <td>0</td>\n",
       "      <td>NaN</td>\n",
       "    </tr>\n",
       "    <tr>\n",
       "      <th>1042</th>\n",
       "      <td>NaN</td>\n",
       "      <td>['Japanese', 'Tea']</td>\n",
       "      <td>3.4</td>\n",
       "      <td>Redfern</td>\n",
       "      <td>['Casual Dining']</td>\n",
       "      <td>29.0</td>\n",
       "      <td>0</td>\n",
       "      <td>NaN</td>\n",
       "    </tr>\n",
       "    <tr>\n",
       "      <th>...</th>\n",
       "      <td>...</td>\n",
       "      <td>...</td>\n",
       "      <td>...</td>\n",
       "      <td>...</td>\n",
       "      <td>...</td>\n",
       "      <td>...</td>\n",
       "      <td>...</td>\n",
       "      <td>...</td>\n",
       "    </tr>\n",
       "    <tr>\n",
       "      <th>8653</th>\n",
       "      <td>NaN</td>\n",
       "      <td>['Chinese']</td>\n",
       "      <td>3.0</td>\n",
       "      <td>Eastwood</td>\n",
       "      <td>['Casual Dining']</td>\n",
       "      <td>14.0</td>\n",
       "      <td>0</td>\n",
       "      <td>NaN</td>\n",
       "    </tr>\n",
       "    <tr>\n",
       "      <th>8733</th>\n",
       "      <td>NaN</td>\n",
       "      <td>['Indian', 'Pakistani']</td>\n",
       "      <td>2.8</td>\n",
       "      <td>Liverpool</td>\n",
       "      <td>['Casual Dining']</td>\n",
       "      <td>6.0</td>\n",
       "      <td>0</td>\n",
       "      <td>NaN</td>\n",
       "    </tr>\n",
       "    <tr>\n",
       "      <th>8865</th>\n",
       "      <td>NaN</td>\n",
       "      <td>['Modern Australian']</td>\n",
       "      <td>2.7</td>\n",
       "      <td>Liverpool</td>\n",
       "      <td>['Café']</td>\n",
       "      <td>6.0</td>\n",
       "      <td>0</td>\n",
       "      <td>NaN</td>\n",
       "    </tr>\n",
       "    <tr>\n",
       "      <th>8955</th>\n",
       "      <td>NaN</td>\n",
       "      <td>['Chinese']</td>\n",
       "      <td>2.7</td>\n",
       "      <td>Frenchs Forest</td>\n",
       "      <td>['Casual Dining']</td>\n",
       "      <td>8.0</td>\n",
       "      <td>0</td>\n",
       "      <td>NaN</td>\n",
       "    </tr>\n",
       "    <tr>\n",
       "      <th>9058</th>\n",
       "      <td>NaN</td>\n",
       "      <td>['Chinese']</td>\n",
       "      <td>3.1</td>\n",
       "      <td>Punchbowl</td>\n",
       "      <td>['Casual Dining']</td>\n",
       "      <td>13.0</td>\n",
       "      <td>0</td>\n",
       "      <td>NaN</td>\n",
       "    </tr>\n",
       "  </tbody>\n",
       "</table>\n",
       "<p>103 rows × 8 columns</p>\n",
       "</div>"
      ],
      "text/plain": [
       "      cost                  cuisine  rating_number         subzone  \\\n",
       "396    NaN             ['Japanese']            3.9             CBD   \n",
       "793    NaN   ['Chinese', 'Sichuan']            3.8       Chinatown   \n",
       "918    NaN    ['Sushi', 'Japanese']            3.5      Crows Nest   \n",
       "983    NaN           ['Korean BBQ']            3.6        Lidcombe   \n",
       "1042   NaN      ['Japanese', 'Tea']            3.4         Redfern   \n",
       "...    ...                      ...            ...             ...   \n",
       "8653   NaN              ['Chinese']            3.0        Eastwood   \n",
       "8733   NaN  ['Indian', 'Pakistani']            2.8       Liverpool   \n",
       "8865   NaN    ['Modern Australian']            2.7       Liverpool   \n",
       "8955   NaN              ['Chinese']            2.7  Frenchs Forest   \n",
       "9058   NaN              ['Chinese']            3.1       Punchbowl   \n",
       "\n",
       "                   type  votes  groupon  cost_2  \n",
       "396   ['Casual Dining']   44.0        0     NaN  \n",
       "793   ['Casual Dining']   40.0        0     NaN  \n",
       "918   ['Casual Dining']   18.0        0     NaN  \n",
       "983   ['Casual Dining']   56.0        0     NaN  \n",
       "1042  ['Casual Dining']   29.0        0     NaN  \n",
       "...                 ...    ...      ...     ...  \n",
       "8653  ['Casual Dining']   14.0        0     NaN  \n",
       "8733  ['Casual Dining']    6.0        0     NaN  \n",
       "8865           ['Café']    6.0        0     NaN  \n",
       "8955  ['Casual Dining']    8.0        0     NaN  \n",
       "9058  ['Casual Dining']   13.0        0     NaN  \n",
       "\n",
       "[103 rows x 8 columns]"
      ]
     },
     "execution_count": 118,
     "metadata": {},
     "output_type": "execute_result"
    }
   ],
   "source": [
    "df[df.cost.isna()]"
   ]
  },
  {
   "cell_type": "code",
   "execution_count": 126,
   "id": "22a17175-7693-48b0-a90e-6531794ad3ec",
   "metadata": {},
   "outputs": [],
   "source": [
    "df['cost'] = df.groupby('subzone')['cost'].transform(lambda x: x.fillna(x.mean()))\n",
    "df['cost_2'] = df.groupby('subzone')['cost_2'].transform(lambda x: x.fillna(x.mean()))"
   ]
  },
  {
   "cell_type": "code",
   "execution_count": 127,
   "id": "703a0c4d-2ad0-49c7-9223-3bfcd67a2491",
   "metadata": {},
   "outputs": [
    {
     "data": {
      "text/plain": [
       "cost                          51.441718\n",
       "cuisine          ['Chinese', 'Sichuan']\n",
       "rating_number                       3.8\n",
       "subzone                       Chinatown\n",
       "type                  ['Casual Dining']\n",
       "votes                              40.0\n",
       "groupon                               0\n",
       "cost_2                         5.355255\n",
       "Name: 793, dtype: object"
      ]
     },
     "execution_count": 127,
     "metadata": {},
     "output_type": "execute_result"
    }
   ],
   "source": [
    "df.loc[793]"
   ]
  },
  {
   "cell_type": "code",
   "execution_count": 129,
   "id": "619707cc-2d7f-47d0-9281-7267172747e8",
   "metadata": {},
   "outputs": [],
   "source": [
    "df = df.drop(columns = [\"type\", \"cuisine\"])"
   ]
  },
  {
   "cell_type": "code",
   "execution_count": 133,
   "id": "088cd47f-0266-406f-a9bd-618b594a0bf2",
   "metadata": {},
   "outputs": [],
   "source": [
    "from sklearn.preprocessing import LabelEncoder\n",
    "\n",
    "label_encoder = LabelEncoder()\n",
    "df['subzone_encoded'] = label_encoder.fit_transform(df['subzone'])\n",
    "df = df.drop(columns = [\"subzone\"], axis = 1)\n"
   ]
  },
  {
   "cell_type": "code",
   "execution_count": 134,
   "id": "79756ec9-e7a6-4b5e-ad64-f325f4c252f7",
   "metadata": {},
   "outputs": [
    {
     "name": "stdout",
     "output_type": "stream",
     "text": [
      "Mean Squared Error: 0.15023008107092764\n",
      "R-squared: 0.2375261151490855\n"
     ]
    }
   ],
   "source": [
    "from sklearn.model_selection import train_test_split\n",
    "from sklearn.linear_model import LinearRegression\n",
    "from sklearn.metrics import mean_squared_error, r2_score\n",
    "\n",
    "\n",
    "# X,y\n",
    "X = df.drop(columns=['rating_number'])  # Features\n",
    "y = df['rating_number']  # Target\n",
    "\n",
    "X_train, X_test, y_train, y_test = train_test_split(X, y, test_size=0.2, random_state=0)\n",
    "\n",
    "model_regression_1 = LinearRegression()\n",
    "model_regression_1.fit(X_train, y_train)\n",
    "\n",
    "# predictions\n",
    "y_pred = model_regression_1.predict(X_test)\n",
    "\n",
    "# Evaluate\n",
    "mse = mean_squared_error(y_test, y_pred)\n",
    "r2 = r2_score(y_test, y_pred)\n",
    "\n",
    "print(\"Mean Squared Error:\", mse)\n",
    "print(\"R-squared:\", r2)"
   ]
  },
  {
   "cell_type": "code",
   "execution_count": 136,
   "id": "1faa3c38-7b4d-4e24-b41f-5fcea94912ff",
   "metadata": {},
   "outputs": [
    {
     "name": "stdout",
     "output_type": "stream",
     "text": [
      "Mean Squared Error: 0.1614347029693049\n",
      "R-squared: 0.18065846569938682\n"
     ]
    }
   ],
   "source": [
    "from sklearn.linear_model import SGDRegressor\n",
    "from sklearn.preprocessing import StandardScaler\n",
    "\n",
    "# Standardize the features\n",
    "scaler = StandardScaler()\n",
    "X_train_scaled = scaler.fit_transform(X_train)\n",
    "X_test_scaled = scaler.transform(X_test)\n",
    "\n",
    "model_regression_2 = SGDRegressor(loss=\"squared_error\", max_iter=1000, random_state=0)\n",
    "model_regression_2.fit(X_train_scaled, y_train)\n",
    "\n",
    "y_pred = model_regression_2.predict(X_test_scaled)\n",
    "\n",
    "mse = mean_squared_error(y_test, y_pred)\n",
    "r2 = r2_score(y_test, y_pred)\n",
    "\n",
    "print(\"Mean Squared Error:\", mse)\n",
    "print(\"R-squared:\", r2)\n"
   ]
  },
  {
   "cell_type": "code",
   "execution_count": null,
   "id": "8dcf2deb-eb2b-44ee-bf47-96e5f803a417",
   "metadata": {},
   "outputs": [],
   "source": [
    "# type feature engineering"
   ]
  },
  {
   "cell_type": "code",
   "execution_count": 27,
   "id": "16230eb6-9520-4747-9888-651526ea96bf",
   "metadata": {},
   "outputs": [],
   "source": [
    "# after line 4\n",
    "df = df.drop(columns = [\"cuisine\", \"lat\", \"lng\", \"rating_text\", \"color\", \"cuisine_color\"])"
   ]
  },
  {
   "cell_type": "code",
   "execution_count": 28,
   "id": "9c9dac8f-a6cd-418d-bf3d-647e304648ed",
   "metadata": {},
   "outputs": [
    {
     "data": {
      "text/html": [
       "<div>\n",
       "<style scoped>\n",
       "    .dataframe tbody tr th:only-of-type {\n",
       "        vertical-align: middle;\n",
       "    }\n",
       "\n",
       "    .dataframe tbody tr th {\n",
       "        vertical-align: top;\n",
       "    }\n",
       "\n",
       "    .dataframe thead th {\n",
       "        text-align: right;\n",
       "    }\n",
       "</style>\n",
       "<table border=\"1\" class=\"dataframe\">\n",
       "  <thead>\n",
       "    <tr style=\"text-align: right;\">\n",
       "      <th></th>\n",
       "      <th>cost</th>\n",
       "      <th>rating_number</th>\n",
       "      <th>subzone</th>\n",
       "      <th>type</th>\n",
       "      <th>votes</th>\n",
       "      <th>groupon</th>\n",
       "      <th>cost_2</th>\n",
       "    </tr>\n",
       "  </thead>\n",
       "  <tbody>\n",
       "    <tr>\n",
       "      <th>0</th>\n",
       "      <td>50.0</td>\n",
       "      <td>4.0</td>\n",
       "      <td>CBD</td>\n",
       "      <td>['Casual Dining']</td>\n",
       "      <td>1311.0</td>\n",
       "      <td>False</td>\n",
       "      <td>5.243902</td>\n",
       "    </tr>\n",
       "    <tr>\n",
       "      <th>1</th>\n",
       "      <td>80.0</td>\n",
       "      <td>4.6</td>\n",
       "      <td>The Grounds of Alexandria, Alexandria</td>\n",
       "      <td>['Café']</td>\n",
       "      <td>3236.0</td>\n",
       "      <td>False</td>\n",
       "      <td>7.560976</td>\n",
       "    </tr>\n",
       "    <tr>\n",
       "      <th>2</th>\n",
       "      <td>120.0</td>\n",
       "      <td>4.9</td>\n",
       "      <td>The Star, Pyrmont</td>\n",
       "      <td>['Fine Dining']</td>\n",
       "      <td>1227.0</td>\n",
       "      <td>False</td>\n",
       "      <td>10.650407</td>\n",
       "    </tr>\n",
       "    <tr>\n",
       "      <th>3</th>\n",
       "      <td>270.0</td>\n",
       "      <td>4.9</td>\n",
       "      <td>Circular Quay</td>\n",
       "      <td>['Fine Dining', 'Bar']</td>\n",
       "      <td>278.0</td>\n",
       "      <td>False</td>\n",
       "      <td>22.235772</td>\n",
       "    </tr>\n",
       "    <tr>\n",
       "      <th>4</th>\n",
       "      <td>55.0</td>\n",
       "      <td>4.5</td>\n",
       "      <td>Chinatown</td>\n",
       "      <td>['Casual Dining']</td>\n",
       "      <td>2150.0</td>\n",
       "      <td>False</td>\n",
       "      <td>5.630081</td>\n",
       "    </tr>\n",
       "    <tr>\n",
       "      <th>...</th>\n",
       "      <td>...</td>\n",
       "      <td>...</td>\n",
       "      <td>...</td>\n",
       "      <td>...</td>\n",
       "      <td>...</td>\n",
       "      <td>...</td>\n",
       "      <td>...</td>\n",
       "    </tr>\n",
       "    <tr>\n",
       "      <th>10495</th>\n",
       "      <td>40.0</td>\n",
       "      <td>NaN</td>\n",
       "      <td>Parramatta</td>\n",
       "      <td>['Casual Dining']</td>\n",
       "      <td>NaN</td>\n",
       "      <td>False</td>\n",
       "      <td>4.471545</td>\n",
       "    </tr>\n",
       "    <tr>\n",
       "      <th>10496</th>\n",
       "      <td>20.0</td>\n",
       "      <td>NaN</td>\n",
       "      <td>Lakemba</td>\n",
       "      <td>['Bar']</td>\n",
       "      <td>NaN</td>\n",
       "      <td>False</td>\n",
       "      <td>2.926829</td>\n",
       "    </tr>\n",
       "    <tr>\n",
       "      <th>10497</th>\n",
       "      <td>20.0</td>\n",
       "      <td>NaN</td>\n",
       "      <td>Penrith</td>\n",
       "      <td>['Food Court']</td>\n",
       "      <td>NaN</td>\n",
       "      <td>False</td>\n",
       "      <td>2.926829</td>\n",
       "    </tr>\n",
       "    <tr>\n",
       "      <th>10498</th>\n",
       "      <td>15.0</td>\n",
       "      <td>NaN</td>\n",
       "      <td>St Marys</td>\n",
       "      <td>['Food Court']</td>\n",
       "      <td>NaN</td>\n",
       "      <td>False</td>\n",
       "      <td>2.540650</td>\n",
       "    </tr>\n",
       "    <tr>\n",
       "      <th>10499</th>\n",
       "      <td>60.0</td>\n",
       "      <td>NaN</td>\n",
       "      <td>Northbridge</td>\n",
       "      <td>['Casual Dining']</td>\n",
       "      <td>NaN</td>\n",
       "      <td>False</td>\n",
       "      <td>6.016260</td>\n",
       "    </tr>\n",
       "  </tbody>\n",
       "</table>\n",
       "<p>10500 rows × 7 columns</p>\n",
       "</div>"
      ],
      "text/plain": [
       "        cost  rating_number                                subzone  \\\n",
       "0       50.0            4.0                                    CBD   \n",
       "1       80.0            4.6  The Grounds of Alexandria, Alexandria   \n",
       "2      120.0            4.9                      The Star, Pyrmont   \n",
       "3      270.0            4.9                          Circular Quay   \n",
       "4       55.0            4.5                              Chinatown   \n",
       "...      ...            ...                                    ...   \n",
       "10495   40.0            NaN                             Parramatta   \n",
       "10496   20.0            NaN                                Lakemba   \n",
       "10497   20.0            NaN                                Penrith   \n",
       "10498   15.0            NaN                               St Marys   \n",
       "10499   60.0            NaN                            Northbridge   \n",
       "\n",
       "                         type   votes  groupon     cost_2  \n",
       "0           ['Casual Dining']  1311.0    False   5.243902  \n",
       "1                    ['Café']  3236.0    False   7.560976  \n",
       "2             ['Fine Dining']  1227.0    False  10.650407  \n",
       "3      ['Fine Dining', 'Bar']   278.0    False  22.235772  \n",
       "4           ['Casual Dining']  2150.0    False   5.630081  \n",
       "...                       ...     ...      ...        ...  \n",
       "10495       ['Casual Dining']     NaN    False   4.471545  \n",
       "10496                 ['Bar']     NaN    False   2.926829  \n",
       "10497          ['Food Court']     NaN    False   2.926829  \n",
       "10498          ['Food Court']     NaN    False   2.540650  \n",
       "10499       ['Casual Dining']     NaN    False   6.016260  \n",
       "\n",
       "[10500 rows x 7 columns]"
      ]
     },
     "execution_count": 28,
     "metadata": {},
     "output_type": "execute_result"
    }
   ],
   "source": [
    "df"
   ]
  },
  {
   "cell_type": "code",
   "execution_count": 16,
   "id": "93740c3e-e0fa-4501-a102-a9ba20dd372d",
   "metadata": {},
   "outputs": [],
   "source": [
    "# i wanna see how many types of dining types available"
   ]
  },
  {
   "cell_type": "code",
   "execution_count": 29,
   "id": "7bb4e730-c4fc-4092-9b4b-8ad6967e1919",
   "metadata": {},
   "outputs": [
    {
     "data": {
      "text/plain": [
       "cost              346\n",
       "rating_number    3316\n",
       "subzone             0\n",
       "type               48\n",
       "votes            3316\n",
       "groupon             0\n",
       "cost_2            346\n",
       "dtype: int64"
      ]
     },
     "execution_count": 29,
     "metadata": {},
     "output_type": "execute_result"
    }
   ],
   "source": [
    "df.isna().sum()"
   ]
  },
  {
   "cell_type": "code",
   "execution_count": 30,
   "id": "15d0ba90-716a-4b42-8a42-7d39e2f1d4d6",
   "metadata": {},
   "outputs": [],
   "source": [
    "most_frequent = df[\"type\"].mode()[0]\n",
    "df[\"type\"].fillna(most_frequent, inplace=True)"
   ]
  },
  {
   "cell_type": "code",
   "execution_count": 31,
   "id": "02efd58d-1b57-4737-ba95-09c5c65a8cea",
   "metadata": {},
   "outputs": [],
   "source": [
    "# from ast import literal_eval\n",
    "# df[\"type\"] = df[\"type\"].apply(literal_eval)\n",
    "# df.type = df.type.apply(literal_eval)\n",
    "\n",
    "# doing like task 1\n",
    "# store all cusines in a set\n",
    "import re\n",
    "types = set()\n",
    "\n",
    "#custom function to check all the values\n",
    "def get_type(str):\n",
    "    pattern = r',\\s*' #removing comma(,) followed by immediate space\n",
    "    cleaned_text = re.sub(pattern, '-', str)\n",
    "    pattern2 = r'[\\'\\[\\],]'\n",
    "    cleaned_text = re.sub(pattern2, \"\", cleaned_text)\n",
    "    temp = cleaned_text.split(\"-\")\n",
    "    for type in temp:\n",
    "        types.add(cuisine)"
   ]
  },
  {
   "cell_type": "code",
   "execution_count": 32,
   "id": "cfa964f2-0200-4b6a-91e3-3829b86dd382",
   "metadata": {},
   "outputs": [
    {
     "ename": "NameError",
     "evalue": "name 'cuisine' is not defined",
     "output_type": "error",
     "traceback": [
      "\u001b[0;31m---------------------------------------------------------------------------\u001b[0m",
      "\u001b[0;31mNameError\u001b[0m                                 Traceback (most recent call last)",
      "Cell \u001b[0;32mIn[32], line 2\u001b[0m\n\u001b[1;32m      1\u001b[0m \u001b[38;5;28;01mfor\u001b[39;00m value \u001b[38;5;129;01min\u001b[39;00m df[\u001b[38;5;124m\"\u001b[39m\u001b[38;5;124mtype\u001b[39m\u001b[38;5;124m\"\u001b[39m]:\n\u001b[0;32m----> 2\u001b[0m     \u001b[43mget_type\u001b[49m\u001b[43m(\u001b[49m\u001b[43mvalue\u001b[49m\u001b[43m)\u001b[49m\n\u001b[1;32m      3\u001b[0m \u001b[38;5;28mlen\u001b[39m(types)\n",
      "Cell \u001b[0;32mIn[31], line 18\u001b[0m, in \u001b[0;36mget_type\u001b[0;34m(str)\u001b[0m\n\u001b[1;32m     16\u001b[0m temp \u001b[38;5;241m=\u001b[39m cleaned_text\u001b[38;5;241m.\u001b[39msplit(\u001b[38;5;124m\"\u001b[39m\u001b[38;5;124m-\u001b[39m\u001b[38;5;124m\"\u001b[39m)\n\u001b[1;32m     17\u001b[0m \u001b[38;5;28;01mfor\u001b[39;00m \u001b[38;5;28mtype\u001b[39m \u001b[38;5;129;01min\u001b[39;00m temp:\n\u001b[0;32m---> 18\u001b[0m     types\u001b[38;5;241m.\u001b[39madd(\u001b[43mcuisine\u001b[49m)\n",
      "\u001b[0;31mNameError\u001b[0m: name 'cuisine' is not defined"
     ]
    }
   ],
   "source": [
    "for value in df[\"type\"]:\n",
    "    get_type(value)\n",
    "len(types)"
   ]
  },
  {
   "cell_type": "code",
   "execution_count": 22,
   "id": "4b47f5d1-d5f8-41d4-b9cf-7c967761e745",
   "metadata": {},
   "outputs": [
    {
     "data": {
      "text/plain": [
       "cost             float64\n",
       "rating_number    float64\n",
       "subzone           object\n",
       "type              object\n",
       "votes            float64\n",
       "groupon             bool\n",
       "cost_2           float64\n",
       "dtype: object"
      ]
     },
     "execution_count": 22,
     "metadata": {},
     "output_type": "execute_result"
    }
   ],
   "source": [
    "df.dtypes"
   ]
  }
 ],
 "metadata": {
  "kernelspec": {
   "display_name": "Python 3 (ipykernel)",
   "language": "python",
   "name": "python3"
  },
  "language_info": {
   "codemirror_mode": {
    "name": "ipython",
    "version": 3
   },
   "file_extension": ".py",
   "mimetype": "text/x-python",
   "name": "python",
   "nbconvert_exporter": "python",
   "pygments_lexer": "ipython3",
   "version": "3.10.8"
  }
 },
 "nbformat": 4,
 "nbformat_minor": 5
}
