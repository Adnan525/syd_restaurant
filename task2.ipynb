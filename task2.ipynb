{
 "cells": [
  {
   "cell_type": "code",
   "execution_count": 1,
   "id": "dbed088e-5d1b-428c-982c-18e460920177",
   "metadata": {},
   "outputs": [],
   "source": [
    "import warnings\n",
    "warnings.filterwarnings(\"ignore\")"
   ]
  },
  {
   "cell_type": "code",
   "execution_count": 2,
   "id": "085971f7-fd31-424b-8ff0-79481644848c",
   "metadata": {},
   "outputs": [],
   "source": [
    "import numpy as np\n",
    "import pandas as pd\n",
    "import geopandas\n",
    "from shapely.geometry import Point"
   ]
  },
  {
   "cell_type": "code",
   "execution_count": 6,
   "id": "df860de8-fd58-4de7-b418-171b8cf15355",
   "metadata": {},
   "outputs": [],
   "source": [
    "df_full = pd.read_csv(\"data/zomato_df_final_data.csv\")"
   ]
  },
  {
   "cell_type": "code",
   "execution_count": 4,
   "id": "aa97e4af-8b39-4688-9e97-329672d13a9f",
   "metadata": {},
   "outputs": [],
   "source": [
    "gdf = geopandas.read_file(\"data/sydney.geojson\")"
   ]
  },
  {
   "cell_type": "code",
   "execution_count": 5,
   "id": "03a25902-861e-4264-8b15-388882328b1f",
   "metadata": {},
   "outputs": [
    {
     "data": {
      "text/plain": [
       "Index(['address', 'cost', 'cuisine', 'lat', 'link', 'lng', 'phone',\n",
       "       'rating_number', 'rating_text', 'subzone', 'title', 'type', 'votes',\n",
       "       'groupon', 'color', 'cost_2', 'cuisine_color'],\n",
       "      dtype='object')"
      ]
     },
     "execution_count": 5,
     "metadata": {},
     "output_type": "execute_result"
    }
   ],
   "source": [
    "df.columns"
   ]
  },
  {
   "cell_type": "code",
   "execution_count": 7,
   "id": "eb25af1c-dc61-4509-9bd3-55f18f1b31f0",
   "metadata": {},
   "outputs": [],
   "source": [
    "# haven't decided what to do with cuisine\n",
    "df = df_full.drop(columns = [\"address\", \"link\", \"phone\", \"title\"], axis = 1)"
   ]
  },
  {
   "cell_type": "code",
   "execution_count": 25,
   "id": "e0dfa3db-36c8-4832-a756-517b0a3236bf",
   "metadata": {},
   "outputs": [
    {
     "data": {
      "text/plain": [
       "cost             float64\n",
       "cuisine           object\n",
       "lat              float64\n",
       "lng              float64\n",
       "rating_number    float64\n",
       "subzone           object\n",
       "type              object\n",
       "votes            float64\n",
       "groupon            int64\n",
       "cost_2           float64\n",
       "address           object\n",
       "dtype: object"
      ]
     },
     "execution_count": 25,
     "metadata": {},
     "output_type": "execute_result"
    }
   ],
   "source": [
    "df.dtypes"
   ]
  },
  {
   "cell_type": "code",
   "execution_count": 10,
   "id": "3ce30e9b-e35f-4a66-9c5f-1017798ed18d",
   "metadata": {},
   "outputs": [],
   "source": [
    "# for regression 1 we wont use rating_text\n",
    "df = df.drop(columns = [\"rating_text\"], axis = 1)"
   ]
  },
  {
   "cell_type": "code",
   "execution_count": 12,
   "id": "5518a9c9-c6f2-4100-a62c-ea8455721233",
   "metadata": {},
   "outputs": [
    {
     "data": {
      "text/plain": [
       "5"
      ]
     },
     "execution_count": 12,
     "metadata": {},
     "output_type": "execute_result"
    }
   ],
   "source": [
    "len(df.cuisine_color.unique())\n",
    "# not sure why we have this"
   ]
  },
  {
   "cell_type": "code",
   "execution_count": 14,
   "id": "01f3d7f0-3026-4900-98d8-ea359f523377",
   "metadata": {},
   "outputs": [],
   "source": [
    "# do some feature engineering\n",
    "df.groupon = df.groupon.astype(int)"
   ]
  },
  {
   "cell_type": "code",
   "execution_count": 17,
   "id": "e7068964-a7d4-487a-a7b9-cd4d302b7698",
   "metadata": {},
   "outputs": [],
   "source": [
    "df = df.drop(columns = [\"color\", \"cuisine_color\"], axis = 1)"
   ]
  },
  {
   "cell_type": "code",
   "execution_count": 26,
   "id": "92912805-9c83-4aab-aa1d-4291fcec92a1",
   "metadata": {},
   "outputs": [
    {
     "data": {
      "text/plain": [
       "cost              346\n",
       "cuisine             0\n",
       "lat               192\n",
       "lng               192\n",
       "rating_number    3316\n",
       "subzone             0\n",
       "type               48\n",
       "votes            3316\n",
       "groupon             0\n",
       "cost_2            346\n",
       "address             0\n",
       "dtype: int64"
      ]
     },
     "execution_count": 26,
     "metadata": {},
     "output_type": "execute_result"
    }
   ],
   "source": [
    "df.isna().sum()"
   ]
  },
  {
   "cell_type": "code",
   "execution_count": 24,
   "id": "f33d72d8-6339-4031-b5aa-595d848974f0",
   "metadata": {},
   "outputs": [],
   "source": [
    "# bringing address to see in helps\n",
    "df[\"address\"] = df_full[\"address\"]"
   ]
  },
  {
   "cell_type": "code",
   "execution_count": 30,
   "id": "109c893b-613a-4296-b976-f8e481cf83d9",
   "metadata": {},
   "outputs": [
    {
     "data": {
      "text/plain": [
       "156       Level 4 & 5, Citymark, 683-689 George Street,...\n",
       "317       Level 3, North End, QVB, 455 George Street, \\...\n",
       "438       The Cannery, Shop 1/34 Morley Avenue, Roseber...\n",
       "468       Shop 5, 302 Church Street (enter via Phillip ...\n",
       "573                    Lower Ground, 55 York Street, \\tCBD\n",
       "                               ...                        \n",
       "10387     Ground Level, Forestville Centre, Starkey Str...\n",
       "10477     Food Court, Greenway Plaza, 210 Church Street...\n",
       "10483                  14 Bunlunga Lane, Mona Vale, Sydney\n",
       "10491     Shop 2, Coogee Village Shopping Centre, 184 C...\n",
       "10499            136 Sailors Bay Road, Northbridge, Sydney\n",
       "Name: address, Length: 192, dtype: object"
      ]
     },
     "execution_count": 30,
     "metadata": {},
     "output_type": "execute_result"
    }
   ],
   "source": [
    "temp = df[df.lat.isna()]\n",
    "temp.address"
   ]
  },
  {
   "cell_type": "code",
   "execution_count": 36,
   "id": "aa337cc8-8982-4e69-99d2-958845ce953c",
   "metadata": {},
   "outputs": [],
   "source": [
    "from geopy.geocoders import Nominatim\n",
    "from geopy.exc import GeocoderTimedOut"
   ]
  },
  {
   "cell_type": "code",
   "execution_count": null,
   "id": "ac3d34bf-4d9f-43d1-b582-b839959fd9f7",
   "metadata": {},
   "outputs": [
    {
     "name": "stdout",
     "output_type": "stream",
     "text": [
      "0. address :  Level 4 & 5, Citymark, 683-689 George Street, Chinatown\n",
      "An error occurred: Max retries exceeded\n",
      "1. address :  Level 3, North End, QVB, 455 George Street, \tCBD\n",
      "Address not found.\n",
      "2. address :  The Cannery, Shop 1/34 Morley Avenue, Rosebery, Sydney\n",
      "An error occurred: Max retries exceeded\n",
      "3. address :  Shop 5, 302 Church Street (enter via Phillip Street), Parramatta, Sydney\n",
      "An error occurred: Max retries exceeded\n",
      "4. address :  Lower Ground, 55 York Street, \tCBD\n",
      "An error occurred: Max retries exceeded\n",
      "5. address :  Shop LG 09, 75-79 Hall Street, Bondi Beach, Sydney\n",
      "An error occurred: Max retries exceeded\n",
      "6. address :  Second floor, Old Rum Store\n",
      "10-12 Kensington Street, Chippendale, Sydney\n",
      "An error occurred: Max retries exceeded\n",
      "7. address :  T3.03B, Mercantile Walk, Barangaroo South, Barangaroo, Sydney\n",
      "Address not found.\n",
      "8. address :  18 Parkers Farm Place, Corner of Beach Road, Camden Valley Way, Casula, Sydney\n",
      "An error occurred: Max retries exceeded\n",
      "9. address :  Shop 1, Corner of Boundary Street and Ivy Lane, 74-80 Ivy Lane, Darlington, Sydney\n",
      "An error occurred: Max retries exceeded\n",
      "10. address :  56 York Lane, Near Wynyard Station, \tCBD\n",
      "An error occurred: Max retries exceeded\n",
      "11. address :  172/100 Burwood Road, Burwood, Sydney,         Westfield Main Entrance\n",
      "An error occurred: Max retries exceeded\n",
      "12. address :  790 Canterbury Road (Enter via Allegra Avenue), Belmore, Sydney\n",
      "An error occurred: Max retries exceeded\n",
      "13. address :  The Passage, 320-324 Pitt Street, CBD, Sydney\n",
      "An error occurred: Max retries exceeded\n",
      "14. address :  Shop 7, 376 Victoria Avenue (Entrance via Anderson Street), Chatswood, Sydney\n",
      "An error occurred: Max retries exceeded\n",
      "15. address :  192 Leura Mall, Corner Megalong Street, Leura, Sydney\n",
      "Address not found.\n",
      "16. address :  Level 1, Pitt Street entrance, Corner of Pitt and Alfred Street, Circular Quay, Sydney\n",
      "An error occurred: Max retries exceeded\n",
      "17. address :  95 Hall Street, Bondi Beach, Sydney\n",
      "Latitude: -33.88893305, Longitude: 151.27091583513192\n",
      "18. address :  Shop 39, 17-19 Hassall Street, Parramatta, Sydney\n",
      "An error occurred: Max retries exceeded\n",
      "19. address :  7 Belmore Road , Randwick\n",
      "Latitude: -33.9178103, Longitude: 151.2418571\n",
      "20. address :  Shop 6, 248 Palmer Street, Republic 2 Courtyard, Darlinghurst, Sydney\n",
      "Address not found.\n",
      "21. address :  The Promenade Maroubra Beachmarine Pde, Maroubra, Sydney\n",
      "Address not found.\n",
      "22. address :  227 Oxford Street, Darlinghurst, Sydney\n",
      "Latitude: -33.8815483, Longitude: 151.2188769\n",
      "23. address :  178A Curlewis Street (Corner of Curlewis Street and Gould Street), Bondi Beach, Sydney\n",
      "An error occurred: Max retries exceeded\n",
      "24. address :  Shop 54, QVB, 429-481 George Street, \tCBD\n",
      "An error occurred: Max retries exceeded\n",
      "25. address :  15/16 Cosmopolitan Centre, Corner of Short and Bay Street, Double Bay, Sydney\n",
      "Address not found.\n",
      "26. address :  Shop 330 Millennium Tower 289-295 Sussex Street, enter via Bathurst Street , Sydney, CBD, Sydney\n",
      "An error occurred: Max retries exceeded\n",
      "27. address :  Shop H4, Hunter Arcade, Wynyard Station, CBD, Sydney\n",
      "Address not found.\n",
      "28. address :  5 Arden Street, Coogee, Sydney\n",
      "Latitude: -33.9257792, Longitude: 151.2557211\n",
      "29. address :  Shop 2, Cote D’Azur Building, 2 Kingsway\n",
      "An error occurred: Max retries exceeded\n",
      "30. address :  Grace Hotel, Corner of York & King Streets, 77 York Street, \tCBD\n",
      "An error occurred: Max retries exceeded\n",
      "31. address :  339 Penshurst Street, Chatswood North, Chatswood, Sydney\n",
      "Latitude: -33.789791, Longitude: 151.1943292\n",
      "32. address :  The Passage, 320-324 Pitt Street, CBD, Sydney\n",
      "An error occurred: Max retries exceeded\n",
      "33. address :  Cnr Camden & Appin Roads, Campbelltown, Sydney\n",
      "Address not found.\n",
      "34. address :  Capital Square, G12/730-742 George Street, \tChinatown\n",
      "An error occurred: Max retries exceeded\n",
      "35. address :  Shop 2, 125 Harris Street,\n",
      "(Enter from Miller Street), Pyrmont, Sydney\n",
      "An error occurred: Max retries exceeded\n",
      "36. address :  T2 Sydney Domestic Airport (Near Gate 32, After Security), Airport Drive, Sydney Airport, Sydney\n",
      "An error occurred: Max retries exceeded\n",
      "37. address :  8 Railway Parade, Thornleigh, Sydney, Pennant Hills, Sydney\n",
      "Address not found.\n",
      "38. address :  Shops 613 & 614, 39-55 St Pauls Street, Randwick\n",
      "An error occurred: Max retries exceeded\n",
      "39. address :  Shop 2B, MLC Building, 105-152 Miller Street, \tNorth Sydney, North Sydney, Sydney\n",
      "An error occurred: Max retries exceeded\n",
      "40. address :  Shop 17, Grosvenor Street, \tCBD\n",
      "Latitude: -33.8633671, Longitude: 151.206493\n",
      "41. address :  Shop 1, 827-829 George st, haymarket ( use the stairs next to TSG store on George to go down to the tunnel ,then turn left)\n"
     ]
    }
   ],
   "source": [
    "i = 0\n",
    "for address in temp.address : \n",
    "    print(f\"{i}. address : {address}\")\n",
    "    i += 1\n",
    "    try : \n",
    "        geolocator = Nominatim(user_agent=\"address_to_ssc_code\")\n",
    "        location = geolocator.geocode(address)\n",
    "        if location:\n",
    "            latitude, longitude = location.latitude, location.longitude\n",
    "            print(f\"Latitude: {latitude}, Longitude: {longitude}\")\n",
    "        else:\n",
    "            print(\"Address not found.\")\n",
    "    except GeocoderTimedOut:\n",
    "        print(\"Geocoding service timed out. Address not found.\")\n",
    "    except Exception as e:\n",
    "        print(f\"An error occurred: Max retries exceeded\")\n",
    "    \n"
   ]
  }
 ],
 "metadata": {
  "kernelspec": {
   "display_name": "Python 3 (ipykernel)",
   "language": "python",
   "name": "python3"
  },
  "language_info": {
   "codemirror_mode": {
    "name": "ipython",
    "version": 3
   },
   "file_extension": ".py",
   "mimetype": "text/x-python",
   "name": "python",
   "nbconvert_exporter": "python",
   "pygments_lexer": "ipython3",
   "version": "3.10.8"
  }
 },
 "nbformat": 4,
 "nbformat_minor": 5
}
